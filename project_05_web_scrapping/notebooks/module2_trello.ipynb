{
 "cells": [
  {
   "cell_type": "markdown",
   "metadata": {},
   "source": [
    "# Objective\n",
    "- get all boards\n",
    "- get all list of board\n",
    "- create list \n",
    "  - create card\n",
    "- automate review\n",
    "- finish review"
   ]
  },
  {
   "cell_type": "markdown",
   "metadata": {},
   "source": [
    "# Setup dependencies"
   ]
  },
  {
   "cell_type": "code",
   "execution_count": 1,
   "metadata": {},
   "outputs": [],
   "source": [
    "from trello import TrelloClient\n",
    "import yaml"
   ]
  },
  {
   "cell_type": "code",
   "execution_count": 2,
   "metadata": {},
   "outputs": [
    {
     "name": "stderr",
     "output_type": "stream",
     "text": [
      "/Users/deniel.horvatic/repository/machine-learning-masterclass/project_05_web_scrapping/venv/lib/python3.6/site-packages/ipykernel_launcher.py:2: YAMLLoadWarning: calling yaml.load() without Loader=... is deprecated, as the default Loader is unsafe. Please read https://msg.pyyaml.org/load for full details.\n",
      "  \n"
     ]
    }
   ],
   "source": [
    "with open(\"../config.yml\", 'r') as ymlfile:\n",
    "    trello_config = yaml.load(ymlfile)"
   ]
  },
  {
   "cell_type": "code",
   "execution_count": 3,
   "metadata": {},
   "outputs": [
    {
     "data": {
      "text/plain": [
       "<trello.trelloclient.TrelloClient at 0x1140a89e8>"
      ]
     },
     "execution_count": 3,
     "metadata": {},
     "output_type": "execute_result"
    }
   ],
   "source": [
    "api_key = trello_config['trello']['api_key'] \n",
    "token = trello_config['trello']['token'] \n",
    "client = TrelloClient(\n",
    "    api_key=api_key,\n",
    "    token=token,\n",
    ")\n",
    "\n",
    "# token_secret='211d6e659f529df42341ce6447f627e628ecc5818ebd1619c4910dc87ea8eff2'\n",
    "#api_secret='your-secret',\n",
    "client\n"
   ]
  },
  {
   "cell_type": "markdown",
   "metadata": {},
   "source": [
    "# Playfield"
   ]
  },
  {
   "cell_type": "code",
   "execution_count": 4,
   "metadata": {
    "scrolled": true
   },
   "outputs": [
    {
     "name": "stdout",
     "output_type": "stream",
     "text": [
      "Berlin Hackathon – DEPRECATED\n",
      "DREAM SKILL MANAGE LIFEOBJECT\n",
      "Data Scientist / Machine Learner\n",
      "Dream Backlog v2\n",
      "Dream Board\n",
      "Dream Consultant\n",
      "Dream Epic Month\n",
      "Dream Planning\n",
      "Dream Realisation (HEALTH, JOY, FUN, LOVE, SKILL, IT, FAMILY, CREATIVE, EVENTS )\n",
      "Dream Realisation V10\n",
      "Dream Realisation v2\n",
      "Dream Realisation v2\n",
      "Dream Realisation v3\n",
      "Dream Realisation v4.1  - Engagement for Results\n",
      "Dream Realisation v8\n",
      "Dream Realisation v9.6 - Viva la revolution\n",
      "Dream Stock Market\n",
      "Dream Strength Power Improvement INNER GAME\n",
      "Dream events and off topic\n",
      "Enriko Dream Board\n",
      "Enriko Dream Board 2\n",
      "Enriko Dream Bord V3\n",
      "Fitness\n",
      "GabuBoss App\n",
      "Health & Personal Development & Teacher & Blogger & Finance\n",
      "Heritage in Blockchain - Backlog\n",
      "Hrvatski\n",
      "MHP Board\n",
      "MHP Results v2.0\n",
      "News\n",
      "Phase A\n",
      "Polish\n",
      "Punchtime Getting Started Tour\n",
      "Review V1\n",
      "Review v2\n",
      "Sprint 1 - Heritage in a Blockchain\n",
      "Sprint 2 - Heritage in a Blockchain\n",
      "Sprint 3 - Heritage in a blockchain\n",
      "Sprint 4 - Heritage in a blockchain\n",
      "Sprint 5 - Heritage in a Blockchain\n",
      "Sprint 6 - Heritage in a Blockchain\n",
      "Sprint 7 - Heritage in a blockchain\n",
      "Success Stories and thoughts\n",
      "Trellius User Data\n",
      "Willkommens-Board\n",
      "Xain Hackathon\n",
      "university of life\n"
     ]
    }
   ],
   "source": [
    "all_boards = client.list_boards()\n",
    "for board in all_boards:\n",
    "    print(board.name)"
   ]
  },
  {
   "cell_type": "code",
   "execution_count": 5,
   "metadata": {},
   "outputs": [],
   "source": [
    "def get_board_by(name='Dream Realisation V10'):\n",
    "    for board in all_boards:\n",
    "        if board.name == name:\n",
    "            return board "
   ]
  },
  {
   "cell_type": "code",
   "execution_count": 6,
   "metadata": {},
   "outputs": [
    {
     "data": {
      "text/plain": [
       "'Dream Realisation V10'"
      ]
     },
     "execution_count": 6,
     "metadata": {},
     "output_type": "execute_result"
    }
   ],
   "source": [
    "board = get_board_by()\n",
    "board.name"
   ]
  },
  {
   "cell_type": "code",
   "execution_count": 7,
   "metadata": {
    "scrolled": true
   },
   "outputs": [
    {
     "data": {
      "text/plain": [
       "[<List Left Overs / Lost Dreams>,\n",
       " <List Lost Options KW 12-13>,\n",
       " <List Archive KW 12-13>,\n",
       " <List Left Overs / Lost Dreams>,\n",
       " <List Left Overs / Lost Dreams>,\n",
       " <List Just you my friend - Feedback Time / Brain Dump>,\n",
       " <List Left Overs / Lost Dreams>,\n",
       " <List Idead to order>,\n",
       " <List Ideas>,\n",
       " <List Motivation>,\n",
       " <List What Problem Does This Board Solve?>,\n",
       " <List Heatphase 4>,\n",
       " <List Active Goal / Results>,\n",
       " <List Feedback>,\n",
       " <List Sum Phase 1>,\n",
       " <List Take me to next sprint>,\n",
       " <List Options>,\n",
       " <List Active Batttlefield Aftermath>,\n",
       " <List Action Options Backlog>,\n",
       " <List Active Battlefield>,\n",
       " <List Lost Options KW 12-13>,\n",
       " <List Lost Options Q2 1>,\n",
       " <List Socials Backlog>,\n",
       " <List Work Socials>,\n",
       " <List Socials>,\n",
       " <List Archive KW 1>,\n",
       " <List Social Old>,\n",
       " <List Weekend Adventure>,\n",
       " <List Archive KW 6-9>,\n",
       " <List Travel Advr>,\n",
       " <List Rewards next in line>,\n",
       " <List Temp Copy>,\n",
       " <List Rewards>,\n",
       " <List Rewards>,\n",
       " <List TEMP>,\n",
       " <List Slot1>,\n",
       " <List Options - Enjoyment/Refreshment/Vacation>,\n",
       " <List Habits>,\n",
       " <List To-Feel>,\n",
       " <List To-Be>,\n",
       " <List TEMP>,\n",
       " <List Left Overs / Lost Dreams>,\n",
       " <List Archive KW TEMPLATE>,\n",
       " <List Lost Options KW TEMPLATE>,\n",
       " <List Heatphase 3>,\n",
       " <List Refresh Phase 1>,\n",
       " <List Whatever Phase 1>,\n",
       " <List Heatphase 4>,\n",
       " <List Sum Phase 2>,\n",
       " <List Time Average>,\n",
       " <List Refresh/Reward Phase 1>,\n",
       " <List Bucket List>,\n",
       " <List Review KW 5>,\n",
       " <List Review KW 4>,\n",
       " <List Review KW 3>,\n",
       " <List Battlefield>,\n",
       " <List Options - Value Contribution>,\n",
       " <List Ideas to sort>,\n",
       " <List Important>,\n",
       " <List To Sort>,\n",
       " <List Options - Learn>,\n",
       " <List Helpful>,\n",
       " <List Improvement>,\n",
       " <List Options - Relationship>,\n",
       " <List REMOVE>,\n",
       " <List Refresh Phase 1>,\n",
       " <List Heatphase 3>,\n",
       " <List Refresh / Reward Phase 1>,\n",
       " <List Whatever Sum Relax Phase 3>,\n",
       " <List Options - Asset>,\n",
       " <List Review/Prephase/Research 1>,\n",
       " <List Options - Enjoyment/Refreshment/Vacation>,\n",
       " <List TEMP>,\n",
       " <List health>,\n",
       " <List Take me to next sprint Q2>,\n",
       " <List Year 2019 Q2 - 27 - XXXX weeks>,\n",
       " <List Backlog Goals>,\n",
       " <List Options - Ease up your life>,\n",
       " <List Year 2019 Q3 - 27 - XXXX weeks>,\n",
       " <List Options - Health>,\n",
       " <List Year (until December 2019) - 27y - 4069 weeks>,\n",
       " <List Year 2020 Q1 - 27 - XXXX weeks>,\n",
       " <List Year (Until December 2020)>,\n",
       " <List 5 Years (until 12/2023) - 31y - 3861 weeks>,\n",
       " <List 10 Years (Until 12/2028) - 36 - 3600 weeks>,\n",
       " <List 25 Years (Until 12/2053) - 51 Golden Age - 2295 weeks>,\n",
       " <List 50 Years (Until 12/2078) - 76 Retirement - 991 weeks>,\n",
       " <List DENIELS LIFE (until 06/2097)>]"
      ]
     },
     "execution_count": 7,
     "metadata": {},
     "output_type": "execute_result"
    }
   ],
   "source": [
    "lists = board.all_lists()\n",
    "lists"
   ]
  },
  {
   "cell_type": "code",
   "execution_count": 8,
   "metadata": {},
   "outputs": [],
   "source": [
    "def get_list_by(name):\n",
    "    for list in lists:\n",
    "        if list.name == name:\n",
    "            return list"
   ]
  },
  {
   "cell_type": "code",
   "execution_count": 9,
   "metadata": {},
   "outputs": [
    {
     "data": {
      "text/plain": [
       "[<List Archive KW TEMPLATE>, <List Lost Options KW TEMPLATE>]"
      ]
     },
     "execution_count": 9,
     "metadata": {},
     "output_type": "execute_result"
    }
   ],
   "source": [
    "review_lists = []\n",
    "review_lists.append(get_list_by('Archive KW TEMPLATE'))\n",
    "review_lists.append(get_list_by('Lost Options KW TEMPLATE'))\n",
    "review_lists"
   ]
  },
  {
   "cell_type": "code",
   "execution_count": 10,
   "metadata": {
    "scrolled": true
   },
   "outputs": [
    {
     "data": {
      "text/plain": [
       "[<Card Top>,\n",
       " <Card Huge Fullfillment>,\n",
       " <Card Life Improvement>,\n",
       " <Card Please no Repeat>,\n",
       " <Card What has to be done>]"
      ]
     },
     "execution_count": 10,
     "metadata": {},
     "output_type": "execute_result"
    }
   ],
   "source": [
    "cards = review_lists[0].list_cards()\n",
    "cards"
   ]
  },
  {
   "cell_type": "code",
   "execution_count": 11,
   "metadata": {},
   "outputs": [],
   "source": [
    "# COPY LIST\n",
    "def copy_list(name, new_name):\n",
    "    cards = get_list_by(name).list_cards()\n",
    "    new_list = board.add_list(new_name,1)\n",
    "    for card in cards:\n",
    "        new_list.add_card(name=card.name,labels=card.labels)"
   ]
  },
  {
   "cell_type": "code",
   "execution_count": 39,
   "metadata": {},
   "outputs": [],
   "source": [
    "copy_list('Archive KW TEMPLATE','Archive KW 12-13')\n",
    "copy_list('Lost Options KW TEMPLATE','Lost Options KW 12-13')"
   ]
  },
  {
   "cell_type": "markdown",
   "metadata": {},
   "source": [
    "# Automate review [Work in Progress]"
   ]
  },
  {
   "cell_type": "markdown",
   "metadata": {},
   "source": [
    "## Move to review board"
   ]
  },
  {
   "cell_type": "code",
   "execution_count": null,
   "metadata": {},
   "outputs": [],
   "source": []
  },
  {
   "cell_type": "markdown",
   "metadata": {},
   "source": [
    "# Finish review"
   ]
  },
  {
   "cell_type": "code",
   "execution_count": null,
   "metadata": {},
   "outputs": [],
   "source": []
  },
  {
   "cell_type": "code",
   "execution_count": null,
   "metadata": {},
   "outputs": [],
   "source": []
  }
 ],
 "metadata": {
  "kernelspec": {
   "display_name": "venv",
   "language": "python",
   "name": "venv"
  },
  "language_info": {
   "codemirror_mode": {
    "name": "ipython",
    "version": 3
   },
   "file_extension": ".py",
   "mimetype": "text/x-python",
   "name": "python",
   "nbconvert_exporter": "python",
   "pygments_lexer": "ipython3",
   "version": "3.6.0"
  }
 },
 "nbformat": 4,
 "nbformat_minor": 2
}
