{
 "cells": [
  {
   "cell_type": "markdown",
   "metadata": {},
   "source": [
    "# Evaluation\n",
    "\n",
    "Measuring the quality of a classifier is a neccesary step in order to potentially improve it. The main metrics for Text Classification are: \n",
    "\n",
    "- Precision: Number of documents correctly assigned to a category out of the total number of documents predicted\n",
    "- Recall: Number of documents correctly assigned to a category out of the total number of documents in such category\n",
    "- F1: Metric that combines precision and recall using a harmonic mean"
   ]
  },
  {
   "cell_type": "code",
   "execution_count": 6,
   "metadata": {},
   "outputs": [
    {
     "name": "stdout",
     "output_type": "stream",
     "text": [
      "Micro-average quality numbers\n",
      "Precision: 1.0000, Recall: 0.5000, F1-measure: 0.6667\n",
      "Precision: 1.0000, Recall: 0.5000, F1-measure: 0.6667\n"
     ]
    }
   ],
   "source": [
    "from sklearn.metrics import f1_score, precision_score, recall_score\n",
    "\n",
    "# Binary problem\n",
    "binary_labels = [1, 0, 1]\n",
    "binary_predictions = [1, 0, 0]\n",
    "\n",
    "# Quality values (with respect to class 1 by default)\n",
    "# Show our quality\n",
    "precision = precision_score(binary_labels, binary_predictions)\n",
    "recall = recall_score(binary_labels, binary_predictions)\n",
    "f1 = f1_score(binary_labels, binary_predictions)\n",
    "print(\"Micro-average quality numbers\")\n",
    "print(\"Precision: {:.4f}, Recall: {:.4f}, F1-measure: {:.4f}\".format(precision,\n",
    "                                                                     recall,\n",
    "                                                                     f1))\n",
    "\n",
    "binary_labels = [\"A\", \"B\", \"A\"]\n",
    "binary_predictions = [\"A\", \"B\", \"B\"]\n",
    "precision = precision_score(binary_labels, binary_predictions, pos_label=\"A\")\n",
    "recall = recall_score(binary_labels, binary_predictions, pos_label=\"A\")\n",
    "f1 = f1_score(binary_labels, binary_predictions, pos_label=\"A\")\n",
    "print(\"Precision: {:.4f}, Recall: {:.4f}, F1-measure: {:.4f}\".format(precision,\n",
    "                                                                     recall,\n",
    "                                                                     f1))"
   ]
  },
  {
   "cell_type": "markdown",
   "metadata": {},
   "source": [
    "Evaluation in Multi-class scenarios is slighly more complicated because the quality metrics have to be either shown per category, or aggregated somehow. There are two main aggregation approaches:\n",
    "\n",
    "- Micro-average: Every assignment (document, label) has the same importance. Common categories has more effect over the aggregate quality than smaller ones.\n",
    "- Macro-average: The quality for each category is calcualted independently and their average is reported. Therefore, all the categories are equally important."
   ]
  },
  {
   "cell_type": "code",
   "execution_count": 7,
   "metadata": {},
   "outputs": [
    {
     "name": "stdout",
     "output_type": "stream",
     "text": [
      "Precision per category (0, 1, 2) [ 1.   0.5  0. ]\n",
      "\n",
      "Micro-average quality numbers\n",
      "Precision: 0.7500, Recall: 0.7500, F1-measure: 0.7500\n",
      "Macro-average quality numbers\n",
      "Precision: 0.5000, Recall: 0.5000, F1-measure: 0.5000\n"
     ]
    }
   ],
   "source": [
    "# Multi-Class\n",
    "multi_class_labels =      [0, 0, 0, 0, 0, 1, 1, 2]\n",
    "multi_class_predictions = [0, 0, 0, 0, 0, 1, 2, 1]\n",
    "\n",
    "# Quality must be given per category or aggregated when dealing with multiclass data\n",
    "class_precisions = precision_score(multi_class_labels, multi_class_predictions, average=None)\n",
    "precision = precision_score(multi_class_labels, multi_class_predictions, average='micro')\n",
    "recall = recall_score(multi_class_labels, multi_class_predictions, average='micro')\n",
    "f1 = f1_score(multi_class_labels, multi_class_predictions, average='micro')\n",
    "\n",
    "print(\"Precision per category (0, 1, 2) {}\".format(class_precisions))\n",
    "print()\n",
    "print(\"Micro-average quality numbers\")\n",
    "print(\"Precision: {:.4f}, Recall: {:.4f}, F1-measure: {:.4f}\".format(precision,\n",
    "                                                                     recall,\n",
    "                                                                     f1))\n",
    "                                   \n",
    "precision = precision_score(multi_class_labels, multi_class_predictions, average='macro')\n",
    "recall = recall_score(multi_class_labels, multi_class_predictions, average='macro')\n",
    "f1 = f1_score(multi_class_labels, multi_class_predictions,average='macro')\n",
    "print(\"Macro-average quality numbers\")\n",
    "print(\"Precision: {:.4f}, Recall: {:.4f}, F1-measure: {:.4f}\".format(precision,\n",
    "                                                                     recall,\n",
    "                                                                     f1))                                  "
   ]
  },
  {
   "cell_type": "code",
   "execution_count": 8,
   "metadata": {},
   "outputs": [
    {
     "name": "stdout",
     "output_type": "stream",
     "text": [
      "Micro-average quality numbers\n",
      "Precision: 0.7500, Recall: 0.7500, F1-measure: 0.7500\n",
      "Macro-average quality numbers\n",
      "Precision: 0.5000, Recall: 0.6667, F1-measure: 0.5556\n"
     ]
    }
   ],
   "source": [
    "from sklearn.preprocessing import MultiLabelBinarizer\n",
    "from sklearn.metrics import f1_score, precision_score, recall_score\n",
    "\n",
    "# Multi-Label\n",
    "multi_class_labels =      [[0], [0], [0], [0], [0], [1], [1], [2]]\n",
    "multi_class_predictions = [[0], [0], [0], [0], [0], [], [2], [1, 2]]\n",
    "\n",
    "mlb = MultiLabelBinarizer()\n",
    "binarised_labels = mlb.fit_transform(multi_class_labels)\n",
    "binarised_decisions = mlb.transform(multi_class_predictions)\n",
    "\n",
    "precision = precision_score(binarised_labels, binarised_decisions, average='micro')\n",
    "recall = recall_score(binarised_labels, binarised_decisions, average='micro')\n",
    "f1 = f1_score(binarised_labels, binarised_decisions, average='micro')\n",
    "print(\"Micro-average quality numbers\")\n",
    "print(\"Precision: {:.4f}, Recall: {:.4f}, F1-measure: {:.4f}\".format(precision,\n",
    "                                                                     recall,\n",
    "                                                                     f1))\n",
    "\n",
    "precision = precision_score(binarised_labels, binarised_decisions, average='macro')\n",
    "recall = recall_score(binarised_labels, binarised_decisions, average='macro')\n",
    "f1 = f1_score(binarised_labels, binarised_decisions, average='macro')\n",
    "print(\"Macro-average quality numbers\")\n",
    "print(\"Precision: {:.4f}, Recall: {:.4f}, F1-measure: {:.4f}\".format(precision,\n",
    "                                                                     recall,\n",
    "                                                                     f1))"
   ]
  },
  {
   "cell_type": "code",
   "execution_count": null,
   "metadata": {
    "collapsed": true
   },
   "outputs": [],
   "source": []
  }
 ],
 "metadata": {
  "kernelspec": {
   "display_name": "venv",
   "language": "python",
   "name": "venv"
  },
  "language_info": {
   "codemirror_mode": {
    "name": "ipython",
    "version": 3
   },
   "file_extension": ".py",
   "mimetype": "text/x-python",
   "name": "python",
   "nbconvert_exporter": "python",
   "pygments_lexer": "ipython3",
   "version": "3.6.0"
  },
  "widgets": {
   "state": {},
   "version": "1.1.2"
  }
 },
 "nbformat": 4,
 "nbformat_minor": 1
}
