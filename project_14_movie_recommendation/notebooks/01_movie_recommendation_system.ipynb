{
 "cells": [
  {
   "cell_type": "markdown",
   "metadata": {},
   "source": [
    "# Building a Movie Recommendation System"
   ]
  },
  {
   "cell_type": "markdown",
   "metadata": {},
   "source": [
    "#### Get the data"
   ]
  },
  {
   "cell_type": "code",
   "execution_count": 1,
   "metadata": {},
   "outputs": [],
   "source": [
    "ratings_data = \"../data/ml-100k/u.data\"\n",
    "movies_data = \"../data/ml-100k/u.item\""
   ]
  },
  {
   "cell_type": "code",
   "execution_count": 2,
   "metadata": {},
   "outputs": [],
   "source": [
    "from collections import defaultdict\n",
    "\n",
    "user_ratings = defaultdict(dict)\n",
    "movie_ratings = defaultdict(dict)\n",
    "\n",
    "with open(ratings_data, 'r') as f:\n",
    "    for line in f:\n",
    "        user, movie, stars, _ = line.split('\\t')\n",
    "        user_ratings[user][movie] = float(stars)\n",
    "        movie_ratings[movie][user] = float(stars)"
   ]
  },
  {
   "cell_type": "code",
   "execution_count": 3,
   "metadata": {},
   "outputs": [
    {
     "data": {
      "text/plain": [
       "943"
      ]
     },
     "execution_count": 3,
     "metadata": {},
     "output_type": "execute_result"
    }
   ],
   "source": [
    "len(user_ratings)"
   ]
  },
  {
   "cell_type": "code",
   "execution_count": 4,
   "metadata": {},
   "outputs": [
    {
     "data": {
      "text/plain": [
       "1682"
      ]
     },
     "execution_count": 4,
     "metadata": {},
     "output_type": "execute_result"
    }
   ],
   "source": [
    "len(movie_ratings)"
   ]
  },
  {
   "cell_type": "code",
   "execution_count": 5,
   "metadata": {},
   "outputs": [
    {
     "data": {
      "text/plain": [
       "{'61': 4.0,\n",
       " '189': 3.0,\n",
       " '33': 4.0,\n",
       " '160': 4.0,\n",
       " '20': 4.0,\n",
       " '202': 5.0,\n",
       " '171': 5.0,\n",
       " '265': 4.0,\n",
       " '155': 2.0,\n",
       " '117': 3.0,\n",
       " '47': 4.0,\n",
       " '222': 4.0,\n",
       " '253': 5.0,\n",
       " '113': 5.0,\n",
       " '227': 4.0,\n",
       " '17': 3.0,\n",
       " '90': 4.0,\n",
       " '64': 5.0,\n",
       " '92': 3.0,\n",
       " '228': 5.0,\n",
       " '266': 1.0,\n",
       " '121': 4.0,\n",
       " '114': 5.0,\n",
       " '132': 4.0,\n",
       " '74': 1.0,\n",
       " '134': 4.0,\n",
       " '98': 4.0,\n",
       " '186': 4.0,\n",
       " '221': 5.0,\n",
       " '84': 4.0,\n",
       " '31': 3.0,\n",
       " '70': 3.0,\n",
       " '60': 5.0,\n",
       " '177': 5.0,\n",
       " '27': 2.0,\n",
       " '260': 1.0,\n",
       " '145': 2.0,\n",
       " '174': 5.0,\n",
       " '159': 3.0,\n",
       " '82': 5.0,\n",
       " '56': 4.0,\n",
       " '272': 3.0,\n",
       " '80': 4.0,\n",
       " '229': 4.0,\n",
       " '140': 1.0,\n",
       " '225': 2.0,\n",
       " '235': 5.0,\n",
       " '120': 1.0,\n",
       " '125': 3.0,\n",
       " '215': 3.0,\n",
       " '6': 5.0,\n",
       " '104': 1.0,\n",
       " '49': 3.0,\n",
       " '206': 4.0,\n",
       " '76': 4.0,\n",
       " '72': 4.0,\n",
       " '185': 4.0,\n",
       " '96': 5.0,\n",
       " '213': 2.0,\n",
       " '233': 2.0,\n",
       " '258': 5.0,\n",
       " '81': 5.0,\n",
       " '78': 1.0,\n",
       " '212': 4.0,\n",
       " '143': 1.0,\n",
       " '151': 4.0,\n",
       " '51': 4.0,\n",
       " '175': 5.0,\n",
       " '107': 4.0,\n",
       " '218': 3.0,\n",
       " '209': 4.0,\n",
       " '259': 1.0,\n",
       " '108': 5.0,\n",
       " '262': 3.0,\n",
       " '12': 5.0,\n",
       " '14': 5.0,\n",
       " '97': 3.0,\n",
       " '44': 5.0,\n",
       " '53': 3.0,\n",
       " '163': 4.0,\n",
       " '210': 4.0,\n",
       " '184': 4.0,\n",
       " '157': 4.0,\n",
       " '201': 3.0,\n",
       " '150': 5.0,\n",
       " '183': 5.0,\n",
       " '248': 4.0,\n",
       " '208': 5.0,\n",
       " '128': 4.0,\n",
       " '242': 5.0,\n",
       " '148': 2.0,\n",
       " '112': 1.0,\n",
       " '193': 4.0,\n",
       " '264': 2.0,\n",
       " '219': 1.0,\n",
       " '232': 3.0,\n",
       " '236': 4.0,\n",
       " '252': 2.0,\n",
       " '200': 3.0,\n",
       " '180': 3.0,\n",
       " '250': 4.0,\n",
       " '85': 3.0,\n",
       " '91': 5.0,\n",
       " '10': 3.0,\n",
       " '254': 1.0,\n",
       " '129': 5.0,\n",
       " '241': 4.0,\n",
       " '130': 3.0,\n",
       " '255': 2.0,\n",
       " '103': 1.0,\n",
       " '118': 3.0,\n",
       " '54': 3.0,\n",
       " '267': 4.0,\n",
       " '24': 3.0,\n",
       " '86': 5.0,\n",
       " '196': 5.0,\n",
       " '39': 4.0,\n",
       " '164': 3.0,\n",
       " '230': 4.0,\n",
       " '36': 2.0,\n",
       " '23': 4.0,\n",
       " '224': 5.0,\n",
       " '73': 3.0,\n",
       " '67': 3.0,\n",
       " '65': 4.0,\n",
       " '190': 5.0,\n",
       " '100': 5.0,\n",
       " '226': 3.0,\n",
       " '243': 1.0,\n",
       " '154': 5.0,\n",
       " '214': 4.0,\n",
       " '161': 4.0,\n",
       " '62': 3.0,\n",
       " '188': 3.0,\n",
       " '102': 2.0,\n",
       " '69': 3.0,\n",
       " '170': 5.0,\n",
       " '38': 3.0,\n",
       " '9': 5.0,\n",
       " '246': 5.0,\n",
       " '22': 4.0,\n",
       " '21': 1.0,\n",
       " '179': 3.0,\n",
       " '187': 4.0,\n",
       " '135': 4.0,\n",
       " '68': 4.0,\n",
       " '146': 4.0,\n",
       " '176': 5.0,\n",
       " '166': 5.0,\n",
       " '138': 1.0,\n",
       " '247': 1.0,\n",
       " '89': 5.0,\n",
       " '2': 3.0,\n",
       " '30': 3.0,\n",
       " '63': 2.0,\n",
       " '249': 4.0,\n",
       " '269': 5.0,\n",
       " '32': 5.0,\n",
       " '141': 3.0,\n",
       " '211': 3.0,\n",
       " '40': 3.0,\n",
       " '270': 5.0,\n",
       " '133': 4.0,\n",
       " '239': 4.0,\n",
       " '194': 4.0,\n",
       " '256': 4.0,\n",
       " '220': 3.0,\n",
       " '93': 5.0,\n",
       " '8': 1.0,\n",
       " '205': 3.0,\n",
       " '234': 4.0,\n",
       " '105': 2.0,\n",
       " '147': 3.0,\n",
       " '99': 3.0,\n",
       " '1': 5.0,\n",
       " '197': 5.0,\n",
       " '173': 5.0,\n",
       " '75': 4.0,\n",
       " '268': 5.0,\n",
       " '34': 2.0,\n",
       " '144': 4.0,\n",
       " '271': 2.0,\n",
       " '119': 5.0,\n",
       " '26': 3.0,\n",
       " '158': 3.0,\n",
       " '37': 2.0,\n",
       " '181': 5.0,\n",
       " '136': 3.0,\n",
       " '257': 4.0,\n",
       " '237': 2.0,\n",
       " '131': 1.0,\n",
       " '109': 5.0,\n",
       " '182': 4.0,\n",
       " '71': 3.0,\n",
       " '223': 5.0,\n",
       " '46': 4.0,\n",
       " '169': 5.0,\n",
       " '41': 2.0,\n",
       " '162': 4.0,\n",
       " '110': 1.0,\n",
       " '66': 4.0,\n",
       " '77': 4.0,\n",
       " '199': 4.0,\n",
       " '57': 5.0,\n",
       " '50': 5.0,\n",
       " '192': 4.0,\n",
       " '178': 5.0,\n",
       " '5': 3.0,\n",
       " '87': 5.0,\n",
       " '238': 4.0,\n",
       " '156': 4.0,\n",
       " '106': 4.0,\n",
       " '167': 2.0,\n",
       " '115': 5.0,\n",
       " '11': 2.0,\n",
       " '245': 2.0,\n",
       " '35': 1.0,\n",
       " '137': 5.0,\n",
       " '127': 5.0,\n",
       " '16': 5.0,\n",
       " '79': 4.0,\n",
       " '261': 1.0,\n",
       " '45': 5.0,\n",
       " '48': 5.0,\n",
       " '25': 4.0,\n",
       " '251': 4.0,\n",
       " '195': 5.0,\n",
       " '153': 3.0,\n",
       " '101': 2.0,\n",
       " '168': 5.0,\n",
       " '123': 4.0,\n",
       " '191': 5.0,\n",
       " '4': 3.0,\n",
       " '263': 1.0,\n",
       " '203': 4.0,\n",
       " '55': 5.0,\n",
       " '42': 5.0,\n",
       " '139': 3.0,\n",
       " '240': 3.0,\n",
       " '7': 4.0,\n",
       " '149': 2.0,\n",
       " '43': 4.0,\n",
       " '165': 5.0,\n",
       " '116': 3.0,\n",
       " '198': 5.0,\n",
       " '124': 5.0,\n",
       " '95': 4.0,\n",
       " '217': 3.0,\n",
       " '58': 4.0,\n",
       " '142': 2.0,\n",
       " '216': 5.0,\n",
       " '126': 2.0,\n",
       " '83': 3.0,\n",
       " '231': 1.0,\n",
       " '204': 5.0,\n",
       " '3': 4.0,\n",
       " '207': 5.0,\n",
       " '244': 2.0,\n",
       " '19': 5.0,\n",
       " '29': 1.0,\n",
       " '18': 4.0,\n",
       " '59': 5.0,\n",
       " '15': 5.0,\n",
       " '111': 5.0,\n",
       " '52': 4.0,\n",
       " '88': 4.0,\n",
       " '13': 5.0,\n",
       " '28': 4.0,\n",
       " '172': 5.0,\n",
       " '122': 3.0,\n",
       " '152': 5.0,\n",
       " '94': 2.0}"
      ]
     },
     "execution_count": 5,
     "metadata": {},
     "output_type": "execute_result"
    }
   ],
   "source": [
    "user_ratings[\"1\"]  # userID = 1"
   ]
  },
  {
   "cell_type": "code",
   "execution_count": 6,
   "metadata": {},
   "outputs": [
    {
     "data": {
      "text/plain": [
       "1682"
      ]
     },
     "execution_count": 6,
     "metadata": {},
     "output_type": "execute_result"
    }
   ],
   "source": [
    "movies = {}\n",
    "with open(movies_data, 'r', encoding=\"latin-1\") as f:\n",
    "    for line in f:\n",
    "        movie_id, title, *_ = line.split('|')\n",
    "        movies[movie_id] = title\n",
    "        \n",
    "len(movies)"
   ]
  },
  {
   "cell_type": "code",
   "execution_count": 7,
   "metadata": {},
   "outputs": [
    {
     "data": {
      "text/plain": [
       "('Godfather, The (1972)',\n",
       " 'Godfather: Part II, The (1974)',\n",
       " 'Batman Forever (1995)')"
      ]
     },
     "execution_count": 7,
     "metadata": {},
     "output_type": "execute_result"
    }
   ],
   "source": [
    "movies[\"127\"], movies[\"187\"], movies[\"29\"]  # movie ID = 127, 187, 29"
   ]
  },
  {
   "cell_type": "code",
   "execution_count": 8,
   "metadata": {},
   "outputs": [
    {
     "data": {
      "text/plain": [
       "{'269': 4.0,\n",
       " '109': 2.0,\n",
       " '256': 4.0,\n",
       " '175': 5.0,\n",
       " '280': 5.0,\n",
       " '103': 4.0,\n",
       " '294': 5.0,\n",
       " '159': 5.0,\n",
       " '211': 4.0,\n",
       " '7': 5.0,\n",
       " '115': 5.0,\n",
       " '15': 2.0,\n",
       " '272': 5.0,\n",
       " '288': 5.0,\n",
       " '248': 5.0,\n",
       " '185': 5.0,\n",
       " '323': 5.0,\n",
       " '231': 3.0,\n",
       " '250': 4.0,\n",
       " '73': 5.0,\n",
       " '59': 5.0,\n",
       " '25': 3.0,\n",
       " '45': 5.0,\n",
       " '150': 5.0,\n",
       " '157': 5.0,\n",
       " '89': 5.0,\n",
       " '82': 2.0,\n",
       " '46': 5.0,\n",
       " '192': 4.0,\n",
       " '123': 5.0,\n",
       " '299': 5.0,\n",
       " '153': 3.0,\n",
       " '161': 3.0,\n",
       " '253': 5.0,\n",
       " '263': 4.0,\n",
       " '318': 5.0,\n",
       " '54': 4.0,\n",
       " '382': 3.0,\n",
       " '327': 4.0,\n",
       " '243': 4.0,\n",
       " '139': 5.0,\n",
       " '169': 4.0,\n",
       " '315': 5.0,\n",
       " '72': 5.0,\n",
       " '197': 5.0,\n",
       " '373': 2.0,\n",
       " '374': 4.0,\n",
       " '276': 5.0,\n",
       " '308': 4.0,\n",
       " '324': 4.0,\n",
       " '405': 5.0,\n",
       " '85': 5.0,\n",
       " '399': 2.0,\n",
       " '188': 4.0,\n",
       " '158': 5.0,\n",
       " '193': 5.0,\n",
       " '402': 5.0,\n",
       " '194': 5.0,\n",
       " '8': 5.0,\n",
       " '360': 5.0,\n",
       " '286': 4.0,\n",
       " '325': 5.0,\n",
       " '26': 5.0,\n",
       " '292': 5.0,\n",
       " '10': 5.0,\n",
       " '222': 5.0,\n",
       " '332': 5.0,\n",
       " '189': 4.0,\n",
       " '417': 4.0,\n",
       " '210': 5.0,\n",
       " '347': 5.0,\n",
       " '391': 5.0,\n",
       " '429': 4.0,\n",
       " '90': 4.0,\n",
       " '406': 4.0,\n",
       " '379': 5.0,\n",
       " '24': 5.0,\n",
       " '95': 4.0,\n",
       " '37': 4.0,\n",
       " '184': 5.0,\n",
       " '195': 5.0,\n",
       " '403': 4.0,\n",
       " '14': 2.0,\n",
       " '436': 5.0,\n",
       " '311': 4.0,\n",
       " '495': 4.0,\n",
       " '66': 4.0,\n",
       " '457': 5.0,\n",
       " '498': 4.0,\n",
       " '463': 5.0,\n",
       " '337': 3.0,\n",
       " '503': 5.0,\n",
       " '214': 4.0,\n",
       " '38': 2.0,\n",
       " '389': 5.0,\n",
       " '271': 5.0,\n",
       " '339': 5.0,\n",
       " '492': 5.0,\n",
       " '301': 4.0,\n",
       " '178': 5.0,\n",
       " '424': 4.0,\n",
       " '527': 5.0,\n",
       " '141': 2.0,\n",
       " '501': 5.0,\n",
       " '524': 5.0,\n",
       " '450': 5.0,\n",
       " '108': 4.0,\n",
       " '449': 5.0,\n",
       " '358': 1.0,\n",
       " '132': 4.0,\n",
       " '385': 4.0,\n",
       " '397': 5.0,\n",
       " '121': 5.0,\n",
       " '236': 5.0,\n",
       " '497': 5.0,\n",
       " '533': 5.0,\n",
       " '479': 5.0,\n",
       " '573': 4.0,\n",
       " '422': 4.0,\n",
       " '469': 4.0,\n",
       " '486': 5.0,\n",
       " '334': 4.0,\n",
       " '87': 4.0,\n",
       " '77': 2.0,\n",
       " '387': 4.0,\n",
       " '91': 5.0,\n",
       " '425': 4.0,\n",
       " '416': 5.0,\n",
       " '131': 4.0,\n",
       " '207': 5.0,\n",
       " '605': 5.0,\n",
       " '215': 4.0,\n",
       " '600': 5.0,\n",
       " '458': 5.0,\n",
       " '102': 2.0,\n",
       " '328': 5.0,\n",
       " '213': 5.0,\n",
       " '551': 5.0,\n",
       " '58': 4.0,\n",
       " '557': 4.0,\n",
       " '480': 3.0,\n",
       " '493': 3.0,\n",
       " '298': 5.0,\n",
       " '559': 4.0,\n",
       " '538': 5.0,\n",
       " '482': 4.0,\n",
       " '237': 5.0,\n",
       " '392': 5.0,\n",
       " '630': 2.0,\n",
       " '232': 3.0,\n",
       " '466': 3.0,\n",
       " '638': 2.0,\n",
       " '601': 4.0,\n",
       " '201': 5.0,\n",
       " '499': 4.0,\n",
       " '615': 5.0,\n",
       " '542': 5.0,\n",
       " '96': 5.0,\n",
       " '566': 5.0,\n",
       " '674': 5.0,\n",
       " '460': 4.0,\n",
       " '650': 2.0,\n",
       " '344': 5.0,\n",
       " '672': 4.0,\n",
       " '346': 5.0,\n",
       " '455': 5.0,\n",
       " '659': 5.0,\n",
       " '517': 4.0,\n",
       " '513': 4.0,\n",
       " '602': 5.0,\n",
       " '539': 3.0,\n",
       " '267': 5.0,\n",
       " '525': 3.0,\n",
       " '591': 4.0,\n",
       " '303': 5.0,\n",
       " '296': 5.0,\n",
       " '136': 5.0,\n",
       " '613': 4.0,\n",
       " '343': 5.0,\n",
       " '665': 4.0,\n",
       " '664': 5.0,\n",
       " '590': 4.0,\n",
       " '398': 4.0,\n",
       " '669': 5.0,\n",
       " '549': 5.0,\n",
       " '62': 4.0,\n",
       " '326': 1.0,\n",
       " '758': 5.0,\n",
       " '619': 4.0,\n",
       " '744': 5.0,\n",
       " '738': 4.0,\n",
       " '682': 5.0,\n",
       " '227': 4.0,\n",
       " '64': 5.0,\n",
       " '212': 2.0,\n",
       " '445': 2.0,\n",
       " '209': 5.0,\n",
       " '789': 5.0,\n",
       " '401': 1.0,\n",
       " '653': 5.0,\n",
       " '575': 2.0,\n",
       " '198': 5.0,\n",
       " '644': 4.0,\n",
       " '774': 4.0,\n",
       " '604': 4.0,\n",
       " '800': 4.0,\n",
       " '6': 5.0,\n",
       " '1': 5.0,\n",
       " '421': 4.0,\n",
       " '776': 5.0,\n",
       " '586': 4.0,\n",
       " '663': 5.0,\n",
       " '692': 3.0,\n",
       " '581': 5.0,\n",
       " '322': 4.0,\n",
       " '597': 4.0,\n",
       " '765': 5.0,\n",
       " '766': 5.0,\n",
       " '737': 5.0,\n",
       " '648': 3.0,\n",
       " '781': 5.0,\n",
       " '556': 5.0,\n",
       " '537': 5.0,\n",
       " '716': 5.0,\n",
       " '623': 4.0,\n",
       " '833': 5.0,\n",
       " '560': 5.0,\n",
       " '407': 3.0,\n",
       " '763': 4.0,\n",
       " '144': 4.0,\n",
       " '686': 5.0,\n",
       " '452': 5.0,\n",
       " '709': 5.0,\n",
       " '475': 4.0,\n",
       " '104': 3.0,\n",
       " '2': 5.0,\n",
       " '862': 5.0,\n",
       " '807': 3.0,\n",
       " '694': 5.0,\n",
       " '852': 4.0,\n",
       " '456': 5.0,\n",
       " '562': 5.0,\n",
       " '693': 4.0,\n",
       " '761': 3.0,\n",
       " '490': 5.0,\n",
       " '634': 5.0,\n",
       " '386': 5.0,\n",
       " '22': 5.0,\n",
       " '113': 4.0,\n",
       " '618': 5.0,\n",
       " '233': 5.0,\n",
       " '505': 1.0,\n",
       " '727': 4.0,\n",
       " '368': 4.0,\n",
       " '699': 3.0,\n",
       " '897': 5.0,\n",
       " '165': 4.0,\n",
       " '892': 5.0,\n",
       " '504': 5.0,\n",
       " '423': 4.0,\n",
       " '854': 4.0,\n",
       " '746': 2.0,\n",
       " '733': 3.0,\n",
       " '881': 4.0,\n",
       " '491': 3.0,\n",
       " '815': 3.0,\n",
       " '610': 5.0,\n",
       " '321': 3.0,\n",
       " '924': 3.0,\n",
       " '120': 4.0,\n",
       " '624': 4.0,\n",
       " '731': 4.0,\n",
       " '935': 4.0,\n",
       " '834': 5.0,\n",
       " '435': 4.0,\n",
       " '889': 4.0,\n",
       " '68': 4.0,\n",
       " '913': 4.0,\n",
       " '826': 5.0,\n",
       " '552': 4.0,\n",
       " '786': 4.0,\n",
       " '643': 5.0,\n",
       " '797': 4.0,\n",
       " '177': 5.0,\n",
       " '13': 5.0,\n",
       " '43': 4.0,\n",
       " '474': 5.0,\n",
       " '794': 5.0,\n",
       " '666': 5.0,\n",
       " '697': 5.0,\n",
       " '879': 5.0,\n",
       " '708': 3.0,\n",
       " '371': 4.0,\n",
       " '943': 5.0,\n",
       " '736': 4.0,\n",
       " '655': 5.0,\n",
       " '395': 5.0,\n",
       " '567': 5.0,\n",
       " '313': 5.0,\n",
       " '782': 4.0,\n",
       " '804': 3.0,\n",
       " '871': 5.0,\n",
       " '316': 2.0,\n",
       " '268': 4.0,\n",
       " '467': 5.0,\n",
       " '83': 4.0,\n",
       " '122': 5.0,\n",
       " '846': 5.0,\n",
       " '564': 4.0,\n",
       " '749': 4.0,\n",
       " '333': 4.0,\n",
       " '420': 5.0,\n",
       " '883': 5.0,\n",
       " '409': 4.0,\n",
       " '777': 1.0,\n",
       " '608': 5.0,\n",
       " '568': 4.0,\n",
       " '931': 5.0,\n",
       " '606': 4.0,\n",
       " '651': 4.0,\n",
       " '459': 4.0,\n",
       " '21': 5.0,\n",
       " '719': 3.0,\n",
       " '939': 5.0,\n",
       " '698': 4.0,\n",
       " '886': 4.0,\n",
       " '521': 4.0,\n",
       " '526': 4.0,\n",
       " '938': 5.0,\n",
       " '890': 5.0,\n",
       " '825': 3.0,\n",
       " '839': 5.0,\n",
       " '595': 5.0,\n",
       " '363': 4.0,\n",
       " '851': 5.0,\n",
       " '896': 5.0,\n",
       " '768': 5.0,\n",
       " '868': 4.0,\n",
       " '16': 5.0,\n",
       " '622': 5.0,\n",
       " '835': 4.0,\n",
       " '234': 4.0,\n",
       " '94': 5.0,\n",
       " '678': 5.0,\n",
       " '884': 4.0,\n",
       " '870': 5.0,\n",
       " '350': 5.0,\n",
       " '806': 5.0,\n",
       " '759': 2.0,\n",
       " '840': 4.0,\n",
       " '869': 5.0,\n",
       " '878': 4.0,\n",
       " '805': 3.0,\n",
       " '754': 4.0,\n",
       " '929': 5.0,\n",
       " '488': 4.0,\n",
       " '649': 5.0,\n",
       " '799': 4.0,\n",
       " '933': 5.0,\n",
       " '701': 4.0,\n",
       " '887': 3.0,\n",
       " '742': 5.0,\n",
       " '864': 4.0,\n",
       " '848': 3.0,\n",
       " '116': 5.0,\n",
       " '12': 4.0,\n",
       " '494': 5.0,\n",
       " '690': 4.0,\n",
       " '880': 5.0,\n",
       " '683': 4.0,\n",
       " '823': 5.0,\n",
       " '874': 5.0,\n",
       " '548': 5.0,\n",
       " '745': 2.0,\n",
       " '717': 4.0,\n",
       " '908': 4.0,\n",
       " '936': 5.0,\n",
       " '468': 4.0,\n",
       " '922': 3.0,\n",
       " '532': 5.0,\n",
       " '430': 4.0,\n",
       " '721': 5.0,\n",
       " '703': 5.0,\n",
       " '465': 4.0,\n",
       " '735': 4.0,\n",
       " '838': 5.0,\n",
       " '830': 4.0,\n",
       " '902': 3.0,\n",
       " '612': 2.0,\n",
       " '910': 5.0,\n",
       " '793': 5.0,\n",
       " '305': 5.0,\n",
       " '747': 5.0,\n",
       " '891': 4.0,\n",
       " '329': 4.0,\n",
       " '858': 5.0,\n",
       " '903': 5.0,\n",
       " '637': 2.0,\n",
       " '928': 5.0,\n",
       " '18': 5.0,\n",
       " '658': 5.0,\n",
       " '473': 5.0,\n",
       " '594': 4.0,\n",
       " '629': 5.0,\n",
       " '796': 5.0,\n",
       " '592': 5.0,\n",
       " '710': 5.0,\n",
       " '773': 5.0,\n",
       " '464': 5.0,\n",
       " '843': 2.0,\n",
       " '160': 5.0,\n",
       " '293': 5.0,\n",
       " '148': 1.0}"
      ]
     },
     "execution_count": 8,
     "metadata": {},
     "output_type": "execute_result"
    }
   ],
   "source": [
    "movie_ratings[\"127\"]"
   ]
  },
  {
   "cell_type": "code",
   "execution_count": 9,
   "metadata": {},
   "outputs": [
    {
     "data": {
      "text/plain": [
       "4.283292978208232"
      ]
     },
     "execution_count": 9,
     "metadata": {},
     "output_type": "execute_result"
    }
   ],
   "source": [
    "sum(movie_ratings[\"127\"].values()) / len(movie_ratings[\"127\"])"
   ]
  },
  {
   "cell_type": "code",
   "execution_count": 10,
   "metadata": {},
   "outputs": [
    {
     "data": {
      "text/html": [
       "<div>\n",
       "<style>\n",
       "    .dataframe thead tr:only-child th {\n",
       "        text-align: right;\n",
       "    }\n",
       "\n",
       "    .dataframe thead th {\n",
       "        text-align: left;\n",
       "    }\n",
       "\n",
       "    .dataframe tbody tr th {\n",
       "        vertical-align: top;\n",
       "    }\n",
       "</style>\n",
       "<table border=\"1\" class=\"dataframe\">\n",
       "  <thead>\n",
       "    <tr style=\"text-align: right;\">\n",
       "      <th></th>\n",
       "      <th>user</th>\n",
       "      <th>movie</th>\n",
       "      <th>rating</th>\n",
       "      <th>timestamp</th>\n",
       "    </tr>\n",
       "  </thead>\n",
       "  <tbody>\n",
       "    <tr>\n",
       "      <th>0</th>\n",
       "      <td>196</td>\n",
       "      <td>242</td>\n",
       "      <td>3</td>\n",
       "      <td>881250949</td>\n",
       "    </tr>\n",
       "    <tr>\n",
       "      <th>1</th>\n",
       "      <td>186</td>\n",
       "      <td>302</td>\n",
       "      <td>3</td>\n",
       "      <td>891717742</td>\n",
       "    </tr>\n",
       "    <tr>\n",
       "      <th>2</th>\n",
       "      <td>22</td>\n",
       "      <td>377</td>\n",
       "      <td>1</td>\n",
       "      <td>878887116</td>\n",
       "    </tr>\n",
       "    <tr>\n",
       "      <th>3</th>\n",
       "      <td>244</td>\n",
       "      <td>51</td>\n",
       "      <td>2</td>\n",
       "      <td>880606923</td>\n",
       "    </tr>\n",
       "    <tr>\n",
       "      <th>4</th>\n",
       "      <td>166</td>\n",
       "      <td>346</td>\n",
       "      <td>1</td>\n",
       "      <td>886397596</td>\n",
       "    </tr>\n",
       "  </tbody>\n",
       "</table>\n",
       "</div>"
      ],
      "text/plain": [
       "   user  movie  rating  timestamp\n",
       "0   196    242       3  881250949\n",
       "1   186    302       3  891717742\n",
       "2    22    377       1  878887116\n",
       "3   244     51       2  880606923\n",
       "4   166    346       1  886397596"
      ]
     },
     "execution_count": 10,
     "metadata": {},
     "output_type": "execute_result"
    }
   ],
   "source": [
    "import pandas as pd\n",
    "import numpy as np\n",
    "\n",
    "ratings = pd.read_csv(ratings_data, sep='\\t', names=['user', 'movie', 'rating', 'timestamp'])\n",
    "\n",
    "ratings.head()"
   ]
  },
  {
   "cell_type": "code",
   "execution_count": 11,
   "metadata": {},
   "outputs": [
    {
     "data": {
      "text/plain": [
       "(100000, 4)"
      ]
     },
     "execution_count": 11,
     "metadata": {},
     "output_type": "execute_result"
    }
   ],
   "source": [
    "ratings.shape"
   ]
  },
  {
   "cell_type": "code",
   "execution_count": 13,
   "metadata": {},
   "outputs": [
    {
     "data": {
      "text/plain": [
       "(1682,)"
      ]
     },
     "execution_count": 13,
     "metadata": {},
     "output_type": "execute_result"
    }
   ],
   "source": [
    "n_movies = ratings[\"movie\"].unique().shape\n",
    "n_movies"
   ]
  },
  {
   "cell_type": "code",
   "execution_count": 14,
   "metadata": {},
   "outputs": [
    {
     "data": {
      "text/plain": [
       "(943,)"
      ]
     },
     "execution_count": 14,
     "metadata": {},
     "output_type": "execute_result"
    }
   ],
   "source": [
    "n_users = ratings[\"user\"].unique().shape\n",
    "n_users"
   ]
  },
  {
   "cell_type": "code",
   "execution_count": 22,
   "metadata": {},
   "outputs": [],
   "source": [
    "data_matrix = np.zeros((ratings.user.max(), ratings.movie.max()))"
   ]
  },
  {
   "cell_type": "code",
   "execution_count": 23,
   "metadata": {},
   "outputs": [],
   "source": [
    "for item in ratings.itertuples():\n",
    "    data_matrix[item.user-1, item.movie-1] = item.rating"
   ]
  },
  {
   "cell_type": "code",
   "execution_count": 24,
   "metadata": {},
   "outputs": [
    {
     "data": {
      "text/plain": [
       "array([[ 5.,  3.,  4., ...,  0.,  0.,  0.],\n",
       "       [ 4.,  0.,  0., ...,  0.,  0.,  0.],\n",
       "       [ 0.,  0.,  0., ...,  0.,  0.,  0.],\n",
       "       ..., \n",
       "       [ 5.,  0.,  0., ...,  0.,  0.,  0.],\n",
       "       [ 0.,  0.,  0., ...,  0.,  0.,  0.],\n",
       "       [ 0.,  5.,  0., ...,  0.,  0.,  0.]])"
      ]
     },
     "execution_count": 24,
     "metadata": {},
     "output_type": "execute_result"
    }
   ],
   "source": [
    "data_matrix"
   ]
  },
  {
   "cell_type": "code",
   "execution_count": 18,
   "metadata": {},
   "outputs": [
    {
     "data": {
      "text/plain": [
       "(943, 1682)"
      ]
     },
     "execution_count": 18,
     "metadata": {},
     "output_type": "execute_result"
    }
   ],
   "source": [
    "data_matrix.shape\n",
    "# users, movies"
   ]
  },
  {
   "cell_type": "markdown",
   "metadata": {},
   "source": [
    "#### Distance / Similarity\n",
    "\n",
    "https://en.wikipedia.org/wiki/Euclidean_distance\n",
    "\n",
    "$\\mbox{euclidean}(x, y) = \\big{|}\\big{|} x - y \\big{|}\\big{|}_{2} = \\sqrt{\\sum_{i=0}^{n} (x_{i} - y_{i})^{2}}$\n",
    "\n",
    "https://en.wikipedia.org/wiki/Cosine_similarity\n",
    "\n",
    "$\\mbox{cosine}(x, y) = 1 - \\frac{x \\cdot y}{|| x ||_{2} || y ||_{2}}$, i.e. one minus cosine similarity"
   ]
  },
  {
   "cell_type": "code",
   "execution_count": 25,
   "metadata": {},
   "outputs": [
    {
     "data": {
      "text/plain": [
       "0.33459864313383969"
      ]
     },
     "execution_count": 25,
     "metadata": {},
     "output_type": "execute_result"
    }
   ],
   "source": [
    "from scipy.spatial.distance import cosine\n",
    "\n",
    "cosine(data_matrix[:, 126], data_matrix[:, 186])  \n",
    "# Godfather vs Godfather II"
   ]
  },
  {
   "cell_type": "code",
   "execution_count": 26,
   "metadata": {},
   "outputs": [
    {
     "data": {
      "text/plain": [
       "0.70517598811748849"
      ]
     },
     "execution_count": 26,
     "metadata": {},
     "output_type": "execute_result"
    }
   ],
   "source": [
    "cosine(data_matrix[:, 126], data_matrix[:, 28])  \n",
    "# Godfather vs Batman Forever"
   ]
  },
  {
   "cell_type": "code",
   "execution_count": 27,
   "metadata": {},
   "outputs": [
    {
     "data": {
      "text/plain": [
       "0.95254045717446822"
      ]
     },
     "execution_count": 27,
     "metadata": {},
     "output_type": "execute_result"
    }
   ],
   "source": [
    "cosine(data_matrix[0, :], data_matrix[2, :])  # user 1 vs user 3"
   ]
  },
  {
   "cell_type": "code",
   "execution_count": 28,
   "metadata": {},
   "outputs": [
    {
     "data": {
      "text/plain": [
       "0.43093426847201199"
      ]
     },
     "execution_count": 28,
     "metadata": {},
     "output_type": "execute_result"
    }
   ],
   "source": [
    "cosine(data_matrix[0, :], data_matrix[915, :])  # user 1 vs user 916"
   ]
  },
  {
   "cell_type": "code",
   "execution_count": 29,
   "metadata": {},
   "outputs": [],
   "source": [
    "from sklearn.model_selection import train_test_split\n",
    "\n",
    "train_data, test_data = train_test_split(data_matrix, test_size=0.2)"
   ]
  },
  {
   "cell_type": "code",
   "execution_count": 30,
   "metadata": {},
   "outputs": [
    {
     "data": {
      "text/plain": [
       "((754, 1682), (189, 1682))"
      ]
     },
     "execution_count": 30,
     "metadata": {},
     "output_type": "execute_result"
    }
   ],
   "source": [
    "train_data.shape, test_data.shape"
   ]
  },
  {
   "cell_type": "code",
   "execution_count": 33,
   "metadata": {},
   "outputs": [],
   "source": [
    "from sklearn.metrics.pairwise import pairwise_distances\n",
    "\n",
    "user_distance = pairwise_distances(train_data, metric='cosine')\n",
    "item_distance = pairwise_distances(train_data.T, metric='cosine')"
   ]
  },
  {
   "cell_type": "code",
   "execution_count": 34,
   "metadata": {},
   "outputs": [
    {
     "data": {
      "text/plain": [
       "array([[ 0.        ,  0.84355605,  0.63142252, ...,  0.77133182,\n",
       "         0.82256341,  0.7948404 ],\n",
       "       [ 0.84355605,  0.        ,  0.79922665, ...,  0.92657996,\n",
       "         0.91025902,  0.97252586],\n",
       "       [ 0.63142252,  0.79922665,  0.        , ...,  0.85006307,\n",
       "         0.85144104,  0.77452894],\n",
       "       ..., \n",
       "       [ 0.77133182,  0.92657996,  0.85006307, ...,  0.        ,\n",
       "         0.67966581,  0.51869668],\n",
       "       [ 0.82256341,  0.91025902,  0.85144104, ...,  0.67966581,\n",
       "         0.        ,  0.42529225],\n",
       "       [ 0.7948404 ,  0.97252586,  0.77452894, ...,  0.51869668,\n",
       "         0.42529225,  0.        ]])"
      ]
     },
     "execution_count": 34,
     "metadata": {},
     "output_type": "execute_result"
    }
   ],
   "source": [
    "user_distance"
   ]
  },
  {
   "cell_type": "code",
   "execution_count": 35,
   "metadata": {},
   "outputs": [],
   "source": [
    "user_similarity = 1 - user_distance\n",
    "item_similarity = 1 - item_distance"
   ]
  },
  {
   "cell_type": "code",
   "execution_count": 36,
   "metadata": {},
   "outputs": [
    {
     "data": {
      "text/plain": [
       "((754, 754), (1682, 1682))"
      ]
     },
     "execution_count": 36,
     "metadata": {},
     "output_type": "execute_result"
    }
   ],
   "source": [
    "user_similarity.shape, item_similarity.shape"
   ]
  },
  {
   "cell_type": "code",
   "execution_count": 37,
   "metadata": {},
   "outputs": [
    {
     "data": {
      "text/plain": [
       "(754, 1682)"
      ]
     },
     "execution_count": 37,
     "metadata": {},
     "output_type": "execute_result"
    }
   ],
   "source": [
    "train_data.shape"
   ]
  },
  {
   "cell_type": "markdown",
   "metadata": {},
   "source": [
    "#### Prediction\n",
    "\n",
    "$r_{u,i}$ = rating user u gave to item i\n",
    "\n",
    "$\\hat{r}_{u,i}$ = rating prediction for user u and item i\n",
    "\n",
    "$\\mbox{sim}(u, v)$ = similarity between user u and user v\n",
    "\n",
    "$\\hat{r}_{u,i} = \\frac{\\sum_{v} \\mbox{sim}(u, v)r_{v,i}}{\\sum_{v} \\big{|}\\mbox{sim}(u, v)\\big{|}}$"
   ]
  },
  {
   "cell_type": "code",
   "execution_count": 39,
   "metadata": {},
   "outputs": [],
   "source": [
    "def make_user_prediction(data, u_similarity):\n",
    "    return u_similarity.dot(data) / np.array([np.abs(u_similarity).sum(axis=1)]).T\n",
    "\n",
    "def make_item_prediction(data, i_similarity):\n",
    "    return data.dot(i_similarity) / np.array([np.abs(i_similarity).sum(axis=1)])\n",
    "\n",
    "user_pred = make_user_prediction(train_data, user_similarity)\n",
    "item_pred = make_item_prediction(train_data, item_similarity)"
   ]
  },
  {
   "cell_type": "code",
   "execution_count": 40,
   "metadata": {},
   "outputs": [
    {
     "data": {
      "text/plain": [
       "(754, 1682)"
      ]
     },
     "execution_count": 40,
     "metadata": {},
     "output_type": "execute_result"
    }
   ],
   "source": [
    "user_pred.shape"
   ]
  },
  {
   "cell_type": "code",
   "execution_count": 41,
   "metadata": {},
   "outputs": [
    {
     "data": {
      "text/plain": [
       "(754, 1682)"
      ]
     },
     "execution_count": 41,
     "metadata": {},
     "output_type": "execute_result"
    }
   ],
   "source": [
    "item_pred.shape"
   ]
  },
  {
   "cell_type": "code",
   "execution_count": 42,
   "metadata": {},
   "outputs": [
    {
     "data": {
      "text/plain": [
       "7.7622006216106483"
      ]
     },
     "execution_count": 42,
     "metadata": {},
     "output_type": "execute_result"
    }
   ],
   "source": [
    "from sklearn.metrics import mean_squared_error\n",
    "\n",
    "def matrix_mse(prediction, actual):\n",
    "    prediction = prediction[actual.nonzero()].flatten()  # ignore zero terms\n",
    "    actual = actual[actual.nonzero()].flatten()\n",
    "    return mean_squared_error(prediction, actual)\n",
    "\n",
    "matrix_mse(user_pred, train_data)"
   ]
  },
  {
   "cell_type": "code",
   "execution_count": null,
   "metadata": {},
   "outputs": [],
   "source": [
    "matrix_mse(item_pred, train_data)"
   ]
  },
  {
   "cell_type": "code",
   "execution_count": null,
   "metadata": {
    "collapsed": true
   },
   "outputs": [],
   "source": []
  }
 ],
 "metadata": {
  "kernelspec": {
   "display_name": "venv",
   "language": "python",
   "name": "venv"
  },
  "language_info": {
   "codemirror_mode": {
    "name": "ipython",
    "version": 3
   },
   "file_extension": ".py",
   "mimetype": "text/x-python",
   "name": "python",
   "nbconvert_exporter": "python",
   "pygments_lexer": "ipython3",
   "version": "3.6.0"
  }
 },
 "nbformat": 4,
 "nbformat_minor": 2
}
