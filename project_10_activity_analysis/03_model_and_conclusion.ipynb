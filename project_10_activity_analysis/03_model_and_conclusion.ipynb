{
 "cells": [
  {
   "cell_type": "markdown",
   "metadata": {},
   "source": [
    "# Model and Conclusion\n",
    "# Setup"
   ]
  },
  {
   "cell_type": "code",
   "execution_count": 1,
   "metadata": {},
   "outputs": [],
   "source": [
    "# dependencies\n",
    "import numpy as np\n",
    "import pandas as pd\n",
    "from matplotlib import pyplot as plt\n",
    "%matplotlib inline \n",
    "\n",
    "import seaborn as sns\n",
    "\n",
    "import missingno as msno"
   ]
  },
  {
   "cell_type": "markdown",
   "metadata": {},
   "source": [
    "# Get data"
   ]
  },
  {
   "cell_type": "code",
   "execution_count": 2,
   "metadata": {},
   "outputs": [],
   "source": [
    "df = pd.read_csv('data/clean_table.csv')"
   ]
  },
  {
   "cell_type": "markdown",
   "metadata": {},
   "source": [
    "# Data Exploration\n",
    "## Standard analysis"
   ]
  },
  {
   "cell_type": "code",
   "execution_count": 3,
   "metadata": {},
   "outputs": [
    {
     "data": {
      "text/plain": [
       "(3386, 8)"
      ]
     },
     "execution_count": 3,
     "metadata": {},
     "output_type": "execute_result"
    }
   ],
   "source": [
    "df.shape"
   ]
  },
  {
   "cell_type": "code",
   "execution_count": 4,
   "metadata": {},
   "outputs": [
    {
     "data": {
      "text/plain": [
       "Unnamed: 0              int64\n",
       "activity               object\n",
       "category               object\n",
       "start_date[ms]          int64\n",
       "start_date             object\n",
       "end_date[ms]            int64\n",
       "end_date               object\n",
       "activityDuration[m]     int64\n",
       "dtype: object"
      ]
     },
     "execution_count": 4,
     "metadata": {},
     "output_type": "execute_result"
    }
   ],
   "source": [
    "df.dtypes"
   ]
  },
  {
   "cell_type": "code",
   "execution_count": 5,
   "metadata": {},
   "outputs": [
    {
     "data": {
      "text/html": [
       "<div>\n",
       "<style scoped>\n",
       "    .dataframe tbody tr th:only-of-type {\n",
       "        vertical-align: middle;\n",
       "    }\n",
       "\n",
       "    .dataframe tbody tr th {\n",
       "        vertical-align: top;\n",
       "    }\n",
       "\n",
       "    .dataframe thead th {\n",
       "        text-align: right;\n",
       "    }\n",
       "</style>\n",
       "<table border=\"1\" class=\"dataframe\">\n",
       "  <thead>\n",
       "    <tr style=\"text-align: right;\">\n",
       "      <th></th>\n",
       "      <th>Unnamed: 0</th>\n",
       "      <th>activity</th>\n",
       "      <th>category</th>\n",
       "      <th>start_date[ms]</th>\n",
       "      <th>start_date</th>\n",
       "      <th>end_date[ms]</th>\n",
       "      <th>end_date</th>\n",
       "      <th>activityDuration[m]</th>\n",
       "    </tr>\n",
       "  </thead>\n",
       "  <tbody>\n",
       "    <tr>\n",
       "      <th>0</th>\n",
       "      <td>0</td>\n",
       "      <td>Trello</td>\n",
       "      <td>Personal Adjusting</td>\n",
       "      <td>1540159273005</td>\n",
       "      <td>Mon Oct 22 00:01:13 GMT+02:00 2018</td>\n",
       "      <td>1540159869559</td>\n",
       "      <td>Mon Oct 22 00:11:09 GMT+02:00 2018</td>\n",
       "      <td>9</td>\n",
       "    </tr>\n",
       "    <tr>\n",
       "      <th>1</th>\n",
       "      <td>1</td>\n",
       "      <td>Series / Docu</td>\n",
       "      <td>Entertainment</td>\n",
       "      <td>1540159869559</td>\n",
       "      <td>Mon Oct 22 00:11:09 GMT+02:00 2018</td>\n",
       "      <td>1540162820068</td>\n",
       "      <td>Mon Oct 22 01:00:20 GMT+02:00 2018</td>\n",
       "      <td>49</td>\n",
       "    </tr>\n",
       "    <tr>\n",
       "      <th>2</th>\n",
       "      <td>2</td>\n",
       "      <td>Sleep</td>\n",
       "      <td>Refresh</td>\n",
       "      <td>1540162820068</td>\n",
       "      <td>Mon Oct 22 01:00:20 GMT+02:00 2018</td>\n",
       "      <td>1540189458018</td>\n",
       "      <td>Mon Oct 22 08:24:18 GMT+02:00 2018</td>\n",
       "      <td>443</td>\n",
       "    </tr>\n",
       "    <tr>\n",
       "      <th>3</th>\n",
       "      <td>3</td>\n",
       "      <td>Moving - youtube</td>\n",
       "      <td>Transport</td>\n",
       "      <td>1540189458018</td>\n",
       "      <td>Mon Oct 22 08:24:18 GMT+02:00 2018</td>\n",
       "      <td>1540189949037</td>\n",
       "      <td>Mon Oct 22 08:32:29 GMT+02:00 2018</td>\n",
       "      <td>8</td>\n",
       "    </tr>\n",
       "    <tr>\n",
       "      <th>4</th>\n",
       "      <td>4</td>\n",
       "      <td>Trello</td>\n",
       "      <td>Personal Adjusting</td>\n",
       "      <td>1540189949037</td>\n",
       "      <td>Mon Oct 22 08:32:29 GMT+02:00 2018</td>\n",
       "      <td>1540190444165</td>\n",
       "      <td>Mon Oct 22 08:40:44 GMT+02:00 2018</td>\n",
       "      <td>8</td>\n",
       "    </tr>\n",
       "  </tbody>\n",
       "</table>\n",
       "</div>"
      ],
      "text/plain": [
       "   Unnamed: 0          activity            category  start_date[ms]  \\\n",
       "0           0            Trello  Personal Adjusting   1540159273005   \n",
       "1           1     Series / Docu       Entertainment   1540159869559   \n",
       "2           2             Sleep             Refresh   1540162820068   \n",
       "3           3  Moving - youtube           Transport   1540189458018   \n",
       "4           4            Trello  Personal Adjusting   1540189949037   \n",
       "\n",
       "                           start_date   end_date[ms]  \\\n",
       "0  Mon Oct 22 00:01:13 GMT+02:00 2018  1540159869559   \n",
       "1  Mon Oct 22 00:11:09 GMT+02:00 2018  1540162820068   \n",
       "2  Mon Oct 22 01:00:20 GMT+02:00 2018  1540189458018   \n",
       "3  Mon Oct 22 08:24:18 GMT+02:00 2018  1540189949037   \n",
       "4  Mon Oct 22 08:32:29 GMT+02:00 2018  1540190444165   \n",
       "\n",
       "                             end_date  activityDuration[m]  \n",
       "0  Mon Oct 22 00:11:09 GMT+02:00 2018                    9  \n",
       "1  Mon Oct 22 01:00:20 GMT+02:00 2018                   49  \n",
       "2  Mon Oct 22 08:24:18 GMT+02:00 2018                  443  \n",
       "3  Mon Oct 22 08:32:29 GMT+02:00 2018                    8  \n",
       "4  Mon Oct 22 08:40:44 GMT+02:00 2018                    8  "
      ]
     },
     "execution_count": 5,
     "metadata": {},
     "output_type": "execute_result"
    }
   ],
   "source": [
    "df.head(5)"
   ]
  },
  {
   "cell_type": "markdown",
   "metadata": {},
   "source": [
    "# Is the data good enough for the model?"
   ]
  },
  {
   "cell_type": "markdown",
   "metadata": {},
   "source": [
    "Conclusion: A recommender system needs a table with an ID, an activity ID and optionally ratings. \n",
    "\n",
    "- We have a table with IDs\n",
    "- We have a table with Activity IDs \n",
    "- We have no ratings. \n",
    "\n"
   ]
  },
  {
   "cell_type": "markdown",
   "metadata": {},
   "source": [
    "# Split dataset"
   ]
  },
  {
   "cell_type": "code",
   "execution_count": null,
   "metadata": {},
   "outputs": [],
   "source": []
  },
  {
   "cell_type": "markdown",
   "metadata": {},
   "source": [
    "# Build model pipeline"
   ]
  },
  {
   "cell_type": "code",
   "execution_count": null,
   "metadata": {},
   "outputs": [],
   "source": []
  },
  {
   "cell_type": "markdown",
   "metadata": {},
   "source": [
    "# Declare hyperparameter"
   ]
  },
  {
   "cell_type": "code",
   "execution_count": null,
   "metadata": {},
   "outputs": [],
   "source": []
  },
  {
   "cell_type": "markdown",
   "metadata": {},
   "source": [
    "# Fit and tune with cross-validation"
   ]
  },
  {
   "cell_type": "code",
   "execution_count": null,
   "metadata": {},
   "outputs": [],
   "source": []
  },
  {
   "cell_type": "markdown",
   "metadata": {},
   "source": [
    "# Evaluate Model"
   ]
  },
  {
   "cell_type": "code",
   "execution_count": null,
   "metadata": {},
   "outputs": [],
   "source": []
  },
  {
   "cell_type": "markdown",
   "metadata": {},
   "source": [
    "# Select winner model"
   ]
  },
  {
   "cell_type": "code",
   "execution_count": null,
   "metadata": {},
   "outputs": [],
   "source": []
  },
  {
   "cell_type": "markdown",
   "metadata": {},
   "source": [
    "# Save winning model"
   ]
  },
  {
   "cell_type": "code",
   "execution_count": null,
   "metadata": {},
   "outputs": [],
   "source": []
  },
  {
   "cell_type": "markdown",
   "metadata": {},
   "source": [
    "# Communicate Results (Conclusion)"
   ]
  },
  {
   "cell_type": "code",
   "execution_count": null,
   "metadata": {},
   "outputs": [],
   "source": []
  },
  {
   "cell_type": "markdown",
   "metadata": {},
   "source": []
  }
 ],
 "metadata": {
  "kernelspec": {
   "display_name": "venv",
   "language": "python",
   "name": "venv"
  },
  "language_info": {
   "codemirror_mode": {
    "name": "ipython",
    "version": 3
   },
   "file_extension": ".py",
   "mimetype": "text/x-python",
   "name": "python",
   "nbconvert_exporter": "python",
   "pygments_lexer": "ipython3",
   "version": "3.7.2"
  }
 },
 "nbformat": 4,
 "nbformat_minor": 2
}
