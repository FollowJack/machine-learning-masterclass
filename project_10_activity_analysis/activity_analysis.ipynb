{
 "cells": [
  {
   "cell_type": "markdown",
   "metadata": {},
   "source": [
    "# Activity analysis\n",
    "![activities](data/activities.jpeg)"
   ]
  },
  {
   "cell_type": "markdown",
   "metadata": {},
   "source": [
    "## Outline\n",
    "- Objective (key question)\n",
    "- Setup\n",
    "- Get data\n",
    "- Data exploration\n",
    "  - Standard analysis\n",
    "- Base table creation\n",
    "  - Clean data\n",
    "  - Feature engineering \n",
    "- Model\n",
    "- Model evaluation\n",
    "- Communicate results (conclusion) "
   ]
  },
  {
   "cell_type": "markdown",
   "metadata": {},
   "source": [
    "---\n",
    "Key Questions answered in the objective:\n",
    "1. Who are the customers?\n",
    "- Why are they buying our product?\n",
    "- How do we predict if a customer is going to buy our product?\n",
    "- What is different from segments who are performing well and those that are performing below expectations?\n",
    "- How much money will we lose if we don’t actively sell the product to these groups?"
   ]
  },
  {
   "cell_type": "markdown",
   "metadata": {},
   "source": [
    "\n",
    "## Objective\n",
    "(1) The goal of the project is to support and assist the time trackers and habit formers (customer) on their journey to save time and spend it more wisely. (2) This will push the customer to strengthen habits and identify bad habits and time-burning activities to get rid of. \n",
    "\n",
    "(3) By early feature testing we can measure the acceptance of the feature based on ratings changes. \n",
    "\n",
    "(4) At time of writing the feature is not available and early experiments with recommendations based on the past 3-4 weeks were misleading. \n",
    "\n",
    "(5) The app [SaveMyTime](http://savemytime.co/en/) could loose their total customer base if the feature would be used by their competititors, due to the convenient support of time saving and automated guidance.\n",
    "\n",
    "We will create the feature by analyzing activity data from [SaveMyTime](http://savemytime.co/en/) and build a recommendation engine.\n",
    "We will support users to form habits and get deeper insights into their daily habits. Predicting an activity is established at given time based on the past results.\n",
    "\n",
    "For this we will find out:\n",
    "1. total time spend on categories \n",
    "- average time spend on categories\n",
    "- the total time spend on activities\n",
    "- average time spend on activities\n",
    "- which activities have the highest occurences\n",
    "- which activities have the highest time spend on\n",
    "(- what is the mean, median, standard deviation of ???)\n",
    "\n",
    "\n"
   ]
  },
  {
   "cell_type": "markdown",
   "metadata": {},
   "source": [
    "---\n",
    "# Setup"
   ]
  },
  {
   "cell_type": "code",
   "execution_count": 1,
   "metadata": {},
   "outputs": [],
   "source": [
    "# dependencies\n",
    "import numpy as np\n",
    "import pandas as pd\n",
    "from matplotlib import pyplot as plt\n",
    "%matplotlib inline \n",
    "\n",
    "import seaborn as sns\n",
    "\n",
    "import missingno as msno"
   ]
  },
  {
   "cell_type": "markdown",
   "metadata": {},
   "source": [
    "# Get data"
   ]
  },
  {
   "cell_type": "code",
   "execution_count": 2,
   "metadata": {},
   "outputs": [],
   "source": [
    "df = pd.read_csv('data/activities.csv')"
   ]
  },
  {
   "cell_type": "markdown",
   "metadata": {},
   "source": [
    "# Data Exploration\n",
    "## Standard analysis"
   ]
  },
  {
   "cell_type": "code",
   "execution_count": 3,
   "metadata": {},
   "outputs": [
    {
     "data": {
      "text/plain": [
       "(3386, 8)"
      ]
     },
     "execution_count": 3,
     "metadata": {},
     "output_type": "execute_result"
    }
   ],
   "source": [
    "df.shape"
   ]
  },
  {
   "cell_type": "code",
   "execution_count": 4,
   "metadata": {},
   "outputs": [
    {
     "data": {
      "text/plain": [
       "activityName              object\n",
       "activityCategoryName      object\n",
       "activityStartDate [ms]     int64\n",
       "activityStartDate         object\n",
       "activityEndDate [ms]       int64\n",
       "activityEndDate           object\n",
       "activityDuration [ms]      int64\n",
       "activityDuration          object\n",
       "dtype: object"
      ]
     },
     "execution_count": 4,
     "metadata": {},
     "output_type": "execute_result"
    }
   ],
   "source": [
    "df.dtypes"
   ]
  },
  {
   "cell_type": "code",
   "execution_count": 5,
   "metadata": {},
   "outputs": [
    {
     "data": {
      "text/html": [
       "<div>\n",
       "<style scoped>\n",
       "    .dataframe tbody tr th:only-of-type {\n",
       "        vertical-align: middle;\n",
       "    }\n",
       "\n",
       "    .dataframe tbody tr th {\n",
       "        vertical-align: top;\n",
       "    }\n",
       "\n",
       "    .dataframe thead th {\n",
       "        text-align: right;\n",
       "    }\n",
       "</style>\n",
       "<table border=\"1\" class=\"dataframe\">\n",
       "  <thead>\n",
       "    <tr style=\"text-align: right;\">\n",
       "      <th></th>\n",
       "      <th>activityName</th>\n",
       "      <th>activityCategoryName</th>\n",
       "      <th>activityStartDate [ms]</th>\n",
       "      <th>activityStartDate</th>\n",
       "      <th>activityEndDate [ms]</th>\n",
       "      <th>activityEndDate</th>\n",
       "      <th>activityDuration [ms]</th>\n",
       "      <th>activityDuration</th>\n",
       "    </tr>\n",
       "  </thead>\n",
       "  <tbody>\n",
       "    <tr>\n",
       "      <th>0</th>\n",
       "      <td>Trello</td>\n",
       "      <td>Personal Adjusting</td>\n",
       "      <td>1540159273005</td>\n",
       "      <td>Mon Oct 22 00:01:13 GMT+02:00 2018</td>\n",
       "      <td>1540159869559</td>\n",
       "      <td>Mon Oct 22 00:11:09 GMT+02:00 2018</td>\n",
       "      <td>596554</td>\n",
       "      <td>9 min</td>\n",
       "    </tr>\n",
       "    <tr>\n",
       "      <th>1</th>\n",
       "      <td>Series / Docu</td>\n",
       "      <td>Entertainment</td>\n",
       "      <td>1540159869559</td>\n",
       "      <td>Mon Oct 22 00:11:09 GMT+02:00 2018</td>\n",
       "      <td>1540162820068</td>\n",
       "      <td>Mon Oct 22 01:00:20 GMT+02:00 2018</td>\n",
       "      <td>2950509</td>\n",
       "      <td>49 min</td>\n",
       "    </tr>\n",
       "    <tr>\n",
       "      <th>2</th>\n",
       "      <td>Sleep</td>\n",
       "      <td>Refresh</td>\n",
       "      <td>1540162820068</td>\n",
       "      <td>Mon Oct 22 01:00:20 GMT+02:00 2018</td>\n",
       "      <td>1540189458018</td>\n",
       "      <td>Mon Oct 22 08:24:18 GMT+02:00 2018</td>\n",
       "      <td>26637950</td>\n",
       "      <td>7 h 23 min</td>\n",
       "    </tr>\n",
       "    <tr>\n",
       "      <th>3</th>\n",
       "      <td>Moving - youtube</td>\n",
       "      <td>Transport</td>\n",
       "      <td>1540189458018</td>\n",
       "      <td>Mon Oct 22 08:24:18 GMT+02:00 2018</td>\n",
       "      <td>1540189949037</td>\n",
       "      <td>Mon Oct 22 08:32:29 GMT+02:00 2018</td>\n",
       "      <td>491019</td>\n",
       "      <td>8 min</td>\n",
       "    </tr>\n",
       "    <tr>\n",
       "      <th>4</th>\n",
       "      <td>Trello</td>\n",
       "      <td>Personal Adjusting</td>\n",
       "      <td>1540189949037</td>\n",
       "      <td>Mon Oct 22 08:32:29 GMT+02:00 2018</td>\n",
       "      <td>1540190444165</td>\n",
       "      <td>Mon Oct 22 08:40:44 GMT+02:00 2018</td>\n",
       "      <td>495128</td>\n",
       "      <td>8 min</td>\n",
       "    </tr>\n",
       "    <tr>\n",
       "      <th>5</th>\n",
       "      <td>Moving - youtube</td>\n",
       "      <td>Transport</td>\n",
       "      <td>1540190444165</td>\n",
       "      <td>Mon Oct 22 08:40:44 GMT+02:00 2018</td>\n",
       "      <td>1540190532145</td>\n",
       "      <td>Mon Oct 22 08:42:12 GMT+02:00 2018</td>\n",
       "      <td>87980</td>\n",
       "      <td>1 min</td>\n",
       "    </tr>\n",
       "    <tr>\n",
       "      <th>6</th>\n",
       "      <td>Clean</td>\n",
       "      <td>Personal Hygiene</td>\n",
       "      <td>1540190532145</td>\n",
       "      <td>Mon Oct 22 08:42:12 GMT+02:00 2018</td>\n",
       "      <td>1540191903726</td>\n",
       "      <td>Mon Oct 22 09:05:03 GMT+02:00 2018</td>\n",
       "      <td>1371581</td>\n",
       "      <td>22 min</td>\n",
       "    </tr>\n",
       "    <tr>\n",
       "      <th>7</th>\n",
       "      <td>Food</td>\n",
       "      <td>Feeding</td>\n",
       "      <td>1540191903726</td>\n",
       "      <td>Mon Oct 22 09:05:03 GMT+02:00 2018</td>\n",
       "      <td>1540193553126</td>\n",
       "      <td>Mon Oct 22 09:32:33 GMT+02:00 2018</td>\n",
       "      <td>1649400</td>\n",
       "      <td>27 min</td>\n",
       "    </tr>\n",
       "    <tr>\n",
       "      <th>8</th>\n",
       "      <td>Moving - youtube</td>\n",
       "      <td>Transport</td>\n",
       "      <td>1540193553126</td>\n",
       "      <td>Mon Oct 22 09:32:33 GMT+02:00 2018</td>\n",
       "      <td>1540194820783</td>\n",
       "      <td>Mon Oct 22 09:53:40 GMT+02:00 2018</td>\n",
       "      <td>1267657</td>\n",
       "      <td>21 min</td>\n",
       "    </tr>\n",
       "    <tr>\n",
       "      <th>9</th>\n",
       "      <td>Moving - youtube</td>\n",
       "      <td>Transport</td>\n",
       "      <td>1540194820783</td>\n",
       "      <td>Mon Oct 22 09:53:40 GMT+02:00 2018</td>\n",
       "      <td>1540195000783</td>\n",
       "      <td>Mon Oct 22 09:56:40 GMT+02:00 2018</td>\n",
       "      <td>180000</td>\n",
       "      <td>3 min</td>\n",
       "    </tr>\n",
       "  </tbody>\n",
       "</table>\n",
       "</div>"
      ],
      "text/plain": [
       "       activityName activityCategoryName  activityStartDate [ms]  \\\n",
       "0            Trello   Personal Adjusting           1540159273005   \n",
       "1     Series / Docu        Entertainment           1540159869559   \n",
       "2             Sleep              Refresh           1540162820068   \n",
       "3  Moving - youtube            Transport           1540189458018   \n",
       "4            Trello   Personal Adjusting           1540189949037   \n",
       "5  Moving - youtube            Transport           1540190444165   \n",
       "6             Clean     Personal Hygiene           1540190532145   \n",
       "7              Food              Feeding           1540191903726   \n",
       "8  Moving - youtube            Transport           1540193553126   \n",
       "9  Moving - youtube            Transport           1540194820783   \n",
       "\n",
       "                    activityStartDate  activityEndDate [ms]  \\\n",
       "0  Mon Oct 22 00:01:13 GMT+02:00 2018         1540159869559   \n",
       "1  Mon Oct 22 00:11:09 GMT+02:00 2018         1540162820068   \n",
       "2  Mon Oct 22 01:00:20 GMT+02:00 2018         1540189458018   \n",
       "3  Mon Oct 22 08:24:18 GMT+02:00 2018         1540189949037   \n",
       "4  Mon Oct 22 08:32:29 GMT+02:00 2018         1540190444165   \n",
       "5  Mon Oct 22 08:40:44 GMT+02:00 2018         1540190532145   \n",
       "6  Mon Oct 22 08:42:12 GMT+02:00 2018         1540191903726   \n",
       "7  Mon Oct 22 09:05:03 GMT+02:00 2018         1540193553126   \n",
       "8  Mon Oct 22 09:32:33 GMT+02:00 2018         1540194820783   \n",
       "9  Mon Oct 22 09:53:40 GMT+02:00 2018         1540195000783   \n",
       "\n",
       "                      activityEndDate  activityDuration [ms] activityDuration  \n",
       "0  Mon Oct 22 00:11:09 GMT+02:00 2018                 596554            9 min  \n",
       "1  Mon Oct 22 01:00:20 GMT+02:00 2018                2950509           49 min  \n",
       "2  Mon Oct 22 08:24:18 GMT+02:00 2018               26637950       7 h 23 min  \n",
       "3  Mon Oct 22 08:32:29 GMT+02:00 2018                 491019            8 min  \n",
       "4  Mon Oct 22 08:40:44 GMT+02:00 2018                 495128            8 min  \n",
       "5  Mon Oct 22 08:42:12 GMT+02:00 2018                  87980            1 min  \n",
       "6  Mon Oct 22 09:05:03 GMT+02:00 2018                1371581           22 min  \n",
       "7  Mon Oct 22 09:32:33 GMT+02:00 2018                1649400           27 min  \n",
       "8  Mon Oct 22 09:53:40 GMT+02:00 2018                1267657           21 min  \n",
       "9  Mon Oct 22 09:56:40 GMT+02:00 2018                 180000            3 min  "
      ]
     },
     "execution_count": 5,
     "metadata": {},
     "output_type": "execute_result"
    }
   ],
   "source": [
    "df.head(10)"
   ]
  },
  {
   "cell_type": "code",
   "execution_count": 6,
   "metadata": {},
   "outputs": [
    {
     "data": {
      "text/html": [
       "<div>\n",
       "<style scoped>\n",
       "    .dataframe tbody tr th:only-of-type {\n",
       "        vertical-align: middle;\n",
       "    }\n",
       "\n",
       "    .dataframe tbody tr th {\n",
       "        vertical-align: top;\n",
       "    }\n",
       "\n",
       "    .dataframe thead th {\n",
       "        text-align: right;\n",
       "    }\n",
       "</style>\n",
       "<table border=\"1\" class=\"dataframe\">\n",
       "  <thead>\n",
       "    <tr style=\"text-align: right;\">\n",
       "      <th></th>\n",
       "      <th>activityName</th>\n",
       "      <th>activityCategoryName</th>\n",
       "      <th>activityStartDate [ms]</th>\n",
       "      <th>activityStartDate</th>\n",
       "      <th>activityEndDate [ms]</th>\n",
       "      <th>activityEndDate</th>\n",
       "      <th>activityDuration [ms]</th>\n",
       "      <th>activityDuration</th>\n",
       "    </tr>\n",
       "  </thead>\n",
       "  <tbody>\n",
       "    <tr>\n",
       "      <th>3376</th>\n",
       "      <td>Clean</td>\n",
       "      <td>Personal Hygiene</td>\n",
       "      <td>1551212884109</td>\n",
       "      <td>Tue Feb 26 21:28:04 GMT+01:00 2019</td>\n",
       "      <td>1551214324109</td>\n",
       "      <td>Tue Feb 26 21:52:04 GMT+01:00 2019</td>\n",
       "      <td>1440000</td>\n",
       "      <td>24 min</td>\n",
       "    </tr>\n",
       "    <tr>\n",
       "      <th>3377</th>\n",
       "      <td>Social - girl</td>\n",
       "      <td>Social - Persist</td>\n",
       "      <td>1551214324109</td>\n",
       "      <td>Tue Feb 26 21:52:04 GMT+01:00 2019</td>\n",
       "      <td>1551215764109</td>\n",
       "      <td>Tue Feb 26 22:16:04 GMT+01:00 2019</td>\n",
       "      <td>1440000</td>\n",
       "      <td>24 min</td>\n",
       "    </tr>\n",
       "    <tr>\n",
       "      <th>3378</th>\n",
       "      <td>Sleep</td>\n",
       "      <td>Refresh</td>\n",
       "      <td>1551215764109</td>\n",
       "      <td>Tue Feb 26 22:16:04 GMT+01:00 2019</td>\n",
       "      <td>1551249146378</td>\n",
       "      <td>Wed Feb 27 07:32:26 GMT+01:00 2019</td>\n",
       "      <td>33382269</td>\n",
       "      <td>9 h 16 min</td>\n",
       "    </tr>\n",
       "    <tr>\n",
       "      <th>3379</th>\n",
       "      <td>Food - Prepare</td>\n",
       "      <td>Feeding</td>\n",
       "      <td>1551249146378</td>\n",
       "      <td>Wed Feb 27 07:32:26 GMT+01:00 2019</td>\n",
       "      <td>1551250286378</td>\n",
       "      <td>Wed Feb 27 07:51:26 GMT+01:00 2019</td>\n",
       "      <td>1140000</td>\n",
       "      <td>19 min</td>\n",
       "    </tr>\n",
       "    <tr>\n",
       "      <th>3380</th>\n",
       "      <td>Food</td>\n",
       "      <td>Feeding</td>\n",
       "      <td>1551250286378</td>\n",
       "      <td>Wed Feb 27 07:51:26 GMT+01:00 2019</td>\n",
       "      <td>1551251227367</td>\n",
       "      <td>Wed Feb 27 08:07:07 GMT+01:00 2019</td>\n",
       "      <td>940989</td>\n",
       "      <td>15 min</td>\n",
       "    </tr>\n",
       "    <tr>\n",
       "      <th>3381</th>\n",
       "      <td>Learning - Language</td>\n",
       "      <td>Learning</td>\n",
       "      <td>1551251227367</td>\n",
       "      <td>Wed Feb 27 08:07:07 GMT+01:00 2019</td>\n",
       "      <td>1551252667367</td>\n",
       "      <td>Wed Feb 27 08:31:07 GMT+01:00 2019</td>\n",
       "      <td>1440000</td>\n",
       "      <td>24 min</td>\n",
       "    </tr>\n",
       "    <tr>\n",
       "      <th>3382</th>\n",
       "      <td>Social - girl</td>\n",
       "      <td>Social - Persist</td>\n",
       "      <td>1551252667367</td>\n",
       "      <td>Wed Feb 27 08:31:07 GMT+01:00 2019</td>\n",
       "      <td>1551254587367</td>\n",
       "      <td>Wed Feb 27 09:03:07 GMT+01:00 2019</td>\n",
       "      <td>1920000</td>\n",
       "      <td>32 min</td>\n",
       "    </tr>\n",
       "    <tr>\n",
       "      <th>3383</th>\n",
       "      <td>Learning - Language</td>\n",
       "      <td>Learning</td>\n",
       "      <td>1551254587367</td>\n",
       "      <td>Wed Feb 27 09:03:07 GMT+01:00 2019</td>\n",
       "      <td>1551255533154</td>\n",
       "      <td>Wed Feb 27 09:18:53 GMT+01:00 2019</td>\n",
       "      <td>945787</td>\n",
       "      <td>15 min</td>\n",
       "    </tr>\n",
       "    <tr>\n",
       "      <th>3384</th>\n",
       "      <td>Sport</td>\n",
       "      <td>Sport</td>\n",
       "      <td>1551255533154</td>\n",
       "      <td>Wed Feb 27 09:18:53 GMT+01:00 2019</td>\n",
       "      <td>1551256313154</td>\n",
       "      <td>Wed Feb 27 09:31:53 GMT+01:00 2019</td>\n",
       "      <td>780000</td>\n",
       "      <td>13 min</td>\n",
       "    </tr>\n",
       "    <tr>\n",
       "      <th>3385</th>\n",
       "      <td>Clean</td>\n",
       "      <td>Personal Hygiene</td>\n",
       "      <td>1551256313154</td>\n",
       "      <td>Wed Feb 27 09:31:53 GMT+01:00 2019</td>\n",
       "      <td>1551257046239</td>\n",
       "      <td>Wed Feb 27 09:44:06 GMT+01:00 2019</td>\n",
       "      <td>733085</td>\n",
       "      <td>12 min</td>\n",
       "    </tr>\n",
       "  </tbody>\n",
       "</table>\n",
       "</div>"
      ],
      "text/plain": [
       "             activityName activityCategoryName  activityStartDate [ms]  \\\n",
       "3376                Clean     Personal Hygiene           1551212884109   \n",
       "3377        Social - girl     Social - Persist           1551214324109   \n",
       "3378                Sleep              Refresh           1551215764109   \n",
       "3379       Food - Prepare              Feeding           1551249146378   \n",
       "3380                 Food              Feeding           1551250286378   \n",
       "3381  Learning - Language             Learning           1551251227367   \n",
       "3382        Social - girl     Social - Persist           1551252667367   \n",
       "3383  Learning - Language             Learning           1551254587367   \n",
       "3384                Sport                Sport           1551255533154   \n",
       "3385                Clean     Personal Hygiene           1551256313154   \n",
       "\n",
       "                       activityStartDate  activityEndDate [ms]  \\\n",
       "3376  Tue Feb 26 21:28:04 GMT+01:00 2019         1551214324109   \n",
       "3377  Tue Feb 26 21:52:04 GMT+01:00 2019         1551215764109   \n",
       "3378  Tue Feb 26 22:16:04 GMT+01:00 2019         1551249146378   \n",
       "3379  Wed Feb 27 07:32:26 GMT+01:00 2019         1551250286378   \n",
       "3380  Wed Feb 27 07:51:26 GMT+01:00 2019         1551251227367   \n",
       "3381  Wed Feb 27 08:07:07 GMT+01:00 2019         1551252667367   \n",
       "3382  Wed Feb 27 08:31:07 GMT+01:00 2019         1551254587367   \n",
       "3383  Wed Feb 27 09:03:07 GMT+01:00 2019         1551255533154   \n",
       "3384  Wed Feb 27 09:18:53 GMT+01:00 2019         1551256313154   \n",
       "3385  Wed Feb 27 09:31:53 GMT+01:00 2019         1551257046239   \n",
       "\n",
       "                         activityEndDate  activityDuration [ms]  \\\n",
       "3376  Tue Feb 26 21:52:04 GMT+01:00 2019                1440000   \n",
       "3377  Tue Feb 26 22:16:04 GMT+01:00 2019                1440000   \n",
       "3378  Wed Feb 27 07:32:26 GMT+01:00 2019               33382269   \n",
       "3379  Wed Feb 27 07:51:26 GMT+01:00 2019                1140000   \n",
       "3380  Wed Feb 27 08:07:07 GMT+01:00 2019                 940989   \n",
       "3381  Wed Feb 27 08:31:07 GMT+01:00 2019                1440000   \n",
       "3382  Wed Feb 27 09:03:07 GMT+01:00 2019                1920000   \n",
       "3383  Wed Feb 27 09:18:53 GMT+01:00 2019                 945787   \n",
       "3384  Wed Feb 27 09:31:53 GMT+01:00 2019                 780000   \n",
       "3385  Wed Feb 27 09:44:06 GMT+01:00 2019                 733085   \n",
       "\n",
       "     activityDuration  \n",
       "3376           24 min  \n",
       "3377           24 min  \n",
       "3378       9 h 16 min  \n",
       "3379           19 min  \n",
       "3380           15 min  \n",
       "3381           24 min  \n",
       "3382           32 min  \n",
       "3383           15 min  \n",
       "3384           13 min  \n",
       "3385           12 min  "
      ]
     },
     "execution_count": 6,
     "metadata": {},
     "output_type": "execute_result"
    }
   ],
   "source": [
    "df.tail(10)"
   ]
  },
  {
   "cell_type": "markdown",
   "metadata": {},
   "source": [
    "### Conclusion: Data exploration\n",
    "The data consists of a few columns for activity and category and timestamps"
   ]
  },
  {
   "cell_type": "markdown",
   "metadata": {},
   "source": [
    "# Base table creation\n",
    "Goal is to create a cleaned data, selected features and augmented table."
   ]
  },
  {
   "cell_type": "markdown",
   "metadata": {},
   "source": [
    "## Clean data\n",
    "### Identify missing data"
   ]
  },
  {
   "cell_type": "code",
   "execution_count": 14,
   "metadata": {},
   "outputs": [
    {
     "data": {
      "text/plain": [
       "activityName              0\n",
       "activityCategoryName      0\n",
       "activityStartDate [ms]    0\n",
       "activityStartDate         0\n",
       "activityEndDate [ms]      0\n",
       "activityEndDate           0\n",
       "activityDuration [ms]     0\n",
       "activityDuration          0\n",
       "dtype: int64"
      ]
     },
     "execution_count": 14,
     "metadata": {},
     "output_type": "execute_result"
    }
   ],
   "source": [
    "df.isnull().sum()"
   ]
  },
  {
   "cell_type": "code",
   "execution_count": 15,
   "metadata": {},
   "outputs": [
    {
     "data": {
      "text/plain": [
       "<matplotlib.axes._subplots.AxesSubplot at 0x134a802e8>"
      ]
     },
     "execution_count": 15,
     "metadata": {},
     "output_type": "execute_result"
    },
    {
     "data": {
      "image/png": "[encoded data removed]",
      "text/plain": [
       "<Figure size 1800x720 with 2 Axes>"
      ]
     },
     "metadata": {
      "needs_background": "light"
     },
     "output_type": "display_data"
    }
   ],
   "source": [
    "# Nice visualization\n",
    "msno.matrix(df) "
   ]
  },
  {
   "cell_type": "markdown",
   "metadata": {},
   "source": [
    "### Conclusion: Clean Data\n",
    "No missing values are found in the data. No filling of missing values is necessary. "
   ]
  },
  {
   "cell_type": "markdown",
   "metadata": {},
   "source": [
    "## Feature engineering "
   ]
  },
  {
   "cell_type": "markdown",
   "metadata": {},
   "source": [
    "Let's take only relevant features into our base table:\n",
    "- activity, \n",
    "- category, \n",
    "- start_date_timestamp, \n",
    "- start_date,\n",
    "- end_date_timestamp,\n",
    "- end_date,\n",
    "- activity_duration[m]   # minutes"
   ]
  },
  {
   "cell_type": "code",
   "execution_count": 16,
   "metadata": {},
   "outputs": [],
   "source": [
    "base_table = pd.DataFrame()\n",
    "base_table['activity'] = df['activityName']\n",
    "base_table['category'] = df['activityCategoryName']\n",
    "base_table['start_date[ms]'] = df['activityStartDate [ms]']\n",
    "base_table['start_date'] = df['activityStartDate']\n",
    "base_table['end_date[ms]'] = df['activityEndDate [ms]']\n",
    "base_table['end_date'] = df['activityEndDate']"
   ]
  },
  {
   "cell_type": "markdown",
   "metadata": {},
   "source": [
    "Lets transform activitiy duration in minutes. Because minutes is a more relevant metric than milliseconds for our activitiy analysis."
   ]
  },
  {
   "cell_type": "code",
   "execution_count": 17,
   "metadata": {},
   "outputs": [],
   "source": [
    "ms_to_m = 1000 * 60 #milli seconds to minutes\n",
    "base_table['activityDuration[m]'] = df['activityDuration [ms]'] / ms_to_m\n",
    "# cast to int (not needed now - we loose here just information)\n",
    "# base_table['activityDuration[m]'] = base_table['activityDuration[m]'].astype(int)"
   ]
  },
  {
   "cell_type": "code",
   "execution_count": 18,
   "metadata": {},
   "outputs": [
    {
     "data": {
      "text/plain": [
       "activity                object\n",
       "category                object\n",
       "start_date[ms]           int64\n",
       "start_date              object\n",
       "end_date[ms]             int64\n",
       "end_date                object\n",
       "activityDuration[m]    float64\n",
       "dtype: object"
      ]
     },
     "execution_count": 18,
     "metadata": {},
     "output_type": "execute_result"
    }
   ],
   "source": [
    "base_table.dtypes"
   ]
  },
  {
   "cell_type": "code",
   "execution_count": 19,
   "metadata": {},
   "outputs": [
    {
     "data": {
      "text/html": [
       "<div>\n",
       "<style scoped>\n",
       "    .dataframe tbody tr th:only-of-type {\n",
       "        vertical-align: middle;\n",
       "    }\n",
       "\n",
       "    .dataframe tbody tr th {\n",
       "        vertical-align: top;\n",
       "    }\n",
       "\n",
       "    .dataframe thead th {\n",
       "        text-align: right;\n",
       "    }\n",
       "</style>\n",
       "<table border=\"1\" class=\"dataframe\">\n",
       "  <thead>\n",
       "    <tr style=\"text-align: right;\">\n",
       "      <th></th>\n",
       "      <th>activity</th>\n",
       "      <th>category</th>\n",
       "      <th>start_date[ms]</th>\n",
       "      <th>start_date</th>\n",
       "      <th>end_date[ms]</th>\n",
       "      <th>end_date</th>\n",
       "      <th>activityDuration[m]</th>\n",
       "    </tr>\n",
       "  </thead>\n",
       "  <tbody>\n",
       "    <tr>\n",
       "      <th>0</th>\n",
       "      <td>Trello</td>\n",
       "      <td>Personal Adjusting</td>\n",
       "      <td>1540159273005</td>\n",
       "      <td>Mon Oct 22 00:01:13 GMT+02:00 2018</td>\n",
       "      <td>1540159869559</td>\n",
       "      <td>Mon Oct 22 00:11:09 GMT+02:00 2018</td>\n",
       "      <td>9.942567</td>\n",
       "    </tr>\n",
       "    <tr>\n",
       "      <th>1</th>\n",
       "      <td>Series / Docu</td>\n",
       "      <td>Entertainment</td>\n",
       "      <td>1540159869559</td>\n",
       "      <td>Mon Oct 22 00:11:09 GMT+02:00 2018</td>\n",
       "      <td>1540162820068</td>\n",
       "      <td>Mon Oct 22 01:00:20 GMT+02:00 2018</td>\n",
       "      <td>49.175150</td>\n",
       "    </tr>\n",
       "    <tr>\n",
       "      <th>2</th>\n",
       "      <td>Sleep</td>\n",
       "      <td>Refresh</td>\n",
       "      <td>1540162820068</td>\n",
       "      <td>Mon Oct 22 01:00:20 GMT+02:00 2018</td>\n",
       "      <td>1540189458018</td>\n",
       "      <td>Mon Oct 22 08:24:18 GMT+02:00 2018</td>\n",
       "      <td>443.965833</td>\n",
       "    </tr>\n",
       "    <tr>\n",
       "      <th>3</th>\n",
       "      <td>Moving - youtube</td>\n",
       "      <td>Transport</td>\n",
       "      <td>1540189458018</td>\n",
       "      <td>Mon Oct 22 08:24:18 GMT+02:00 2018</td>\n",
       "      <td>1540189949037</td>\n",
       "      <td>Mon Oct 22 08:32:29 GMT+02:00 2018</td>\n",
       "      <td>8.183650</td>\n",
       "    </tr>\n",
       "    <tr>\n",
       "      <th>4</th>\n",
       "      <td>Trello</td>\n",
       "      <td>Personal Adjusting</td>\n",
       "      <td>1540189949037</td>\n",
       "      <td>Mon Oct 22 08:32:29 GMT+02:00 2018</td>\n",
       "      <td>1540190444165</td>\n",
       "      <td>Mon Oct 22 08:40:44 GMT+02:00 2018</td>\n",
       "      <td>8.252133</td>\n",
       "    </tr>\n",
       "  </tbody>\n",
       "</table>\n",
       "</div>"
      ],
      "text/plain": [
       "           activity            category  start_date[ms]  \\\n",
       "0            Trello  Personal Adjusting   1540159273005   \n",
       "1     Series / Docu       Entertainment   1540159869559   \n",
       "2             Sleep             Refresh   1540162820068   \n",
       "3  Moving - youtube           Transport   1540189458018   \n",
       "4            Trello  Personal Adjusting   1540189949037   \n",
       "\n",
       "                           start_date   end_date[ms]  \\\n",
       "0  Mon Oct 22 00:01:13 GMT+02:00 2018  1540159869559   \n",
       "1  Mon Oct 22 00:11:09 GMT+02:00 2018  1540162820068   \n",
       "2  Mon Oct 22 01:00:20 GMT+02:00 2018  1540189458018   \n",
       "3  Mon Oct 22 08:24:18 GMT+02:00 2018  1540189949037   \n",
       "4  Mon Oct 22 08:32:29 GMT+02:00 2018  1540190444165   \n",
       "\n",
       "                             end_date  activityDuration[m]  \n",
       "0  Mon Oct 22 00:11:09 GMT+02:00 2018             9.942567  \n",
       "1  Mon Oct 22 01:00:20 GMT+02:00 2018            49.175150  \n",
       "2  Mon Oct 22 08:24:18 GMT+02:00 2018           443.965833  \n",
       "3  Mon Oct 22 08:32:29 GMT+02:00 2018             8.183650  \n",
       "4  Mon Oct 22 08:40:44 GMT+02:00 2018             8.252133  "
      ]
     },
     "execution_count": 19,
     "metadata": {},
     "output_type": "execute_result"
    }
   ],
   "source": [
    "base_table.head()"
   ]
  },
  {
   "cell_type": "markdown",
   "metadata": {},
   "source": [
    "### Distributions of numeric features"
   ]
  },
  {
   "cell_type": "markdown",
   "metadata": {},
   "source": [
    "Lets plot a histogram of activity duration (numeric feature) to see the distribution of time spend on activities. "
   ]
  },
  {
   "cell_type": "code",
   "execution_count": 11,
   "metadata": {},
   "outputs": [
    {
     "data": {
      "image/png": "[encoded data removed]",
      "text/plain": [
       "<Figure size 1008x1008 with 1 Axes>"
      ]
     },
     "metadata": {
      "needs_background": "light"
     },
     "output_type": "display_data"
    }
   ],
   "source": [
    "axes = base_table['activityDuration[m]'].hist(xrot=-45, figsize=(14,14),\n",
    "                                       bins=100, range=(0,120))\n",
    "axes.set_xlabel(\"minutes\")\n",
    "axes.set_ylabel(\"n\")\n",
    "plt.show()"
   ]
  },
  {
   "cell_type": "markdown",
   "metadata": {},
   "source": [
    "# Model"
   ]
  },
  {
   "cell_type": "markdown",
   "metadata": {},
   "source": [
    "# Model evaluation"
   ]
  },
  {
   "cell_type": "markdown",
   "metadata": {},
   "source": [
    "# Communicate results (conclusion) "
   ]
  },
  {
   "cell_type": "code",
   "execution_count": null,
   "metadata": {},
   "outputs": [],
   "source": []
  }
 ],
 "metadata": {
  "kernelspec": {
   "display_name": "venv",
   "language": "python",
   "name": "venv"
  },
  "language_info": {
   "codemirror_mode": {
    "name": "ipython",
    "version": 3
   },
   "file_extension": ".py",
   "mimetype": "text/x-python",
   "name": "python",
   "nbconvert_exporter": "python",
   "pygments_lexer": "ipython3",
   "version": "3.7.2"
  }
 },
 "nbformat": 4,
 "nbformat_minor": 2
}
