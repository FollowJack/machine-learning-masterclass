{
 "cells": [
  {
   "cell_type": "markdown",
   "metadata": {},
   "source": [
    "# Model and Conclusion"
   ]
  },
  {
   "cell_type": "markdown",
   "metadata": {},
   "source": [
    "# Setup"
   ]
  },
  {
   "cell_type": "code",
   "execution_count": 1,
   "metadata": {},
   "outputs": [],
   "source": [
    "# dependencies\n",
    "import numpy as np\n",
    "import pandas as pd\n",
    "from matplotlib import pyplot as plt\n",
    "%matplotlib inline \n",
    "\n",
    "import seaborn as sns\n",
    "\n",
    "import missingno as msno"
   ]
  },
  {
   "cell_type": "code",
   "execution_count": 2,
   "metadata": {},
   "outputs": [],
   "source": [
    "import turicreate as tc"
   ]
  },
  {
   "cell_type": "markdown",
   "metadata": {},
   "source": [
    "# Get data"
   ]
  },
  {
   "cell_type": "code",
   "execution_count": 3,
   "metadata": {},
   "outputs": [],
   "source": [
    "# Panda - stored in memory (limited)\n",
    "# df = pd.read_csv('data/clean_table.csv')"
   ]
  },
  {
   "cell_type": "code",
   "execution_count": 4,
   "metadata": {},
   "outputs": [
    {
     "data": {
      "text/html": [
       "<pre>Finished parsing file /Users/deniel.horvatic/repository/machine-learning-masterclass/project_10_activity_analysis/data/base_table_time_slots.csv</pre>"
      ],
      "text/plain": [
       "Finished parsing file /Users/deniel.horvatic/repository/machine-learning-masterclass/project_10_activity_analysis/data/base_table_time_slots.csv"
      ]
     },
     "metadata": {},
     "output_type": "display_data"
    },
    {
     "data": {
      "text/html": [
       "<pre>Parsing completed. Parsed 100 lines in 0.041829 secs.</pre>"
      ],
      "text/plain": [
       "Parsing completed. Parsed 100 lines in 0.041829 secs."
      ]
     },
     "metadata": {},
     "output_type": "display_data"
    },
    {
     "name": "stdout",
     "output_type": "stream",
     "text": [
      "------------------------------------------------------\n",
      "Inferred types from first 100 line(s) of file as \n",
      "column_type_hints=[int,int,str,array,str,int,str,int,int,int,int,int,int,int,int,int,int,int,int,int,int,int,int,int,int,int,int,int,int,int,int,int,int,int,int,int,int,int,int,int,int,int,int,int,int,int,int,int,int,int,int,int,int,int,int,int,int,int,int,int,int,int,int,int,int,int,int,int,int,int,int,int,int,int,int,int,int,int,int,int,int,int,int,int,int,int,int,int,int,int,int,int,int,int,int,int,int,int,str]\n",
      "If parsing fails due to incorrect types, you can correct\n",
      "the inferred type list above and pass it to read_csv in\n",
      "the column_type_hints argument\n",
      "------------------------------------------------------\n"
     ]
    },
    {
     "data": {
      "text/html": [
       "<pre>Finished parsing file /Users/deniel.horvatic/repository/machine-learning-masterclass/project_10_activity_analysis/data/base_table_time_slots.csv</pre>"
      ],
      "text/plain": [
       "Finished parsing file /Users/deniel.horvatic/repository/machine-learning-masterclass/project_10_activity_analysis/data/base_table_time_slots.csv"
      ]
     },
     "metadata": {},
     "output_type": "display_data"
    },
    {
     "data": {
      "text/html": [
       "<pre>Parsing completed. Parsed 3386 lines in 0.024577 secs.</pre>"
      ],
      "text/plain": [
       "Parsing completed. Parsed 3386 lines in 0.024577 secs."
      ]
     },
     "metadata": {},
     "output_type": "display_data"
    }
   ],
   "source": [
    "# SFrame - better when you have to scale up\n",
    "df = tc.SFrame.read_csv('./data/base_table_time_slots.csv')"
   ]
  },
  {
   "cell_type": "markdown",
   "metadata": {},
   "source": [
    "# Data Exploration\n",
    "## Standard analysis"
   ]
  },
  {
   "cell_type": "code",
   "execution_count": 5,
   "metadata": {},
   "outputs": [
    {
     "data": {
      "text/plain": [
       "(3386, 99)"
      ]
     },
     "execution_count": 5,
     "metadata": {},
     "output_type": "execute_result"
    }
   ],
   "source": [
    "df.shape"
   ]
  },
  {
   "cell_type": "code",
   "execution_count": 6,
   "metadata": {},
   "outputs": [],
   "source": [
    "# panda only\n",
    "# df.dtypes"
   ]
  },
  {
   "cell_type": "code",
   "execution_count": 7,
   "metadata": {},
   "outputs": [
    {
     "data": {
      "text/html": [
       "<div style=\"max-height:1000px;max-width:1500px;overflow:auto;\"><table frame=\"box\" rules=\"cols\">\n",
       "    <tr>\n",
       "        <th style=\"padding-left: 1em; padding-right: 1em; text-align: center\">X1</th>\n",
       "        <th style=\"padding-left: 1em; padding-right: 1em; text-align: center\">id</th>\n",
       "        <th style=\"padding-left: 1em; padding-right: 1em; text-align: center\">category_name</th>\n",
       "        <th style=\"padding-left: 1em; padding-right: 1em; text-align: center\">timeslot</th>\n",
       "        <th style=\"padding-left: 1em; padding-right: 1em; text-align: center\">start_date</th>\n",
       "        <th style=\"padding-left: 1em; padding-right: 1em; text-align: center\">start_date_timestamp</th>\n",
       "    </tr>\n",
       "    <tr>\n",
       "        <td style=\"padding-left: 1em; padding-right: 1em; text-align: center; vertical-align: top\">0</td>\n",
       "        <td style=\"padding-left: 1em; padding-right: 1em; text-align: center; vertical-align: top\">0</td>\n",
       "        <td style=\"padding-left: 1em; padding-right: 1em; text-align: center; vertical-align: top\">Personal Adjusting</td>\n",
       "        <td style=\"padding-left: 1em; padding-right: 1em; text-align: center; vertical-align: top\">[0.0]</td>\n",
       "        <td style=\"padding-left: 1em; padding-right: 1em; text-align: center; vertical-align: top\">Mon Oct 22 00:01:13<br>GMT+02:00 2018 ...</td>\n",
       "        <td style=\"padding-left: 1em; padding-right: 1em; text-align: center; vertical-align: top\">1540159273005</td>\n",
       "    </tr>\n",
       "    <tr>\n",
       "        <td style=\"padding-left: 1em; padding-right: 1em; text-align: center; vertical-align: top\">1</td>\n",
       "        <td style=\"padding-left: 1em; padding-right: 1em; text-align: center; vertical-align: top\">1</td>\n",
       "        <td style=\"padding-left: 1em; padding-right: 1em; text-align: center; vertical-align: top\">Entertainment</td>\n",
       "        <td style=\"padding-left: 1em; padding-right: 1em; text-align: center; vertical-align: top\">[0.0, 1.0, 2.0]</td>\n",
       "        <td style=\"padding-left: 1em; padding-right: 1em; text-align: center; vertical-align: top\">Mon Oct 22 00:11:09<br>GMT+02:00 2018 ...</td>\n",
       "        <td style=\"padding-left: 1em; padding-right: 1em; text-align: center; vertical-align: top\">1540159869559</td>\n",
       "    </tr>\n",
       "    <tr>\n",
       "        <td style=\"padding-left: 1em; padding-right: 1em; text-align: center; vertical-align: top\">2</td>\n",
       "        <td style=\"padding-left: 1em; padding-right: 1em; text-align: center; vertical-align: top\">2</td>\n",
       "        <td style=\"padding-left: 1em; padding-right: 1em; text-align: center; vertical-align: top\">Refresh</td>\n",
       "        <td style=\"padding-left: 1em; padding-right: 1em; text-align: center; vertical-align: top\">[2.0, 3.0, 4.0, 5.0, 6.0,<br>7.0, 8.0, 9.0, 10.0, ...</td>\n",
       "        <td style=\"padding-left: 1em; padding-right: 1em; text-align: center; vertical-align: top\">Mon Oct 22 01:00:20<br>GMT+02:00 2018 ...</td>\n",
       "        <td style=\"padding-left: 1em; padding-right: 1em; text-align: center; vertical-align: top\">1540162820068</td>\n",
       "    </tr>\n",
       "    <tr>\n",
       "        <td style=\"padding-left: 1em; padding-right: 1em; text-align: center; vertical-align: top\">3</td>\n",
       "        <td style=\"padding-left: 1em; padding-right: 1em; text-align: center; vertical-align: top\">3</td>\n",
       "        <td style=\"padding-left: 1em; padding-right: 1em; text-align: center; vertical-align: top\">Transport</td>\n",
       "        <td style=\"padding-left: 1em; padding-right: 1em; text-align: center; vertical-align: top\">[16.0, 17.0]</td>\n",
       "        <td style=\"padding-left: 1em; padding-right: 1em; text-align: center; vertical-align: top\">Mon Oct 22 08:24:18<br>GMT+02:00 2018 ...</td>\n",
       "        <td style=\"padding-left: 1em; padding-right: 1em; text-align: center; vertical-align: top\">1540189458018</td>\n",
       "    </tr>\n",
       "    <tr>\n",
       "        <td style=\"padding-left: 1em; padding-right: 1em; text-align: center; vertical-align: top\">4</td>\n",
       "        <td style=\"padding-left: 1em; padding-right: 1em; text-align: center; vertical-align: top\">4</td>\n",
       "        <td style=\"padding-left: 1em; padding-right: 1em; text-align: center; vertical-align: top\">Personal Adjusting</td>\n",
       "        <td style=\"padding-left: 1em; padding-right: 1em; text-align: center; vertical-align: top\">[17.0]</td>\n",
       "        <td style=\"padding-left: 1em; padding-right: 1em; text-align: center; vertical-align: top\">Mon Oct 22 08:32:29<br>GMT+02:00 2018 ...</td>\n",
       "        <td style=\"padding-left: 1em; padding-right: 1em; text-align: center; vertical-align: top\">1540189949037</td>\n",
       "    </tr>\n",
       "</table>\n",
       "<table frame=\"box\" rules=\"cols\">\n",
       "    <tr>\n",
       "        <th style=\"padding-left: 1em; padding-right: 1em; text-align: center\">end_date</th>\n",
       "        <th style=\"padding-left: 1em; padding-right: 1em; text-align: center\">end_date_timestamp</th>\n",
       "        <th style=\"padding-left: 1em; padding-right: 1em; text-align: center\">activity_name_Analyzing</th>\n",
       "        <th style=\"padding-left: 1em; padding-right: 1em; text-align: center\">activity_name_Beatbox</th>\n",
       "        <th style=\"padding-left: 1em; padding-right: 1em; text-align: center\">activity_name_Better Now</th>\n",
       "    </tr>\n",
       "    <tr>\n",
       "        <td style=\"padding-left: 1em; padding-right: 1em; text-align: center; vertical-align: top\">Mon Oct 22 00:11:09<br>GMT+02:00 2018 ...</td>\n",
       "        <td style=\"padding-left: 1em; padding-right: 1em; text-align: center; vertical-align: top\">1540159869559</td>\n",
       "        <td style=\"padding-left: 1em; padding-right: 1em; text-align: center; vertical-align: top\">0</td>\n",
       "        <td style=\"padding-left: 1em; padding-right: 1em; text-align: center; vertical-align: top\">0</td>\n",
       "        <td style=\"padding-left: 1em; padding-right: 1em; text-align: center; vertical-align: top\">0</td>\n",
       "    </tr>\n",
       "    <tr>\n",
       "        <td style=\"padding-left: 1em; padding-right: 1em; text-align: center; vertical-align: top\">Mon Oct 22 01:00:20<br>GMT+02:00 2018 ...</td>\n",
       "        <td style=\"padding-left: 1em; padding-right: 1em; text-align: center; vertical-align: top\">1540162820068</td>\n",
       "        <td style=\"padding-left: 1em; padding-right: 1em; text-align: center; vertical-align: top\">0</td>\n",
       "        <td style=\"padding-left: 1em; padding-right: 1em; text-align: center; vertical-align: top\">0</td>\n",
       "        <td style=\"padding-left: 1em; padding-right: 1em; text-align: center; vertical-align: top\">0</td>\n",
       "    </tr>\n",
       "    <tr>\n",
       "        <td style=\"padding-left: 1em; padding-right: 1em; text-align: center; vertical-align: top\">Mon Oct 22 08:24:18<br>GMT+02:00 2018 ...</td>\n",
       "        <td style=\"padding-left: 1em; padding-right: 1em; text-align: center; vertical-align: top\">1540189458018</td>\n",
       "        <td style=\"padding-left: 1em; padding-right: 1em; text-align: center; vertical-align: top\">0</td>\n",
       "        <td style=\"padding-left: 1em; padding-right: 1em; text-align: center; vertical-align: top\">0</td>\n",
       "        <td style=\"padding-left: 1em; padding-right: 1em; text-align: center; vertical-align: top\">0</td>\n",
       "    </tr>\n",
       "    <tr>\n",
       "        <td style=\"padding-left: 1em; padding-right: 1em; text-align: center; vertical-align: top\">Mon Oct 22 08:32:29<br>GMT+02:00 2018 ...</td>\n",
       "        <td style=\"padding-left: 1em; padding-right: 1em; text-align: center; vertical-align: top\">1540189949037</td>\n",
       "        <td style=\"padding-left: 1em; padding-right: 1em; text-align: center; vertical-align: top\">0</td>\n",
       "        <td style=\"padding-left: 1em; padding-right: 1em; text-align: center; vertical-align: top\">0</td>\n",
       "        <td style=\"padding-left: 1em; padding-right: 1em; text-align: center; vertical-align: top\">0</td>\n",
       "    </tr>\n",
       "    <tr>\n",
       "        <td style=\"padding-left: 1em; padding-right: 1em; text-align: center; vertical-align: top\">Mon Oct 22 08:40:44<br>GMT+02:00 2018 ...</td>\n",
       "        <td style=\"padding-left: 1em; padding-right: 1em; text-align: center; vertical-align: top\">1540190444165</td>\n",
       "        <td style=\"padding-left: 1em; padding-right: 1em; text-align: center; vertical-align: top\">0</td>\n",
       "        <td style=\"padding-left: 1em; padding-right: 1em; text-align: center; vertical-align: top\">0</td>\n",
       "        <td style=\"padding-left: 1em; padding-right: 1em; text-align: center; vertical-align: top\">0</td>\n",
       "    </tr>\n",
       "</table>\n",
       "<table frame=\"box\" rules=\"cols\">\n",
       "    <tr>\n",
       "        <th style=\"padding-left: 1em; padding-right: 1em; text-align: center\">activity_name_Bike</th>\n",
       "        <th style=\"padding-left: 1em; padding-right: 1em; text-align: center\">activity_name_Celebration<br>- Bar ...</th>\n",
       "        <th style=\"padding-left: 1em; padding-right: 1em; text-align: center\">activity_name_Celebration<br>- Club ...</th>\n",
       "        <th style=\"padding-left: 1em; padding-right: 1em; text-align: center\">activity_name_Chess</th>\n",
       "        <th style=\"padding-left: 1em; padding-right: 1em; text-align: center\">activity_name_Clean</th>\n",
       "    </tr>\n",
       "    <tr>\n",
       "        <td style=\"padding-left: 1em; padding-right: 1em; text-align: center; vertical-align: top\">0</td>\n",
       "        <td style=\"padding-left: 1em; padding-right: 1em; text-align: center; vertical-align: top\">0</td>\n",
       "        <td style=\"padding-left: 1em; padding-right: 1em; text-align: center; vertical-align: top\">0</td>\n",
       "        <td style=\"padding-left: 1em; padding-right: 1em; text-align: center; vertical-align: top\">0</td>\n",
       "        <td style=\"padding-left: 1em; padding-right: 1em; text-align: center; vertical-align: top\">0</td>\n",
       "    </tr>\n",
       "    <tr>\n",
       "        <td style=\"padding-left: 1em; padding-right: 1em; text-align: center; vertical-align: top\">0</td>\n",
       "        <td style=\"padding-left: 1em; padding-right: 1em; text-align: center; vertical-align: top\">0</td>\n",
       "        <td style=\"padding-left: 1em; padding-right: 1em; text-align: center; vertical-align: top\">0</td>\n",
       "        <td style=\"padding-left: 1em; padding-right: 1em; text-align: center; vertical-align: top\">0</td>\n",
       "        <td style=\"padding-left: 1em; padding-right: 1em; text-align: center; vertical-align: top\">0</td>\n",
       "    </tr>\n",
       "    <tr>\n",
       "        <td style=\"padding-left: 1em; padding-right: 1em; text-align: center; vertical-align: top\">0</td>\n",
       "        <td style=\"padding-left: 1em; padding-right: 1em; text-align: center; vertical-align: top\">0</td>\n",
       "        <td style=\"padding-left: 1em; padding-right: 1em; text-align: center; vertical-align: top\">0</td>\n",
       "        <td style=\"padding-left: 1em; padding-right: 1em; text-align: center; vertical-align: top\">0</td>\n",
       "        <td style=\"padding-left: 1em; padding-right: 1em; text-align: center; vertical-align: top\">0</td>\n",
       "    </tr>\n",
       "    <tr>\n",
       "        <td style=\"padding-left: 1em; padding-right: 1em; text-align: center; vertical-align: top\">0</td>\n",
       "        <td style=\"padding-left: 1em; padding-right: 1em; text-align: center; vertical-align: top\">0</td>\n",
       "        <td style=\"padding-left: 1em; padding-right: 1em; text-align: center; vertical-align: top\">0</td>\n",
       "        <td style=\"padding-left: 1em; padding-right: 1em; text-align: center; vertical-align: top\">0</td>\n",
       "        <td style=\"padding-left: 1em; padding-right: 1em; text-align: center; vertical-align: top\">0</td>\n",
       "    </tr>\n",
       "    <tr>\n",
       "        <td style=\"padding-left: 1em; padding-right: 1em; text-align: center; vertical-align: top\">0</td>\n",
       "        <td style=\"padding-left: 1em; padding-right: 1em; text-align: center; vertical-align: top\">0</td>\n",
       "        <td style=\"padding-left: 1em; padding-right: 1em; text-align: center; vertical-align: top\">0</td>\n",
       "        <td style=\"padding-left: 1em; padding-right: 1em; text-align: center; vertical-align: top\">0</td>\n",
       "        <td style=\"padding-left: 1em; padding-right: 1em; text-align: center; vertical-align: top\">0</td>\n",
       "    </tr>\n",
       "</table>\n",
       "<table frame=\"box\" rules=\"cols\">\n",
       "    <tr>\n",
       "        <th style=\"padding-left: 1em; padding-right: 1em; text-align: center\">activity_name_Cut hair</th>\n",
       "        <th style=\"padding-left: 1em; padding-right: 1em; text-align: center\">activity_name_Dance</th>\n",
       "        <th style=\"padding-left: 1em; padding-right: 1em; text-align: center\">activity_name_Drink -<br>Shit ...</th>\n",
       "        <th style=\"padding-left: 1em; padding-right: 1em; text-align: center\">activity_name_Enjoying<br>the moment ...</th>\n",
       "        <th style=\"padding-left: 1em; padding-right: 1em; text-align: center\">activity_name_Food</th>\n",
       "        <th style=\"padding-left: 1em; padding-right: 1em; text-align: center\">activity_name_Food -<br>Order ...</th>\n",
       "    </tr>\n",
       "    <tr>\n",
       "        <td style=\"padding-left: 1em; padding-right: 1em; text-align: center; vertical-align: top\">0</td>\n",
       "        <td style=\"padding-left: 1em; padding-right: 1em; text-align: center; vertical-align: top\">0</td>\n",
       "        <td style=\"padding-left: 1em; padding-right: 1em; text-align: center; vertical-align: top\">0</td>\n",
       "        <td style=\"padding-left: 1em; padding-right: 1em; text-align: center; vertical-align: top\">0</td>\n",
       "        <td style=\"padding-left: 1em; padding-right: 1em; text-align: center; vertical-align: top\">0</td>\n",
       "        <td style=\"padding-left: 1em; padding-right: 1em; text-align: center; vertical-align: top\">0</td>\n",
       "    </tr>\n",
       "    <tr>\n",
       "        <td style=\"padding-left: 1em; padding-right: 1em; text-align: center; vertical-align: top\">0</td>\n",
       "        <td style=\"padding-left: 1em; padding-right: 1em; text-align: center; vertical-align: top\">0</td>\n",
       "        <td style=\"padding-left: 1em; padding-right: 1em; text-align: center; vertical-align: top\">0</td>\n",
       "        <td style=\"padding-left: 1em; padding-right: 1em; text-align: center; vertical-align: top\">0</td>\n",
       "        <td style=\"padding-left: 1em; padding-right: 1em; text-align: center; vertical-align: top\">0</td>\n",
       "        <td style=\"padding-left: 1em; padding-right: 1em; text-align: center; vertical-align: top\">0</td>\n",
       "    </tr>\n",
       "    <tr>\n",
       "        <td style=\"padding-left: 1em; padding-right: 1em; text-align: center; vertical-align: top\">0</td>\n",
       "        <td style=\"padding-left: 1em; padding-right: 1em; text-align: center; vertical-align: top\">0</td>\n",
       "        <td style=\"padding-left: 1em; padding-right: 1em; text-align: center; vertical-align: top\">0</td>\n",
       "        <td style=\"padding-left: 1em; padding-right: 1em; text-align: center; vertical-align: top\">0</td>\n",
       "        <td style=\"padding-left: 1em; padding-right: 1em; text-align: center; vertical-align: top\">0</td>\n",
       "        <td style=\"padding-left: 1em; padding-right: 1em; text-align: center; vertical-align: top\">0</td>\n",
       "    </tr>\n",
       "    <tr>\n",
       "        <td style=\"padding-left: 1em; padding-right: 1em; text-align: center; vertical-align: top\">0</td>\n",
       "        <td style=\"padding-left: 1em; padding-right: 1em; text-align: center; vertical-align: top\">0</td>\n",
       "        <td style=\"padding-left: 1em; padding-right: 1em; text-align: center; vertical-align: top\">0</td>\n",
       "        <td style=\"padding-left: 1em; padding-right: 1em; text-align: center; vertical-align: top\">0</td>\n",
       "        <td style=\"padding-left: 1em; padding-right: 1em; text-align: center; vertical-align: top\">0</td>\n",
       "        <td style=\"padding-left: 1em; padding-right: 1em; text-align: center; vertical-align: top\">0</td>\n",
       "    </tr>\n",
       "    <tr>\n",
       "        <td style=\"padding-left: 1em; padding-right: 1em; text-align: center; vertical-align: top\">0</td>\n",
       "        <td style=\"padding-left: 1em; padding-right: 1em; text-align: center; vertical-align: top\">0</td>\n",
       "        <td style=\"padding-left: 1em; padding-right: 1em; text-align: center; vertical-align: top\">0</td>\n",
       "        <td style=\"padding-left: 1em; padding-right: 1em; text-align: center; vertical-align: top\">0</td>\n",
       "        <td style=\"padding-left: 1em; padding-right: 1em; text-align: center; vertical-align: top\">0</td>\n",
       "        <td style=\"padding-left: 1em; padding-right: 1em; text-align: center; vertical-align: top\">0</td>\n",
       "    </tr>\n",
       "</table>\n",
       "<table frame=\"box\" rules=\"cols\">\n",
       "    <tr>\n",
       "        <th style=\"padding-left: 1em; padding-right: 1em; text-align: center\">activity_name_Food -<br>Prepare ...</th>\n",
       "        <th style=\"padding-left: 1em; padding-right: 1em; text-align: center\">activity_name_Food -<br>restaurant ...</th>\n",
       "        <th style=\"padding-left: 1em; padding-right: 1em; text-align: center\">activity_name_Food - shit</th>\n",
       "        <th style=\"padding-left: 1em; padding-right: 1em; text-align: center\">activity_name_Health -<br>bad ...</th>\n",
       "        <th style=\"padding-left: 1em; padding-right: 1em; text-align: center\">activity_name_Helpful<br>Future ...</th>\n",
       "    </tr>\n",
       "    <tr>\n",
       "        <td style=\"padding-left: 1em; padding-right: 1em; text-align: center; vertical-align: top\">0</td>\n",
       "        <td style=\"padding-left: 1em; padding-right: 1em; text-align: center; vertical-align: top\">0</td>\n",
       "        <td style=\"padding-left: 1em; padding-right: 1em; text-align: center; vertical-align: top\">0</td>\n",
       "        <td style=\"padding-left: 1em; padding-right: 1em; text-align: center; vertical-align: top\">0</td>\n",
       "        <td style=\"padding-left: 1em; padding-right: 1em; text-align: center; vertical-align: top\">0</td>\n",
       "    </tr>\n",
       "    <tr>\n",
       "        <td style=\"padding-left: 1em; padding-right: 1em; text-align: center; vertical-align: top\">0</td>\n",
       "        <td style=\"padding-left: 1em; padding-right: 1em; text-align: center; vertical-align: top\">0</td>\n",
       "        <td style=\"padding-left: 1em; padding-right: 1em; text-align: center; vertical-align: top\">0</td>\n",
       "        <td style=\"padding-left: 1em; padding-right: 1em; text-align: center; vertical-align: top\">0</td>\n",
       "        <td style=\"padding-left: 1em; padding-right: 1em; text-align: center; vertical-align: top\">0</td>\n",
       "    </tr>\n",
       "    <tr>\n",
       "        <td style=\"padding-left: 1em; padding-right: 1em; text-align: center; vertical-align: top\">0</td>\n",
       "        <td style=\"padding-left: 1em; padding-right: 1em; text-align: center; vertical-align: top\">0</td>\n",
       "        <td style=\"padding-left: 1em; padding-right: 1em; text-align: center; vertical-align: top\">0</td>\n",
       "        <td style=\"padding-left: 1em; padding-right: 1em; text-align: center; vertical-align: top\">0</td>\n",
       "        <td style=\"padding-left: 1em; padding-right: 1em; text-align: center; vertical-align: top\">0</td>\n",
       "    </tr>\n",
       "    <tr>\n",
       "        <td style=\"padding-left: 1em; padding-right: 1em; text-align: center; vertical-align: top\">0</td>\n",
       "        <td style=\"padding-left: 1em; padding-right: 1em; text-align: center; vertical-align: top\">0</td>\n",
       "        <td style=\"padding-left: 1em; padding-right: 1em; text-align: center; vertical-align: top\">0</td>\n",
       "        <td style=\"padding-left: 1em; padding-right: 1em; text-align: center; vertical-align: top\">0</td>\n",
       "        <td style=\"padding-left: 1em; padding-right: 1em; text-align: center; vertical-align: top\">0</td>\n",
       "    </tr>\n",
       "    <tr>\n",
       "        <td style=\"padding-left: 1em; padding-right: 1em; text-align: center; vertical-align: top\">0</td>\n",
       "        <td style=\"padding-left: 1em; padding-right: 1em; text-align: center; vertical-align: top\">0</td>\n",
       "        <td style=\"padding-left: 1em; padding-right: 1em; text-align: center; vertical-align: top\">0</td>\n",
       "        <td style=\"padding-left: 1em; padding-right: 1em; text-align: center; vertical-align: top\">0</td>\n",
       "        <td style=\"padding-left: 1em; padding-right: 1em; text-align: center; vertical-align: top\">0</td>\n",
       "    </tr>\n",
       "</table>\n",
       "<table frame=\"box\" rules=\"cols\">\n",
       "    <tr>\n",
       "        <th style=\"padding-left: 1em; padding-right: 1em; text-align: center\">activity_name_House<br>cleaning ...</th>\n",
       "        <th style=\"padding-left: 1em; padding-right: 1em; text-align: center\">activity_name_Karaoke</th>\n",
       "        <th style=\"padding-left: 1em; padding-right: 1em; text-align: center\">activity_name_Learning -<br>Article ...</th>\n",
       "        <th style=\"padding-left: 1em; padding-right: 1em; text-align: center\">activity_name_Learning -<br>Language ...</th>\n",
       "        <th style=\"padding-left: 1em; padding-right: 1em; text-align: center\">activity_name_Learning -<br>university ...</th>\n",
       "    </tr>\n",
       "    <tr>\n",
       "        <td style=\"padding-left: 1em; padding-right: 1em; text-align: center; vertical-align: top\">0</td>\n",
       "        <td style=\"padding-left: 1em; padding-right: 1em; text-align: center; vertical-align: top\">0</td>\n",
       "        <td style=\"padding-left: 1em; padding-right: 1em; text-align: center; vertical-align: top\">0</td>\n",
       "        <td style=\"padding-left: 1em; padding-right: 1em; text-align: center; vertical-align: top\">0</td>\n",
       "        <td style=\"padding-left: 1em; padding-right: 1em; text-align: center; vertical-align: top\">0</td>\n",
       "    </tr>\n",
       "    <tr>\n",
       "        <td style=\"padding-left: 1em; padding-right: 1em; text-align: center; vertical-align: top\">0</td>\n",
       "        <td style=\"padding-left: 1em; padding-right: 1em; text-align: center; vertical-align: top\">0</td>\n",
       "        <td style=\"padding-left: 1em; padding-right: 1em; text-align: center; vertical-align: top\">0</td>\n",
       "        <td style=\"padding-left: 1em; padding-right: 1em; text-align: center; vertical-align: top\">0</td>\n",
       "        <td style=\"padding-left: 1em; padding-right: 1em; text-align: center; vertical-align: top\">0</td>\n",
       "    </tr>\n",
       "    <tr>\n",
       "        <td style=\"padding-left: 1em; padding-right: 1em; text-align: center; vertical-align: top\">0</td>\n",
       "        <td style=\"padding-left: 1em; padding-right: 1em; text-align: center; vertical-align: top\">0</td>\n",
       "        <td style=\"padding-left: 1em; padding-right: 1em; text-align: center; vertical-align: top\">0</td>\n",
       "        <td style=\"padding-left: 1em; padding-right: 1em; text-align: center; vertical-align: top\">0</td>\n",
       "        <td style=\"padding-left: 1em; padding-right: 1em; text-align: center; vertical-align: top\">0</td>\n",
       "    </tr>\n",
       "    <tr>\n",
       "        <td style=\"padding-left: 1em; padding-right: 1em; text-align: center; vertical-align: top\">0</td>\n",
       "        <td style=\"padding-left: 1em; padding-right: 1em; text-align: center; vertical-align: top\">0</td>\n",
       "        <td style=\"padding-left: 1em; padding-right: 1em; text-align: center; vertical-align: top\">0</td>\n",
       "        <td style=\"padding-left: 1em; padding-right: 1em; text-align: center; vertical-align: top\">0</td>\n",
       "        <td style=\"padding-left: 1em; padding-right: 1em; text-align: center; vertical-align: top\">0</td>\n",
       "    </tr>\n",
       "    <tr>\n",
       "        <td style=\"padding-left: 1em; padding-right: 1em; text-align: center; vertical-align: top\">0</td>\n",
       "        <td style=\"padding-left: 1em; padding-right: 1em; text-align: center; vertical-align: top\">0</td>\n",
       "        <td style=\"padding-left: 1em; padding-right: 1em; text-align: center; vertical-align: top\">0</td>\n",
       "        <td style=\"padding-left: 1em; padding-right: 1em; text-align: center; vertical-align: top\">0</td>\n",
       "        <td style=\"padding-left: 1em; padding-right: 1em; text-align: center; vertical-align: top\">0</td>\n",
       "    </tr>\n",
       "</table>\n",
       "<table frame=\"box\" rules=\"cols\">\n",
       "    <tr>\n",
       "        <th style=\"padding-left: 1em; padding-right: 1em; text-align: center\">activity_name_Life<br>Overwhelmed ...</th>\n",
       "        <th style=\"padding-left: 1em; padding-right: 1em; text-align: center\">activity_name_Massage</th>\n",
       "        <th style=\"padding-left: 1em; padding-right: 1em; text-align: center\">activity_name_Movies</th>\n",
       "        <th style=\"padding-left: 1em; padding-right: 1em; text-align: center\">activity_name_Moving -<br>Analyzing ...</th>\n",
       "        <th style=\"padding-left: 1em; padding-right: 1em; text-align: center\">activity_name_Moving -<br>Social Media ...</th>\n",
       "    </tr>\n",
       "    <tr>\n",
       "        <td style=\"padding-left: 1em; padding-right: 1em; text-align: center; vertical-align: top\">0</td>\n",
       "        <td style=\"padding-left: 1em; padding-right: 1em; text-align: center; vertical-align: top\">0</td>\n",
       "        <td style=\"padding-left: 1em; padding-right: 1em; text-align: center; vertical-align: top\">0</td>\n",
       "        <td style=\"padding-left: 1em; padding-right: 1em; text-align: center; vertical-align: top\">0</td>\n",
       "        <td style=\"padding-left: 1em; padding-right: 1em; text-align: center; vertical-align: top\">0</td>\n",
       "    </tr>\n",
       "    <tr>\n",
       "        <td style=\"padding-left: 1em; padding-right: 1em; text-align: center; vertical-align: top\">0</td>\n",
       "        <td style=\"padding-left: 1em; padding-right: 1em; text-align: center; vertical-align: top\">0</td>\n",
       "        <td style=\"padding-left: 1em; padding-right: 1em; text-align: center; vertical-align: top\">0</td>\n",
       "        <td style=\"padding-left: 1em; padding-right: 1em; text-align: center; vertical-align: top\">0</td>\n",
       "        <td style=\"padding-left: 1em; padding-right: 1em; text-align: center; vertical-align: top\">0</td>\n",
       "    </tr>\n",
       "    <tr>\n",
       "        <td style=\"padding-left: 1em; padding-right: 1em; text-align: center; vertical-align: top\">0</td>\n",
       "        <td style=\"padding-left: 1em; padding-right: 1em; text-align: center; vertical-align: top\">0</td>\n",
       "        <td style=\"padding-left: 1em; padding-right: 1em; text-align: center; vertical-align: top\">0</td>\n",
       "        <td style=\"padding-left: 1em; padding-right: 1em; text-align: center; vertical-align: top\">0</td>\n",
       "        <td style=\"padding-left: 1em; padding-right: 1em; text-align: center; vertical-align: top\">0</td>\n",
       "    </tr>\n",
       "    <tr>\n",
       "        <td style=\"padding-left: 1em; padding-right: 1em; text-align: center; vertical-align: top\">0</td>\n",
       "        <td style=\"padding-left: 1em; padding-right: 1em; text-align: center; vertical-align: top\">0</td>\n",
       "        <td style=\"padding-left: 1em; padding-right: 1em; text-align: center; vertical-align: top\">0</td>\n",
       "        <td style=\"padding-left: 1em; padding-right: 1em; text-align: center; vertical-align: top\">0</td>\n",
       "        <td style=\"padding-left: 1em; padding-right: 1em; text-align: center; vertical-align: top\">0</td>\n",
       "    </tr>\n",
       "    <tr>\n",
       "        <td style=\"padding-left: 1em; padding-right: 1em; text-align: center; vertical-align: top\">0</td>\n",
       "        <td style=\"padding-left: 1em; padding-right: 1em; text-align: center; vertical-align: top\">0</td>\n",
       "        <td style=\"padding-left: 1em; padding-right: 1em; text-align: center; vertical-align: top\">0</td>\n",
       "        <td style=\"padding-left: 1em; padding-right: 1em; text-align: center; vertical-align: top\">0</td>\n",
       "        <td style=\"padding-left: 1em; padding-right: 1em; text-align: center; vertical-align: top\">0</td>\n",
       "    </tr>\n",
       "</table>\n",
       "<table frame=\"box\" rules=\"cols\">\n",
       "    <tr>\n",
       "        <th style=\"padding-left: 1em; padding-right: 1em; text-align: center\">activity_name_Moving -<br>learn ...</th>\n",
       "        <th style=\"padding-left: 1em; padding-right: 1em; text-align: center\">activity_name_Moving -<br>social ...</th>\n",
       "        <th style=\"padding-left: 1em; padding-right: 1em; text-align: center\">activity_name_Moving -<br>youtube ...</th>\n",
       "        <th style=\"padding-left: 1em; padding-right: 1em; text-align: center\">...</th>\n",
       "    </tr>\n",
       "    <tr>\n",
       "        <td style=\"padding-left: 1em; padding-right: 1em; text-align: center; vertical-align: top\">0</td>\n",
       "        <td style=\"padding-left: 1em; padding-right: 1em; text-align: center; vertical-align: top\">0</td>\n",
       "        <td style=\"padding-left: 1em; padding-right: 1em; text-align: center; vertical-align: top\">0</td>\n",
       "        <td style=\"padding-left: 1em; padding-right: 1em; text-align: center; vertical-align: top\">...</td>\n",
       "    </tr>\n",
       "    <tr>\n",
       "        <td style=\"padding-left: 1em; padding-right: 1em; text-align: center; vertical-align: top\">0</td>\n",
       "        <td style=\"padding-left: 1em; padding-right: 1em; text-align: center; vertical-align: top\">0</td>\n",
       "        <td style=\"padding-left: 1em; padding-right: 1em; text-align: center; vertical-align: top\">0</td>\n",
       "        <td style=\"padding-left: 1em; padding-right: 1em; text-align: center; vertical-align: top\">...</td>\n",
       "    </tr>\n",
       "    <tr>\n",
       "        <td style=\"padding-left: 1em; padding-right: 1em; text-align: center; vertical-align: top\">0</td>\n",
       "        <td style=\"padding-left: 1em; padding-right: 1em; text-align: center; vertical-align: top\">0</td>\n",
       "        <td style=\"padding-left: 1em; padding-right: 1em; text-align: center; vertical-align: top\">0</td>\n",
       "        <td style=\"padding-left: 1em; padding-right: 1em; text-align: center; vertical-align: top\">...</td>\n",
       "    </tr>\n",
       "    <tr>\n",
       "        <td style=\"padding-left: 1em; padding-right: 1em; text-align: center; vertical-align: top\">0</td>\n",
       "        <td style=\"padding-left: 1em; padding-right: 1em; text-align: center; vertical-align: top\">0</td>\n",
       "        <td style=\"padding-left: 1em; padding-right: 1em; text-align: center; vertical-align: top\">1</td>\n",
       "        <td style=\"padding-left: 1em; padding-right: 1em; text-align: center; vertical-align: top\">...</td>\n",
       "    </tr>\n",
       "    <tr>\n",
       "        <td style=\"padding-left: 1em; padding-right: 1em; text-align: center; vertical-align: top\">0</td>\n",
       "        <td style=\"padding-left: 1em; padding-right: 1em; text-align: center; vertical-align: top\">0</td>\n",
       "        <td style=\"padding-left: 1em; padding-right: 1em; text-align: center; vertical-align: top\">0</td>\n",
       "        <td style=\"padding-left: 1em; padding-right: 1em; text-align: center; vertical-align: top\">...</td>\n",
       "    </tr>\n",
       "</table>\n",
       "[5 rows x 99 columns]<br/>\n",
       "</div>"
      ],
      "text/plain": [
       "Columns:\n",
       "\tX1\tint\n",
       "\tid\tint\n",
       "\tcategory_name\tstr\n",
       "\ttimeslot\tarray\n",
       "\tstart_date\tstr\n",
       "\tstart_date_timestamp\tint\n",
       "\tend_date\tstr\n",
       "\tend_date_timestamp\tint\n",
       "\tactivity_name_Analyzing\tint\n",
       "\tactivity_name_Beatbox\tint\n",
       "\tactivity_name_Better Now\tint\n",
       "\tactivity_name_Bike\tint\n",
       "\tactivity_name_Celebration - Bar\tint\n",
       "\tactivity_name_Celebration - Club\tint\n",
       "\tactivity_name_Chess\tint\n",
       "\tactivity_name_Clean\tint\n",
       "\tactivity_name_Cut hair\tint\n",
       "\tactivity_name_Dance\tint\n",
       "\tactivity_name_Drink - Shit\tint\n",
       "\tactivity_name_Enjoying the moment\tint\n",
       "\tactivity_name_Food\tint\n",
       "\tactivity_name_Food - Order\tint\n",
       "\tactivity_name_Food - Prepare\tint\n",
       "\tactivity_name_Food - restaurant\tint\n",
       "\tactivity_name_Food - shit\tint\n",
       "\tactivity_name_Health - bad\tint\n",
       "\tactivity_name_Helpful Future\tint\n",
       "\tactivity_name_House cleaning\tint\n",
       "\tactivity_name_Karaoke\tint\n",
       "\tactivity_name_Learning - Article\tint\n",
       "\tactivity_name_Learning - Language\tint\n",
       "\tactivity_name_Learning - university\tint\n",
       "\tactivity_name_Life Overwhelmed\tint\n",
       "\tactivity_name_Massage\tint\n",
       "\tactivity_name_Movies\tint\n",
       "\tactivity_name_Moving - Analyzing\tint\n",
       "\tactivity_name_Moving - Social Media\tint\n",
       "\tactivity_name_Moving - learn\tint\n",
       "\tactivity_name_Moving - social\tint\n",
       "\tactivity_name_Moving - youtube\tint\n",
       "\tactivity_name_Museum\tint\n",
       "\tactivity_name_Org\tint\n",
       "\tactivity_name_Org - Money\tint\n",
       "\tactivity_name_Org - Paper\tint\n",
       "\tactivity_name_Piano\tint\n",
       "\tactivity_name_Playing\tint\n",
       "\tactivity_name_Purpose\tint\n",
       "\tactivity_name_Purpose - Creation\tint\n",
       "\tactivity_name_Purpose - Learning\tint\n",
       "\tactivity_name_Purpose - Teach\tint\n",
       "\tactivity_name_Purpose - Transpose Knowledge\tint\n",
       "\tactivity_name_Samples - Better humans\tint\n",
       "\tactivity_name_Series / Docu\tint\n",
       "\tactivity_name_Shopping real/online\tint\n",
       "\tactivity_name_Sleep\tint\n",
       "\tactivity_name_Social - Awesome\tint\n",
       "\tactivity_name_Social - Close\tint\n",
       "\tactivity_name_Social - Family\tint\n",
       "\tactivity_name_Social - Media\tint\n",
       "\tactivity_name_Social - New\tint\n",
       "\tactivity_name_Social - Real Life\tint\n",
       "\tactivity_name_Social - care of others\tint\n",
       "\tactivity_name_Social - girl\tint\n",
       "\tactivity_name_Special Place\tint\n",
       "\tactivity_name_Sport\tint\n",
       "\tactivity_name_Sunbath\tint\n",
       "\tactivity_name_Swimming\tint\n",
       "\tactivity_name_Table Tennis\tint\n",
       "\tactivity_name_Trello\tint\n",
       "\tactivity_name_Trip to City Center\tint\n",
       "\tactivity_name_Trip to Nature\tint\n",
       "\tactivity_name_University - Orga\tint\n",
       "\tactivity_name_University - Purpose\tint\n",
       "\tactivity_name_University - Task\tint\n",
       "\tactivity_name_University - lectures boring\tint\n",
       "\tactivity_name_University - overwhelmed\tint\n",
       "\tactivity_name_WC\tint\n",
       "\tactivity_name_WC - Play\tint\n",
       "\tactivity_name_WC - analyzing\tint\n",
       "\tactivity_name_WC - learn\tint\n",
       "\tactivity_name_Walking\tint\n",
       "\tactivity_name_Wasted\tint\n",
       "\tactivity_name_Wasted - Moving\tint\n",
       "\tactivity_name_Wasted - reading\tint\n",
       "\tactivity_name_Wasted - sleep\tint\n",
       "\tactivity_name_Wasted - social\tint\n",
       "\tactivity_name_Wasted - watching\tint\n",
       "\tactivity_name_Work - Learning\tint\n",
       "\tactivity_name_Work - Meeting\tint\n",
       "\tactivity_name_Work - Org\tint\n",
       "\tactivity_name_Work - Purpose\tint\n",
       "\tactivity_name_Work - Social\tint\n",
       "\tactivity_name_Work - Task planning\tint\n",
       "\tactivity_name_Work - wasted\tint\n",
       "\tactivity_name_Youtube\tint\n",
       "\tactivity_name_moving  - groceries\tint\n",
       "\tactivity_name_moving - eat\tint\n",
       "\tactivity_name_untracked\tint\n",
       "\tactivity_name\tstr\n",
       "\n",
       "Rows: 5\n",
       "\n",
       "Data:\n",
       "+----+----+--------------------+-------------------------------+\n",
       "| X1 | id |   category_name    |            timeslot           |\n",
       "+----+----+--------------------+-------------------------------+\n",
       "| 0  | 0  | Personal Adjusting |             [0.0]             |\n",
       "| 1  | 1  |   Entertainment    |        [0.0, 1.0, 2.0]        |\n",
       "| 2  | 2  |      Refresh       | [2.0, 3.0, 4.0, 5.0, 6.0, ... |\n",
       "| 3  | 3  |     Transport      |          [16.0, 17.0]         |\n",
       "| 4  | 4  | Personal Adjusting |             [17.0]            |\n",
       "+----+----+--------------------+-------------------------------+\n",
       "+-------------------------------+----------------------+\n",
       "|           start_date          | start_date_timestamp |\n",
       "+-------------------------------+----------------------+\n",
       "| Mon Oct 22 00:01:13 GMT+02... |    1540159273005     |\n",
       "| Mon Oct 22 00:11:09 GMT+02... |    1540159869559     |\n",
       "| Mon Oct 22 01:00:20 GMT+02... |    1540162820068     |\n",
       "| Mon Oct 22 08:24:18 GMT+02... |    1540189458018     |\n",
       "| Mon Oct 22 08:32:29 GMT+02... |    1540189949037     |\n",
       "+-------------------------------+----------------------+\n",
       "+-------------------------------+--------------------+-------------------------+\n",
       "|            end_date           | end_date_timestamp | activity_name_Analyzing |\n",
       "+-------------------------------+--------------------+-------------------------+\n",
       "| Mon Oct 22 00:11:09 GMT+02... |   1540159869559    |            0            |\n",
       "| Mon Oct 22 01:00:20 GMT+02... |   1540162820068    |            0            |\n",
       "| Mon Oct 22 08:24:18 GMT+02... |   1540189458018    |            0            |\n",
       "| Mon Oct 22 08:32:29 GMT+02... |   1540189949037    |            0            |\n",
       "| Mon Oct 22 08:40:44 GMT+02... |   1540190444165    |            0            |\n",
       "+-------------------------------+--------------------+-------------------------+\n",
       "+-----------------------+--------------------------+--------------------+-------------------------------+\n",
       "| activity_name_Beatbox | activity_name_Better Now | activity_name_Bike | activity_name_Celebration ... |\n",
       "+-----------------------+--------------------------+--------------------+-------------------------------+\n",
       "|           0           |            0             |         0          |               0               |\n",
       "|           0           |            0             |         0          |               0               |\n",
       "|           0           |            0             |         0          |               0               |\n",
       "|           0           |            0             |         0          |               0               |\n",
       "|           0           |            0             |         0          |               0               |\n",
       "+-----------------------+--------------------------+--------------------+-------------------------------+\n",
       "+-------------------------------+---------------------+---------------------+------------------------+\n",
       "| activity_name_Celebration ... | activity_name_Chess | activity_name_Clean | activity_name_Cut hair |\n",
       "+-------------------------------+---------------------+---------------------+------------------------+\n",
       "|               0               |          0          |          0          |           0            |\n",
       "|               0               |          0          |          0          |           0            |\n",
       "|               0               |          0          |          0          |           0            |\n",
       "|               0               |          0          |          0          |           0            |\n",
       "|               0               |          0          |          0          |           0            |\n",
       "+-------------------------------+---------------------+---------------------+------------------------+\n",
       "+---------------------+----------------------------+-------------------------------+-----+\n",
       "| activity_name_Dance | activity_name_Drink - Shit | activity_name_Enjoying the... | ... |\n",
       "+---------------------+----------------------------+-------------------------------+-----+\n",
       "|          0          |             0              |               0               | ... |\n",
       "|          0          |             0              |               0               | ... |\n",
       "|          0          |             0              |               0               | ... |\n",
       "|          0          |             0              |               0               | ... |\n",
       "|          0          |             0              |               0               | ... |\n",
       "+---------------------+----------------------------+-------------------------------+-----+\n",
       "[5 rows x 99 columns]"
      ]
     },
     "execution_count": 7,
     "metadata": {},
     "output_type": "execute_result"
    }
   ],
   "source": [
    "df.head(5)"
   ]
  },
  {
   "cell_type": "markdown",
   "metadata": {},
   "source": [
    "# Is the data good enough for the model?"
   ]
  },
  {
   "cell_type": "markdown",
   "metadata": {},
   "source": [
    "Conclusion: A recommender system needs a table with an ID, an activity ID and optionally ratings. \n",
    "\n",
    "- We have a table with IDs\n",
    "- We have a table with Activity IDs \n",
    "- We have no ratings. \n",
    "\n",
    "Based on no ratings we will find patterns in similarity of activities.\n",
    "\n"
   ]
  },
  {
   "cell_type": "markdown",
   "metadata": {},
   "source": [
    "# Split dataset"
   ]
  },
  {
   "cell_type": "code",
   "execution_count": 8,
   "metadata": {},
   "outputs": [],
   "source": [
    "#train, test = tc.recommender.util.random_split_by_user(df, 'category', 'activity') "
   ]
  },
  {
   "cell_type": "markdown",
   "metadata": {},
   "source": [
    "# Build model pipeline"
   ]
  },
  {
   "cell_type": "code",
   "execution_count": 9,
   "metadata": {},
   "outputs": [
    {
     "data": {
      "text/html": [
       "<pre>Warning: Ignoring columns X1, id, category_name, start_date, start_date_timestamp, end_date, end_date_timestamp, activity_name_Analyzing, activity_name_Beatbox, activity_name_Better Now, activity_name_Bike, activity_name_Celebration - Bar, activity_name_Celebration - Club, activity_name_Chess, activity_name_Clean, activity_name_Cut hair, activity_name_Dance, activity_name_Drink - Shit, activity_name_Enjoying the moment, activity_name_Food, activity_name_Food - Order, activity_name_Food - Prepare, activity_name_Food - restaurant, activity_name_Food - shit, activity_name_Health - bad, activity_name_Helpful Future, activity_name_House cleaning, activity_name_Karaoke, activity_name_Learning - Article, activity_name_Learning - Language, activity_name_Learning - university, activity_name_Life Overwhelmed, activity_name_Massage, activity_name_Movies, activity_name_Moving - Analyzing, activity_name_Moving - Social Media, activity_name_Moving - learn, activity_name_Moving - social, activity_name_Moving - youtube, activity_name_Museum, activity_name_Org, activity_name_Org - Money, activity_name_Org - Paper, activity_name_Piano, activity_name_Playing, activity_name_Purpose, activity_name_Purpose - Creation, activity_name_Purpose - Learning, activity_name_Purpose - Teach, activity_name_Purpose - Transpose Knowledge, activity_name_Samples - Better humans, activity_name_Series / Docu, activity_name_Shopping real/online, activity_name_Sleep, activity_name_Social - Awesome, activity_name_Social - Close, activity_name_Social - Family, activity_name_Social - Media, activity_name_Social - New, activity_name_Social - Real Life, activity_name_Social - care of others, activity_name_Social - girl, activity_name_Special Place, activity_name_Sport, activity_name_Sunbath, activity_name_Swimming, activity_name_Table Tennis, activity_name_Trello, activity_name_Trip to City Center, activity_name_Trip to Nature, activity_name_University - Orga, activity_name_University - Purpose, activity_name_University - Task, activity_name_University - lectures boring, activity_name_University - overwhelmed, activity_name_WC, activity_name_WC - Play, activity_name_WC - analyzing, activity_name_WC - learn, activity_name_Walking, activity_name_Wasted, activity_name_Wasted - Moving, activity_name_Wasted - reading, activity_name_Wasted - sleep, activity_name_Wasted - social, activity_name_Wasted - watching, activity_name_Work - Learning, activity_name_Work - Meeting, activity_name_Work - Org, activity_name_Work - Purpose, activity_name_Work - Social, activity_name_Work - Task planning, activity_name_Work - wasted, activity_name_Youtube, activity_name_moving  - groceries, activity_name_moving - eat, activity_name_untracked;</pre>"
      ],
      "text/plain": [
       "Warning: Ignoring columns X1, id, category_name, start_date, start_date_timestamp, end_date, end_date_timestamp, activity_name_Analyzing, activity_name_Beatbox, activity_name_Better Now, activity_name_Bike, activity_name_Celebration - Bar, activity_name_Celebration - Club, activity_name_Chess, activity_name_Clean, activity_name_Cut hair, activity_name_Dance, activity_name_Drink - Shit, activity_name_Enjoying the moment, activity_name_Food, activity_name_Food - Order, activity_name_Food - Prepare, activity_name_Food - restaurant, activity_name_Food - shit, activity_name_Health - bad, activity_name_Helpful Future, activity_name_House cleaning, activity_name_Karaoke, activity_name_Learning - Article, activity_name_Learning - Language, activity_name_Learning - university, activity_name_Life Overwhelmed, activity_name_Massage, activity_name_Movies, activity_name_Moving - Analyzing, activity_name_Moving - Social Media, activity_name_Moving - learn, activity_name_Moving - social, activity_name_Moving - youtube, activity_name_Museum, activity_name_Org, activity_name_Org - Money, activity_name_Org - Paper, activity_name_Piano, activity_name_Playing, activity_name_Purpose, activity_name_Purpose - Creation, activity_name_Purpose - Learning, activity_name_Purpose - Teach, activity_name_Purpose - Transpose Knowledge, activity_name_Samples - Better humans, activity_name_Series / Docu, activity_name_Shopping real/online, activity_name_Sleep, activity_name_Social - Awesome, activity_name_Social - Close, activity_name_Social - Family, activity_name_Social - Media, activity_name_Social - New, activity_name_Social - Real Life, activity_name_Social - care of others, activity_name_Social - girl, activity_name_Special Place, activity_name_Sport, activity_name_Sunbath, activity_name_Swimming, activity_name_Table Tennis, activity_name_Trello, activity_name_Trip to City Center, activity_name_Trip to Nature, activity_name_University - Orga, activity_name_University - Purpose, activity_name_University - Task, activity_name_University - lectures boring, activity_name_University - overwhelmed, activity_name_WC, activity_name_WC - Play, activity_name_WC - analyzing, activity_name_WC - learn, activity_name_Walking, activity_name_Wasted, activity_name_Wasted - Moving, activity_name_Wasted - reading, activity_name_Wasted - sleep, activity_name_Wasted - social, activity_name_Wasted - watching, activity_name_Work - Learning, activity_name_Work - Meeting, activity_name_Work - Org, activity_name_Work - Purpose, activity_name_Work - Social, activity_name_Work - Task planning, activity_name_Work - wasted, activity_name_Youtube, activity_name_moving  - groceries, activity_name_moving - eat, activity_name_untracked;"
      ]
     },
     "metadata": {},
     "output_type": "display_data"
    },
    {
     "data": {
      "text/html": [
       "<pre>    To use one of these as a target column, set target = <column_name></pre>"
      ],
      "text/plain": [
       "    To use one of these as a target column, set target = <column_name>"
      ]
     },
     "metadata": {},
     "output_type": "display_data"
    },
    {
     "data": {
      "text/html": [
       "<pre>    and use a method that allows the use of a target.</pre>"
      ],
      "text/plain": [
       "    and use a method that allows the use of a target."
      ]
     },
     "metadata": {},
     "output_type": "display_data"
    },
    {
     "data": {
      "text/html": [
       "<pre>Preparing data set.</pre>"
      ],
      "text/plain": [
       "Preparing data set."
      ]
     },
     "metadata": {},
     "output_type": "display_data"
    },
    {
     "ename": "ToolkitError",
     "evalue": "In column timeslot, column type array is not compatible with requested mode categorical.",
     "output_type": "error",
     "traceback": [
      "\u001b[0;31m------------------------------------------------------------------------\u001b[0m",
      "\u001b[0;31mRuntimeError\u001b[0m                           Traceback (most recent call last)",
      "\u001b[0;32m~/repository/machine-learning-masterclass/project_10_activity_analysis/venv/lib/python3.6/site-packages/turicreate/extensions.py\u001b[0m in \u001b[0;36m__run_class_function\u001b[0;34m(self, fnname, args, kwargs)\u001b[0m\n\u001b[1;32m    273\u001b[0m         \u001b[0;32mtry\u001b[0m\u001b[0;34m:\u001b[0m\u001b[0;34m\u001b[0m\u001b[0m\n\u001b[0;32m--> 274\u001b[0;31m             \u001b[0mret\u001b[0m \u001b[0;34m=\u001b[0m \u001b[0mself\u001b[0m\u001b[0;34m.\u001b[0m\u001b[0m_tkclass\u001b[0m\u001b[0;34m.\u001b[0m\u001b[0mcall_function\u001b[0m\u001b[0;34m(\u001b[0m\u001b[0mfnname\u001b[0m\u001b[0;34m,\u001b[0m \u001b[0margument_dict\u001b[0m\u001b[0;34m)\u001b[0m\u001b[0;34m\u001b[0m\u001b[0m\n\u001b[0m\u001b[1;32m    275\u001b[0m         \u001b[0;32mexcept\u001b[0m \u001b[0mRuntimeError\u001b[0m \u001b[0;32mas\u001b[0m \u001b[0mexc\u001b[0m\u001b[0;34m:\u001b[0m\u001b[0;34m\u001b[0m\u001b[0m\n",
      "\u001b[0;32mturicreate/cython/cy_model.pyx\u001b[0m in \u001b[0;36mturicreate.cython.cy_model.UnityModel.call_function\u001b[0;34m()\u001b[0m\n",
      "\u001b[0;32mturicreate/cython/cy_model.pyx\u001b[0m in \u001b[0;36mturicreate.cython.cy_model.UnityModel.call_function\u001b[0;34m()\u001b[0m\n",
      "\u001b[0;31mRuntimeError\u001b[0m: In column timeslot, column type array is not compatible with requested mode categorical.",
      "\nDuring handling of the above exception, another exception occurred:\n",
      "\u001b[0;31mToolkitError\u001b[0m                           Traceback (most recent call last)",
      "\u001b[0;32m<ipython-input-9-9ffa1869f54c>\u001b[0m in \u001b[0;36m<module>\u001b[0;34m\u001b[0m\n\u001b[0;32m----> 1\u001b[0;31m \u001b[0mmodel\u001b[0m \u001b[0;34m=\u001b[0m \u001b[0mtc\u001b[0m\u001b[0;34m.\u001b[0m\u001b[0mrecommender\u001b[0m\u001b[0;34m.\u001b[0m\u001b[0mcreate\u001b[0m\u001b[0;34m(\u001b[0m\u001b[0mdf\u001b[0m\u001b[0;34m,\u001b[0m \u001b[0;34m'timeslot'\u001b[0m\u001b[0;34m,\u001b[0m\u001b[0;34m'activity_name'\u001b[0m\u001b[0;34m,\u001b[0m \u001b[0mranking\u001b[0m\u001b[0;34m=\u001b[0m\u001b[0;32mFalse\u001b[0m\u001b[0;34m)\u001b[0m\u001b[0;34m\u001b[0m\u001b[0m\n\u001b[0m",
      "\u001b[0;32m~/repository/machine-learning-masterclass/project_10_activity_analysis/venv/lib/python3.6/site-packages/turicreate/toolkits/recommender/util.py\u001b[0m in \u001b[0;36m_create\u001b[0;34m(observation_data, user_id, item_id, target, user_data, item_data, ranking, verbose)\u001b[0m\n\u001b[1;32m    168\u001b[0m \u001b[0;34m\u001b[0m\u001b[0m\n\u001b[1;32m    169\u001b[0m     \u001b[0;32mif\u001b[0m \u001b[0mmethod\u001b[0m \u001b[0;34m==\u001b[0m \u001b[0;34m\"item_similarity\"\u001b[0m\u001b[0;34m:\u001b[0m\u001b[0;34m\u001b[0m\u001b[0m\n\u001b[0;32m--> 170\u001b[0;31m         \u001b[0;32mreturn\u001b[0m \u001b[0m_turicreate\u001b[0m\u001b[0;34m.\u001b[0m\u001b[0mrecommender\u001b[0m\u001b[0;34m.\u001b[0m\u001b[0mitem_similarity_recommender\u001b[0m\u001b[0;34m.\u001b[0m\u001b[0mcreate\u001b[0m\u001b[0;34m(\u001b[0m\u001b[0;34m**\u001b[0m\u001b[0mopts\u001b[0m\u001b[0;34m)\u001b[0m\u001b[0;34m\u001b[0m\u001b[0m\n\u001b[0m\u001b[1;32m    171\u001b[0m     \u001b[0;32melif\u001b[0m \u001b[0mmethod\u001b[0m \u001b[0;34m==\u001b[0m \u001b[0;34m\"factorization_recommender\"\u001b[0m\u001b[0;34m:\u001b[0m\u001b[0;34m\u001b[0m\u001b[0m\n\u001b[1;32m    172\u001b[0m         \u001b[0;32mreturn\u001b[0m \u001b[0m_turicreate\u001b[0m\u001b[0;34m.\u001b[0m\u001b[0mrecommender\u001b[0m\u001b[0;34m.\u001b[0m\u001b[0mfactorization_recommender\u001b[0m\u001b[0;34m.\u001b[0m\u001b[0mcreate\u001b[0m\u001b[0;34m(\u001b[0m\u001b[0;34m**\u001b[0m\u001b[0mopts\u001b[0m\u001b[0;34m)\u001b[0m\u001b[0;34m\u001b[0m\u001b[0m\n",
      "\u001b[0;32m~/repository/machine-learning-masterclass/project_10_activity_analysis/venv/lib/python3.6/site-packages/turicreate/toolkits/recommender/item_similarity_recommender.py\u001b[0m in \u001b[0;36mcreate\u001b[0;34m(observation_data, user_id, item_id, target, user_data, item_data, nearest_items, similarity_type, threshold, only_top_k, verbose, target_memory_usage, **kwargs)\u001b[0m\n\u001b[1;32m    255\u001b[0m \u001b[0;34m\u001b[0m\u001b[0m\n\u001b[1;32m    256\u001b[0m     \u001b[0;32mwith\u001b[0m \u001b[0mQuietProgress\u001b[0m\u001b[0;34m(\u001b[0m\u001b[0mverbose\u001b[0m\u001b[0;34m)\u001b[0m\u001b[0;34m:\u001b[0m\u001b[0;34m\u001b[0m\u001b[0m\n\u001b[0;32m--> 257\u001b[0;31m         \u001b[0mmodel_proxy\u001b[0m\u001b[0;34m.\u001b[0m\u001b[0mtrain\u001b[0m\u001b[0;34m(\u001b[0m\u001b[0mobservation_data\u001b[0m\u001b[0;34m,\u001b[0m \u001b[0muser_data\u001b[0m\u001b[0;34m,\u001b[0m \u001b[0mitem_data\u001b[0m\u001b[0;34m,\u001b[0m \u001b[0mopts\u001b[0m\u001b[0;34m,\u001b[0m \u001b[0mextra_data\u001b[0m\u001b[0;34m)\u001b[0m\u001b[0;34m\u001b[0m\u001b[0m\n\u001b[0m\u001b[1;32m    258\u001b[0m \u001b[0;34m\u001b[0m\u001b[0m\n\u001b[1;32m    259\u001b[0m     \u001b[0;32mreturn\u001b[0m \u001b[0mItemSimilarityRecommender\u001b[0m\u001b[0;34m(\u001b[0m\u001b[0mmodel_proxy\u001b[0m\u001b[0;34m)\u001b[0m\u001b[0;34m\u001b[0m\u001b[0m\n",
      "\u001b[0;32m~/repository/machine-learning-masterclass/project_10_activity_analysis/venv/lib/python3.6/site-packages/turicreate/extensions.py\u001b[0m in \u001b[0;36m<lambda>\u001b[0;34m(*args, **kwargs)\u001b[0m\n\u001b[1;32m    288\u001b[0m         \u001b[0;32melif\u001b[0m \u001b[0mname\u001b[0m \u001b[0;32min\u001b[0m \u001b[0mself\u001b[0m\u001b[0;34m.\u001b[0m\u001b[0m_functions\u001b[0m\u001b[0;34m:\u001b[0m\u001b[0;34m\u001b[0m\u001b[0m\n\u001b[1;32m    289\u001b[0m             \u001b[0;31m# is it a function?\u001b[0m\u001b[0;34m\u001b[0m\u001b[0;34m\u001b[0m\u001b[0m\n\u001b[0;32m--> 290\u001b[0;31m             \u001b[0mret\u001b[0m \u001b[0;34m=\u001b[0m \u001b[0;32mlambda\u001b[0m \u001b[0;34m*\u001b[0m\u001b[0margs\u001b[0m\u001b[0;34m,\u001b[0m \u001b[0;34m**\u001b[0m\u001b[0mkwargs\u001b[0m\u001b[0;34m:\u001b[0m \u001b[0mself\u001b[0m\u001b[0;34m.\u001b[0m\u001b[0m__run_class_function\u001b[0m\u001b[0;34m(\u001b[0m\u001b[0mname\u001b[0m\u001b[0;34m,\u001b[0m \u001b[0margs\u001b[0m\u001b[0;34m,\u001b[0m \u001b[0mkwargs\u001b[0m\u001b[0;34m)\u001b[0m\u001b[0;34m\u001b[0m\u001b[0m\n\u001b[0m\u001b[1;32m    291\u001b[0m             \u001b[0mret\u001b[0m\u001b[0;34m.\u001b[0m\u001b[0m__doc__\u001b[0m \u001b[0;34m=\u001b[0m \u001b[0;34m\"Name: \"\u001b[0m \u001b[0;34m+\u001b[0m \u001b[0mname\u001b[0m \u001b[0;34m+\u001b[0m \u001b[0;34m\"\\nParameters: \"\u001b[0m \u001b[0;34m+\u001b[0m \u001b[0mstr\u001b[0m\u001b[0;34m(\u001b[0m\u001b[0mself\u001b[0m\u001b[0;34m.\u001b[0m\u001b[0m_functions\u001b[0m\u001b[0;34m[\u001b[0m\u001b[0mname\u001b[0m\u001b[0;34m]\u001b[0m\u001b[0;34m)\u001b[0m \u001b[0;34m+\u001b[0m \u001b[0;34m\"\\n\"\u001b[0m\u001b[0;34m\u001b[0m\u001b[0m\n\u001b[1;32m    292\u001b[0m             \u001b[0;32mtry\u001b[0m\u001b[0;34m:\u001b[0m\u001b[0;34m\u001b[0m\u001b[0m\n",
      "\u001b[0;32m~/repository/machine-learning-masterclass/project_10_activity_analysis/venv/lib/python3.6/site-packages/turicreate/extensions.py\u001b[0m in \u001b[0;36m__run_class_function\u001b[0;34m(self, fnname, args, kwargs)\u001b[0m\n\u001b[1;32m    275\u001b[0m         \u001b[0;32mexcept\u001b[0m \u001b[0mRuntimeError\u001b[0m \u001b[0;32mas\u001b[0m \u001b[0mexc\u001b[0m\u001b[0;34m:\u001b[0m\u001b[0;34m\u001b[0m\u001b[0m\n\u001b[1;32m    276\u001b[0m             \u001b[0;31m# Expose C++ exceptions using ToolkitError.\u001b[0m\u001b[0;34m\u001b[0m\u001b[0;34m\u001b[0m\u001b[0m\n\u001b[0;32m--> 277\u001b[0;31m             \u001b[0;32mraise\u001b[0m \u001b[0m_ToolkitError\u001b[0m\u001b[0;34m(\u001b[0m\u001b[0mexc\u001b[0m\u001b[0;34m)\u001b[0m\u001b[0;34m\u001b[0m\u001b[0m\n\u001b[0m\u001b[1;32m    278\u001b[0m         \u001b[0mret\u001b[0m \u001b[0;34m=\u001b[0m \u001b[0m_wrap_function_return\u001b[0m\u001b[0;34m(\u001b[0m\u001b[0mret\u001b[0m\u001b[0;34m)\u001b[0m\u001b[0;34m\u001b[0m\u001b[0m\n\u001b[1;32m    279\u001b[0m         \u001b[0;32mreturn\u001b[0m \u001b[0mret\u001b[0m\u001b[0;34m\u001b[0m\u001b[0m\n",
      "\u001b[0;31mToolkitError\u001b[0m: In column timeslot, column type array is not compatible with requested mode categorical."
     ]
    }
   ],
   "source": [
    "model = tc.recommender.create(df, 'timeslot','activity_name', ranking=False)"
   ]
  },
  {
   "cell_type": "markdown",
   "metadata": {},
   "source": [
    "# Declare hyperparameter"
   ]
  },
  {
   "cell_type": "code",
   "execution_count": null,
   "metadata": {},
   "outputs": [],
   "source": []
  },
  {
   "cell_type": "markdown",
   "metadata": {},
   "source": [
    "# Fit and tune with cross-validation"
   ]
  },
  {
   "cell_type": "code",
   "execution_count": null,
   "metadata": {},
   "outputs": [],
   "source": []
  },
  {
   "cell_type": "markdown",
   "metadata": {},
   "source": [
    "# Evaluate Model"
   ]
  },
  {
   "cell_type": "code",
   "execution_count": null,
   "metadata": {},
   "outputs": [],
   "source": [
    "results = model.recommend(exclude_known=False)\n",
    "results"
   ]
  },
  {
   "cell_type": "code",
   "execution_count": null,
   "metadata": {},
   "outputs": [],
   "source": [
    "results = model.recommend(users=[3],exclude_known=False, )\n",
    "results"
   ]
  },
  {
   "cell_type": "code",
   "execution_count": null,
   "metadata": {},
   "outputs": [],
   "source": [
    "n_rows = 10\n",
    "activities = ['Sleep']\n",
    "similar_items = model.get_similar_items(activities, k=n_rows)\n",
    "similar_items.print_rows(n_rows)"
   ]
  },
  {
   "cell_type": "markdown",
   "metadata": {},
   "source": [
    "# Select winner model"
   ]
  },
  {
   "cell_type": "code",
   "execution_count": null,
   "metadata": {},
   "outputs": [],
   "source": []
  },
  {
   "cell_type": "markdown",
   "metadata": {},
   "source": [
    "# Save winning model"
   ]
  },
  {
   "cell_type": "code",
   "execution_count": null,
   "metadata": {},
   "outputs": [],
   "source": [
    "model.save(\"time_slot_recommendation.model\")"
   ]
  },
  {
   "cell_type": "markdown",
   "metadata": {},
   "source": [
    "# Load winning model"
   ]
  },
  {
   "cell_type": "code",
   "execution_count": null,
   "metadata": {},
   "outputs": [],
   "source": [
    "model = tc.load_model(\"time_slot_recommendation.model\")"
   ]
  },
  {
   "cell_type": "markdown",
   "metadata": {},
   "source": [
    "# Communicate Results (Conclusion)"
   ]
  },
  {
   "cell_type": "markdown",
   "metadata": {},
   "source": [
    "TODO"
   ]
  },
  {
   "cell_type": "code",
   "execution_count": null,
   "metadata": {},
   "outputs": [],
   "source": []
  }
 ],
 "metadata": {
  "kernelspec": {
   "display_name": "venv",
   "language": "python",
   "name": "venv"
  },
  "language_info": {
   "codemirror_mode": {
    "name": "ipython",
    "version": 3
   },
   "file_extension": ".py",
   "mimetype": "text/x-python",
   "name": "python",
   "nbconvert_exporter": "python",
   "pygments_lexer": "ipython3",
   "version": "3.6.0"
  }
 },
 "nbformat": 4,
 "nbformat_minor": 2
}
