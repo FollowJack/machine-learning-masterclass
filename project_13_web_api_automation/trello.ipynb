{
 "cells": [
  {
   "cell_type": "markdown",
   "metadata": {},
   "source": [
    "# Objective\n",
    "- get all boards\n",
    "- get all list of board\n",
    "- create list \n",
    "  - create card\n",
    "- automate review\n",
    "- finish review"
   ]
  },
  {
   "cell_type": "markdown",
   "metadata": {},
   "source": [
    "# Setup dependencies"
   ]
  },
  {
   "cell_type": "code",
   "execution_count": 1,
   "metadata": {},
   "outputs": [],
   "source": [
    "from trello import TrelloClient"
   ]
  },
  {
   "cell_type": "code",
   "execution_count": 3,
   "metadata": {},
   "outputs": [
    {
     "data": {
      "text/plain": [
       "<trello.trelloclient.TrelloClient at 0x1135af160>"
      ]
     },
     "execution_count": 3,
     "metadata": {},
     "output_type": "execute_result"
    }
   ],
   "source": [
    "client = TrelloClient(\n",
    "    api_key='af3ef741c283999aace5351148b5b095',\n",
    "    token='08c8743cb15c923a2ac6cefdc979d2c43bcd05793008a252c9a6ed3cb0a32bf0',\n",
    ")\n",
    "\n",
    "# token_secret='211d6e659f529df42341ce6447f627e628ecc5818ebd1619c4910dc87ea8eff2'\n",
    "#api_secret='your-secret',\n",
    "client\n"
   ]
  },
  {
   "cell_type": "markdown",
   "metadata": {},
   "source": [
    "# Playfield"
   ]
  },
  {
   "cell_type": "code",
   "execution_count": 6,
   "metadata": {
    "scrolled": true
   },
   "outputs": [
    {
     "name": "stdout",
     "output_type": "stream",
     "text": [
      "Berlin Hackathon\n",
      "DREAM SKILL MANAGE LIFEOBJECT\n",
      "Data Scientist / Machine Learner\n",
      "Dream Backlog v2\n",
      "Dream Board\n",
      "Dream Consultant\n",
      "Dream Epic Month\n",
      "Dream Planning\n",
      "Dream Realisation (HEALTH, JOY, FUN, LOVE, SKILL, IT, FAMILY, CREATIVE, EVENTS )\n",
      "Dream Realisation V10\n",
      "Dream Realisation v2\n",
      "Dream Realisation v2\n",
      "Dream Realisation v3\n",
      "Dream Realisation v4.1  - Engagement for Results\n",
      "Dream Realisation v8\n",
      "Dream Realisation v9.6 - Viva la revolution\n",
      "Dream Stock Market\n",
      "Dream Strength Power Improvement INNER GAME\n",
      "Dream events and off topic\n",
      "Enriko Dream Board\n",
      "Enriko Dream Board 2\n",
      "Enriko Dream Bord V3\n",
      "Fitness\n",
      "GabuBoss App\n",
      "Health & Personal Development & Teacher & Blogger & Finance\n",
      "Heritage in Blockchain - Backlog\n",
      "MHP Board\n",
      "MHP Results v2.0\n",
      "Mannheim Hackathon\n",
      "News\n",
      "Phase A\n",
      "Punchtime Getting Started Tour\n",
      "Review V1\n",
      "Review v2\n",
      "Sprint 1 - Heritage in a Blockchain\n",
      "Sprint 2 - Heritage in a Blockchain\n",
      "Sprint 3 - Heritage in a blockchain\n",
      "Sprint 4 - Heritage in a blockchain\n",
      "Sprint 5 - Heritage in a Blockchain\n",
      "Sprint 6 - Heritage in a Blockchain\n",
      "Sprint 7 - Heritage in a blockchain\n",
      "Success Stories and thoughts\n",
      "Trellius User Data\n",
      "Willkommens-Board\n",
      "Xain Hackathon\n",
      "university of life\n"
     ]
    }
   ],
   "source": [
    "all_boards = client.list_boards()\n",
    "for board in all_boards:\n",
    "    print(board.name)"
   ]
  },
  {
   "cell_type": "code",
   "execution_count": 9,
   "metadata": {},
   "outputs": [],
   "source": [
    "def get_board_by(name='Dream Realisation V10'):\n",
    "    for board in all_boards:\n",
    "        if board.name == 'Dream Realisation V10':\n",
    "            return board "
   ]
  },
  {
   "cell_type": "code",
   "execution_count": 10,
   "metadata": {},
   "outputs": [
    {
     "data": {
      "text/plain": [
       "'Dream Realisation V10'"
      ]
     },
     "execution_count": 10,
     "metadata": {},
     "output_type": "execute_result"
    }
   ],
   "source": [
    "board = get_board_by()\n",
    "board.name"
   ]
  },
  {
   "cell_type": "code",
   "execution_count": 12,
   "metadata": {
    "scrolled": true
   },
   "outputs": [
    {
     "data": {
      "text/plain": [
       "[<List How to do review>,\n",
       " <List What Problem Does This Board Solve?>,\n",
       " <List Ideas>,\n",
       " <List Feedback>,\n",
       " <List Take me to next sprint>,\n",
       " <List Motivation>,\n",
       " <List Active Batttlefield Aftermath>,\n",
       " <List Sum Phase 1>,\n",
       " <List Active Goal / Results>,\n",
       " <List Action Options Backlog>,\n",
       " <List Active Battlefield>,\n",
       " <List Review BAD KW 10-11>,\n",
       " <List Just you my friend - Feedback Time / Brain Dump>,\n",
       " <List Review Good KW 10 - 11>,\n",
       " <List Socials Backlog>,\n",
       " <List Socials>,\n",
       " <List Archive KW 1>,\n",
       " <List Weekend Adventure>,\n",
       " <List Archive KW 6-9>,\n",
       " <List Travel Advr>,\n",
       " <List Rewards next in line>,\n",
       " <List Temp Copy>,\n",
       " <List Rewards>,\n",
       " <List Rewards>,\n",
       " <List TEMP>,\n",
       " <List Slot1>,\n",
       " <List Options - Enjoyment/Refreshment/Vacation>,\n",
       " <List Habits>,\n",
       " <List To-Feel>,\n",
       " <List To-Be>,\n",
       " <List Archive KW 6-19>,\n",
       " <List TEMP>,\n",
       " <List Archive KW 6-9>,\n",
       " <List Left Overs / Lost Dreams>,\n",
       " <List Review Good KW TEMPLATE>,\n",
       " <List Review BAD KW TEMPLATE>,\n",
       " <List Archive KW TEMPLATE>,\n",
       " <List Lost Options KW TEMPLATE>,\n",
       " <List Heatphase 3>,\n",
       " <List Refresh Phase 1>,\n",
       " <List Whatever Phase 1>,\n",
       " <List Heatphase 4>,\n",
       " <List Sum Phase 2>,\n",
       " <List Time Average>,\n",
       " <List Refresh/Reward Phase 1>,\n",
       " <List Bucket List>,\n",
       " <List Review KW 5>,\n",
       " <List Review KW 4>,\n",
       " <List Review KW 3>,\n",
       " <List Battlefield>,\n",
       " <List Options - Value Contribution>,\n",
       " <List Ideas to sort>,\n",
       " <List Important>,\n",
       " <List To Sort>,\n",
       " <List Options - Learn>,\n",
       " <List Helpful>,\n",
       " <List Improvement>,\n",
       " <List Options - Relationship>,\n",
       " <List REMOVE>,\n",
       " <List Heatphase 4>,\n",
       " <List Refresh Phase 1>,\n",
       " <List Heatphase 3>,\n",
       " <List Whatever Phase 1>,\n",
       " <List Refresh / Reward Phase 1>,\n",
       " <List Prephase/Research 1>,\n",
       " <List Year 2019 Q1 - 27 - XXXX weeks>,\n",
       " <List Options - Asset>,\n",
       " <List Options - Enjoyment/Refreshment/Vacation>,\n",
       " <List Year 2019 Q2 - 27 - XXXX weeks>,\n",
       " <List Backlog Goals>,\n",
       " <List Options - Ease up your life>,\n",
       " <List Year 2019 Q3 - 27 - XXXX weeks>,\n",
       " <List Options - Health>,\n",
       " <List Year (until December 2019) - 27y - 4069 weeks>,\n",
       " <List Year (Until December 2020)>,\n",
       " <List 5 Years (until 12/2023) - 31y - 3861 weeks>,\n",
       " <List 10 Years (Until 12/2028) - 36 - 3600 weeks>,\n",
       " <List 25 Years (Until 12/2053) - 51 Golden Age - 2295 weeks>,\n",
       " <List 50 Years (Until 12/2078) - 76 Retirement - 991 weeks>,\n",
       " <List DENIELS LIFE (until 06/2097)>]"
      ]
     },
     "execution_count": 12,
     "metadata": {},
     "output_type": "execute_result"
    }
   ],
   "source": [
    "lists = board.all_lists()\n",
    "lists"
   ]
  },
  {
   "cell_type": "code",
   "execution_count": 20,
   "metadata": {},
   "outputs": [],
   "source": [
    "def get_list_by(name):\n",
    "    for list in lists:\n",
    "        if list.name == name:\n",
    "            return list"
   ]
  },
  {
   "cell_type": "code",
   "execution_count": 21,
   "metadata": {},
   "outputs": [
    {
     "data": {
      "text/plain": [
       "[<List Left Overs / Lost Dreams>,\n",
       " <List Review Good KW TEMPLATE>,\n",
       " <List Review BAD KW TEMPLATE>,\n",
       " <List Archive KW TEMPLATE>,\n",
       " <List Lost Options KW TEMPLATE>]"
      ]
     },
     "execution_count": 21,
     "metadata": {},
     "output_type": "execute_result"
    }
   ],
   "source": [
    "review_lists = []\n",
    "review_lists.append(get_list_by('Left Overs / Lost Dreams'))\n",
    "review_lists.append(get_list_by('Review Good KW TEMPLATE'))\n",
    "review_lists.append(get_list_by('Review BAD KW TEMPLATE'))\n",
    "review_lists.append(get_list_by('Archive KW TEMPLATE'))\n",
    "review_lists.append(get_list_by('Lost Options KW TEMPLATE'))\n",
    "review_lists"
   ]
  },
  {
   "cell_type": "code",
   "execution_count": 22,
   "metadata": {},
   "outputs": [
    {
     "data": {
      "text/plain": [
       "[<Card Take to next Sprint>,\n",
       " <Card Call key persons for birthday>,\n",
       " <Card Left Overs>,\n",
       " <Card Make Depot>,\n",
       " <Card Clarify credit card>,\n",
       " <Card Find Events in Germany for next 3 Months>,\n",
       " <Card Find Events in Europe for next 3 months>,\n",
       " <Card Create default README for all>,\n",
       " <Card Visual Overview about teaching>,\n",
       " <Card How much time do I have for the articles>,\n",
       " <Card Cancel credit card>,\n",
       " <Card Where can i get money for tagesgeld>,\n",
       " <Card Move all my credit card tranasctions to new card>,\n",
       " <Card Create Comdirect account for tagesgeld and depot (https://www.comdirect.de/pbl/process/depot_150EUR/start.do?wref=4481)>,\n",
       " <Card Check webpage for events in germany and europe>,\n",
       " <Card Suggest my own Task>,\n",
       " <Card Lost Dreams>,\n",
       " <Card Send E-Mail for my girlfriend>,\n",
       " <Card Found better Options than these>]"
      ]
     },
     "execution_count": 22,
     "metadata": {},
     "output_type": "execute_result"
    }
   ],
   "source": [
    "review_lists[0].list_cards()"
   ]
  },
  {
   "cell_type": "code",
   "execution_count": 29,
   "metadata": {},
   "outputs": [
    {
     "data": {
      "text/plain": [
       "[<Card Take to next Sprint>,\n",
       " <Card Call key persons for birthday>,\n",
       " <Card Left Overs>,\n",
       " <Card Make Depot>,\n",
       " <Card Clarify credit card>,\n",
       " <Card Find Events in Germany for next 3 Months>,\n",
       " <Card Find Events in Europe for next 3 months>,\n",
       " <Card Create default README for all>,\n",
       " <Card Visual Overview about teaching>,\n",
       " <Card How much time do I have for the articles>,\n",
       " <Card Cancel credit card>,\n",
       " <Card Where can i get money for tagesgeld>,\n",
       " <Card Move all my credit card tranasctions to new card>,\n",
       " <Card Create Comdirect account for tagesgeld and depot (https://www.comdirect.de/pbl/process/depot_150EUR/start.do?wref=4481)>,\n",
       " <Card Check webpage for events in germany and europe>,\n",
       " <Card Suggest my own Task>,\n",
       " <Card Lost Dreams>,\n",
       " <Card Send E-Mail for my girlfriend>,\n",
       " <Card Found better Options than these>]"
      ]
     },
     "execution_count": 29,
     "metadata": {},
     "output_type": "execute_result"
    }
   ],
   "source": [
    "cards = review_lists[0].list_cards()\n",
    "cards"
   ]
  },
  {
   "cell_type": "code",
   "execution_count": 31,
   "metadata": {},
   "outputs": [],
   "source": [
    "name = review_lists[0].name\n",
    "cards = review_lists[0].list_cards()\n",
    "name.replace('TEMPLATE', '12') # TODO get actual KW automatically\n",
    "new_list = board.add_list(name,1)\n",
    "for card in cards:\n",
    "    new_list.add_card(name=card.name,labels=card.labels)"
   ]
  },
  {
   "cell_type": "markdown",
   "metadata": {},
   "source": [
    "# Automate review"
   ]
  },
  {
   "cell_type": "code",
   "execution_count": null,
   "metadata": {},
   "outputs": [],
   "source": []
  },
  {
   "cell_type": "markdown",
   "metadata": {},
   "source": [
    "# Finish review"
   ]
  },
  {
   "cell_type": "code",
   "execution_count": null,
   "metadata": {},
   "outputs": [],
   "source": []
  },
  {
   "cell_type": "code",
   "execution_count": null,
   "metadata": {},
   "outputs": [],
   "source": []
  }
 ],
 "metadata": {
  "kernelspec": {
   "display_name": "venv",
   "language": "python",
   "name": "venv"
  },
  "language_info": {
   "codemirror_mode": {
    "name": "ipython",
    "version": 3
   },
   "file_extension": ".py",
   "mimetype": "text/x-python",
   "name": "python",
   "nbconvert_exporter": "python",
   "pygments_lexer": "ipython3",
   "version": "3.6.0"
  }
 },
 "nbformat": 4,
 "nbformat_minor": 2
}
