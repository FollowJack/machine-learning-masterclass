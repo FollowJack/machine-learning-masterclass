{
 "cells": [
  {
   "cell_type": "markdown",
   "metadata": {},
   "source": [
    "# Keras tutorial"
   ]
  },
  {
   "cell_type": "markdown",
   "metadata": {},
   "source": [
    "## Summary\n",
    "- Feature analysis\n",
    "- Keras model setup (3 layers)\n",
    "- compile model \n",
    "- fit model"
   ]
  },
  {
   "cell_type": "markdown",
   "metadata": {},
   "source": [
    "### Credits to:\n",
    "- https://machinelearningmastery.com/tutorial-first-neural-network-python-keras/ "
   ]
  },
  {
   "cell_type": "markdown",
   "metadata": {},
   "source": [
    "## Prerequesites\n"
   ]
  },
  {
   "cell_type": "markdown",
   "metadata": {},
   "source": [
    "### Relu - Rectifier Linear Unit \n",
    "activation function \n",
    "sigmoid\n",
    "![sigmoid](../data/sigmoid.png)\n",
    "ReLU used for hidden layers \n",
    "![data/relu.png](../data/relu.png)\n",
    "\n",
    "ReLu function\n",
    "![](../data/relu_function.png)\n",
    "\n",
    "Softmax for normalization\n",
    "![](../data/softmax.png)"
   ]
  },
  {
   "cell_type": "markdown",
   "metadata": {},
   "source": [
    "## Setup dependencies"
   ]
  },
  {
   "cell_type": "code",
   "execution_count": 1,
   "metadata": {},
   "outputs": [
    {
     "name": "stderr",
     "output_type": "stream",
     "text": [
      "Using TensorFlow backend.\n"
     ]
    }
   ],
   "source": [
    "from keras.models import Sequential\n",
    "from keras.layers import Dense\n",
    "import numpy as np\n",
    "import pandas as pd\n",
    "\n",
    "np.random.seed(7)"
   ]
  },
  {
   "cell_type": "code",
   "execution_count": 2,
   "metadata": {},
   "outputs": [],
   "source": [
    "data = np.loadtxt('../data/pima-indians-diabetes.csv', delimiter=\",\")"
   ]
  },
  {
   "cell_type": "code",
   "execution_count": 3,
   "metadata": {},
   "outputs": [],
   "source": [
    "X = data[:,0:8]\n",
    "y = data[:,8]"
   ]
  },
  {
   "cell_type": "code",
   "execution_count": 4,
   "metadata": {},
   "outputs": [
    {
     "data": {
      "text/plain": [
       "(768, 8)"
      ]
     },
     "execution_count": 4,
     "metadata": {},
     "output_type": "execute_result"
    }
   ],
   "source": [
    "X.shape"
   ]
  },
  {
   "cell_type": "code",
   "execution_count": 5,
   "metadata": {},
   "outputs": [
    {
     "data": {
      "text/plain": [
       "(768,)"
      ]
     },
     "execution_count": 5,
     "metadata": {},
     "output_type": "execute_result"
    }
   ],
   "source": [
    "y.shape"
   ]
  },
  {
   "cell_type": "markdown",
   "metadata": {},
   "source": [
    "## Features + target\n",
    "1. Number of times pregnant\n",
    "2. Plasma glucose concentration a 2 hours in an oral glucose tolerance test\n",
    "3. Diastolic blood pressure (mm Hg)\n",
    "4. Triceps skin fold thickness (mm)\n",
    "5. 2-Hour serum insulin (mu U/ml)\n",
    "6. Body mass index (weight in kg/(height in m)^2)\n",
    "7. Diabetes pedigree function\n",
    "8. Age (years)\n",
    "9. Class variable (0 or 1)\n"
   ]
  },
  {
   "cell_type": "code",
   "execution_count": 6,
   "metadata": {},
   "outputs": [
    {
     "data": {
      "text/plain": [
       "array([[6.000e+00, 1.480e+02, 7.200e+01, 3.500e+01, 0.000e+00, 3.360e+01,\n",
       "        6.270e-01, 5.000e+01],\n",
       "       [1.000e+00, 8.500e+01, 6.600e+01, 2.900e+01, 0.000e+00, 2.660e+01,\n",
       "        3.510e-01, 3.100e+01],\n",
       "       [8.000e+00, 1.830e+02, 6.400e+01, 0.000e+00, 0.000e+00, 2.330e+01,\n",
       "        6.720e-01, 3.200e+01],\n",
       "       [1.000e+00, 8.900e+01, 6.600e+01, 2.300e+01, 9.400e+01, 2.810e+01,\n",
       "        1.670e-01, 2.100e+01],\n",
       "       [0.000e+00, 1.370e+02, 4.000e+01, 3.500e+01, 1.680e+02, 4.310e+01,\n",
       "        2.288e+00, 3.300e+01],\n",
       "       [5.000e+00, 1.160e+02, 7.400e+01, 0.000e+00, 0.000e+00, 2.560e+01,\n",
       "        2.010e-01, 3.000e+01],\n",
       "       [3.000e+00, 7.800e+01, 5.000e+01, 3.200e+01, 8.800e+01, 3.100e+01,\n",
       "        2.480e-01, 2.600e+01],\n",
       "       [1.000e+01, 1.150e+02, 0.000e+00, 0.000e+00, 0.000e+00, 3.530e+01,\n",
       "        1.340e-01, 2.900e+01],\n",
       "       [2.000e+00, 1.970e+02, 7.000e+01, 4.500e+01, 5.430e+02, 3.050e+01,\n",
       "        1.580e-01, 5.300e+01],\n",
       "       [8.000e+00, 1.250e+02, 9.600e+01, 0.000e+00, 0.000e+00, 0.000e+00,\n",
       "        2.320e-01, 5.400e+01]])"
      ]
     },
     "execution_count": 6,
     "metadata": {},
     "output_type": "execute_result"
    }
   ],
   "source": [
    "X[:10]"
   ]
  },
  {
   "cell_type": "code",
   "execution_count": 7,
   "metadata": {},
   "outputs": [],
   "source": [
    "df = pd.read_csv('../data/pima-indians-diabetes.csv', \n",
    "                 names = [\"n_pregnant\", \"plasma\", \"blood_pressure\", \"thickness\", \"insulin\", \"bmi\",\"diabetes\", \"age\", \"class_var\"])"
   ]
  },
  {
   "cell_type": "code",
   "execution_count": 8,
   "metadata": {},
   "outputs": [
    {
     "data": {
      "text/html": [
       "<div>\n",
       "<style scoped>\n",
       "    .dataframe tbody tr th:only-of-type {\n",
       "        vertical-align: middle;\n",
       "    }\n",
       "\n",
       "    .dataframe tbody tr th {\n",
       "        vertical-align: top;\n",
       "    }\n",
       "\n",
       "    .dataframe thead th {\n",
       "        text-align: right;\n",
       "    }\n",
       "</style>\n",
       "<table border=\"1\" class=\"dataframe\">\n",
       "  <thead>\n",
       "    <tr style=\"text-align: right;\">\n",
       "      <th></th>\n",
       "      <th>n_pregnant</th>\n",
       "      <th>plasma</th>\n",
       "      <th>blood_pressure</th>\n",
       "      <th>thickness</th>\n",
       "      <th>insulin</th>\n",
       "      <th>bmi</th>\n",
       "      <th>diabetes</th>\n",
       "      <th>age</th>\n",
       "      <th>class_var</th>\n",
       "    </tr>\n",
       "  </thead>\n",
       "  <tbody>\n",
       "    <tr>\n",
       "      <th>0</th>\n",
       "      <td>6</td>\n",
       "      <td>148</td>\n",
       "      <td>72</td>\n",
       "      <td>35</td>\n",
       "      <td>0</td>\n",
       "      <td>33.6</td>\n",
       "      <td>0.627</td>\n",
       "      <td>50</td>\n",
       "      <td>1</td>\n",
       "    </tr>\n",
       "    <tr>\n",
       "      <th>1</th>\n",
       "      <td>1</td>\n",
       "      <td>85</td>\n",
       "      <td>66</td>\n",
       "      <td>29</td>\n",
       "      <td>0</td>\n",
       "      <td>26.6</td>\n",
       "      <td>0.351</td>\n",
       "      <td>31</td>\n",
       "      <td>0</td>\n",
       "    </tr>\n",
       "    <tr>\n",
       "      <th>2</th>\n",
       "      <td>8</td>\n",
       "      <td>183</td>\n",
       "      <td>64</td>\n",
       "      <td>0</td>\n",
       "      <td>0</td>\n",
       "      <td>23.3</td>\n",
       "      <td>0.672</td>\n",
       "      <td>32</td>\n",
       "      <td>1</td>\n",
       "    </tr>\n",
       "    <tr>\n",
       "      <th>3</th>\n",
       "      <td>1</td>\n",
       "      <td>89</td>\n",
       "      <td>66</td>\n",
       "      <td>23</td>\n",
       "      <td>94</td>\n",
       "      <td>28.1</td>\n",
       "      <td>0.167</td>\n",
       "      <td>21</td>\n",
       "      <td>0</td>\n",
       "    </tr>\n",
       "    <tr>\n",
       "      <th>4</th>\n",
       "      <td>0</td>\n",
       "      <td>137</td>\n",
       "      <td>40</td>\n",
       "      <td>35</td>\n",
       "      <td>168</td>\n",
       "      <td>43.1</td>\n",
       "      <td>2.288</td>\n",
       "      <td>33</td>\n",
       "      <td>1</td>\n",
       "    </tr>\n",
       "  </tbody>\n",
       "</table>\n",
       "</div>"
      ],
      "text/plain": [
       "   n_pregnant  plasma  blood_pressure  thickness  insulin   bmi  diabetes  \\\n",
       "0           6     148              72         35        0  33.6     0.627   \n",
       "1           1      85              66         29        0  26.6     0.351   \n",
       "2           8     183              64          0        0  23.3     0.672   \n",
       "3           1      89              66         23       94  28.1     0.167   \n",
       "4           0     137              40         35      168  43.1     2.288   \n",
       "\n",
       "   age  class_var  \n",
       "0   50          1  \n",
       "1   31          0  \n",
       "2   32          1  \n",
       "3   21          0  \n",
       "4   33          1  "
      ]
     },
     "execution_count": 8,
     "metadata": {},
     "output_type": "execute_result"
    }
   ],
   "source": [
    "df.head()"
   ]
  },
  {
   "cell_type": "code",
   "execution_count": 9,
   "metadata": {},
   "outputs": [
    {
     "data": {
      "text/html": [
       "<div>\n",
       "<style scoped>\n",
       "    .dataframe tbody tr th:only-of-type {\n",
       "        vertical-align: middle;\n",
       "    }\n",
       "\n",
       "    .dataframe tbody tr th {\n",
       "        vertical-align: top;\n",
       "    }\n",
       "\n",
       "    .dataframe thead th {\n",
       "        text-align: right;\n",
       "    }\n",
       "</style>\n",
       "<table border=\"1\" class=\"dataframe\">\n",
       "  <thead>\n",
       "    <tr style=\"text-align: right;\">\n",
       "      <th></th>\n",
       "      <th>n_pregnant</th>\n",
       "      <th>plasma</th>\n",
       "      <th>blood_pressure</th>\n",
       "      <th>thickness</th>\n",
       "      <th>insulin</th>\n",
       "      <th>bmi</th>\n",
       "      <th>diabetes</th>\n",
       "      <th>age</th>\n",
       "      <th>class_var</th>\n",
       "    </tr>\n",
       "  </thead>\n",
       "  <tbody>\n",
       "    <tr>\n",
       "      <th>count</th>\n",
       "      <td>768.000000</td>\n",
       "      <td>768.000000</td>\n",
       "      <td>768.000000</td>\n",
       "      <td>768.000000</td>\n",
       "      <td>768.000000</td>\n",
       "      <td>768.000000</td>\n",
       "      <td>768.000000</td>\n",
       "      <td>768.000000</td>\n",
       "      <td>768.000000</td>\n",
       "    </tr>\n",
       "    <tr>\n",
       "      <th>mean</th>\n",
       "      <td>3.845052</td>\n",
       "      <td>120.894531</td>\n",
       "      <td>69.105469</td>\n",
       "      <td>20.536458</td>\n",
       "      <td>79.799479</td>\n",
       "      <td>31.992578</td>\n",
       "      <td>0.471876</td>\n",
       "      <td>33.240885</td>\n",
       "      <td>0.348958</td>\n",
       "    </tr>\n",
       "    <tr>\n",
       "      <th>std</th>\n",
       "      <td>3.369578</td>\n",
       "      <td>31.972618</td>\n",
       "      <td>19.355807</td>\n",
       "      <td>15.952218</td>\n",
       "      <td>115.244002</td>\n",
       "      <td>7.884160</td>\n",
       "      <td>0.331329</td>\n",
       "      <td>11.760232</td>\n",
       "      <td>0.476951</td>\n",
       "    </tr>\n",
       "    <tr>\n",
       "      <th>min</th>\n",
       "      <td>0.000000</td>\n",
       "      <td>0.000000</td>\n",
       "      <td>0.000000</td>\n",
       "      <td>0.000000</td>\n",
       "      <td>0.000000</td>\n",
       "      <td>0.000000</td>\n",
       "      <td>0.078000</td>\n",
       "      <td>21.000000</td>\n",
       "      <td>0.000000</td>\n",
       "    </tr>\n",
       "    <tr>\n",
       "      <th>25%</th>\n",
       "      <td>1.000000</td>\n",
       "      <td>99.000000</td>\n",
       "      <td>62.000000</td>\n",
       "      <td>0.000000</td>\n",
       "      <td>0.000000</td>\n",
       "      <td>27.300000</td>\n",
       "      <td>0.243750</td>\n",
       "      <td>24.000000</td>\n",
       "      <td>0.000000</td>\n",
       "    </tr>\n",
       "    <tr>\n",
       "      <th>50%</th>\n",
       "      <td>3.000000</td>\n",
       "      <td>117.000000</td>\n",
       "      <td>72.000000</td>\n",
       "      <td>23.000000</td>\n",
       "      <td>30.500000</td>\n",
       "      <td>32.000000</td>\n",
       "      <td>0.372500</td>\n",
       "      <td>29.000000</td>\n",
       "      <td>0.000000</td>\n",
       "    </tr>\n",
       "    <tr>\n",
       "      <th>75%</th>\n",
       "      <td>6.000000</td>\n",
       "      <td>140.250000</td>\n",
       "      <td>80.000000</td>\n",
       "      <td>32.000000</td>\n",
       "      <td>127.250000</td>\n",
       "      <td>36.600000</td>\n",
       "      <td>0.626250</td>\n",
       "      <td>41.000000</td>\n",
       "      <td>1.000000</td>\n",
       "    </tr>\n",
       "    <tr>\n",
       "      <th>max</th>\n",
       "      <td>17.000000</td>\n",
       "      <td>199.000000</td>\n",
       "      <td>122.000000</td>\n",
       "      <td>99.000000</td>\n",
       "      <td>846.000000</td>\n",
       "      <td>67.100000</td>\n",
       "      <td>2.420000</td>\n",
       "      <td>81.000000</td>\n",
       "      <td>1.000000</td>\n",
       "    </tr>\n",
       "  </tbody>\n",
       "</table>\n",
       "</div>"
      ],
      "text/plain": [
       "       n_pregnant      plasma  blood_pressure   thickness     insulin  \\\n",
       "count  768.000000  768.000000      768.000000  768.000000  768.000000   \n",
       "mean     3.845052  120.894531       69.105469   20.536458   79.799479   \n",
       "std      3.369578   31.972618       19.355807   15.952218  115.244002   \n",
       "min      0.000000    0.000000        0.000000    0.000000    0.000000   \n",
       "25%      1.000000   99.000000       62.000000    0.000000    0.000000   \n",
       "50%      3.000000  117.000000       72.000000   23.000000   30.500000   \n",
       "75%      6.000000  140.250000       80.000000   32.000000  127.250000   \n",
       "max     17.000000  199.000000      122.000000   99.000000  846.000000   \n",
       "\n",
       "              bmi    diabetes         age   class_var  \n",
       "count  768.000000  768.000000  768.000000  768.000000  \n",
       "mean    31.992578    0.471876   33.240885    0.348958  \n",
       "std      7.884160    0.331329   11.760232    0.476951  \n",
       "min      0.000000    0.078000   21.000000    0.000000  \n",
       "25%     27.300000    0.243750   24.000000    0.000000  \n",
       "50%     32.000000    0.372500   29.000000    0.000000  \n",
       "75%     36.600000    0.626250   41.000000    1.000000  \n",
       "max     67.100000    2.420000   81.000000    1.000000  "
      ]
     },
     "execution_count": 9,
     "metadata": {},
     "output_type": "execute_result"
    }
   ],
   "source": [
    "df.describe()"
   ]
  },
  {
   "cell_type": "markdown",
   "metadata": {},
   "source": [
    "## Setup model"
   ]
  },
  {
   "cell_type": "code",
   "execution_count": 10,
   "metadata": {},
   "outputs": [
    {
     "name": "stdout",
     "output_type": "stream",
     "text": [
      "WARNING:tensorflow:From /Users/deniel.horvatic/repository/machine-learning-masterclass/project_07_keras/venv/lib/python3.7/site-packages/tensorflow/python/framework/op_def_library.py:263: colocate_with (from tensorflow.python.framework.ops) is deprecated and will be removed in a future version.\n",
      "Instructions for updating:\n",
      "Colocations handled automatically by placer.\n"
     ]
    }
   ],
   "source": [
    "model = Sequential()\n",
    "model.add(Dense(12, input_dim=8, activation='relu'))\n",
    "model.add(Dense(8, activation='relu'))\n",
    "model.add(Dense(1, activation='sigmoid')) # on the output layer "
   ]
  },
  {
   "cell_type": "markdown",
   "metadata": {},
   "source": [
    "## Compile model"
   ]
  },
  {
   "cell_type": "code",
   "execution_count": 11,
   "metadata": {},
   "outputs": [],
   "source": [
    "model.compile(loss='binary_crossentropy', optimizer='adam', metrics=['accuracy'])"
   ]
  },
  {
   "cell_type": "markdown",
   "metadata": {},
   "source": [
    "## Fit model"
   ]
  },
  {
   "cell_type": "code",
   "execution_count": 12,
   "metadata": {},
   "outputs": [
    {
     "name": "stdout",
     "output_type": "stream",
     "text": [
      "WARNING:tensorflow:From /Users/deniel.horvatic/repository/machine-learning-masterclass/project_07_keras/venv/lib/python3.7/site-packages/tensorflow/python/ops/math_ops.py:3066: to_int32 (from tensorflow.python.ops.math_ops) is deprecated and will be removed in a future version.\n",
      "Instructions for updating:\n",
      "Use tf.cast instead.\n",
      "Epoch 1/150\n",
      "768/768 [==============================] - 0s 434us/step - loss: 3.7084 - acc: 0.5990\n",
      "Epoch 2/150\n",
      "768/768 [==============================] - 0s 78us/step - loss: 0.9347 - acc: 0.5898\n",
      "Epoch 3/150\n",
      "768/768 [==============================] - 0s 85us/step - loss: 0.7471 - acc: 0.6393\n",
      "Epoch 4/150\n",
      "768/768 [==============================] - 0s 83us/step - loss: 0.7120 - acc: 0.6536\n",
      "Epoch 5/150\n",
      "768/768 [==============================] - 0s 78us/step - loss: 0.6816 - acc: 0.6758\n",
      "Epoch 6/150\n",
      "768/768 [==============================] - 0s 80us/step - loss: 0.6517 - acc: 0.6823\n",
      "Epoch 7/150\n",
      "768/768 [==============================] - 0s 77us/step - loss: 0.6493 - acc: 0.6706\n",
      "Epoch 8/150\n",
      "768/768 [==============================] - 0s 88us/step - loss: 0.6367 - acc: 0.6914\n",
      "Epoch 9/150\n",
      "768/768 [==============================] - 0s 77us/step - loss: 0.6229 - acc: 0.6901\n",
      "Epoch 10/150\n",
      "768/768 [==============================] - 0s 79us/step - loss: 0.6287 - acc: 0.6771\n",
      "Epoch 11/150\n",
      "768/768 [==============================] - 0s 79us/step - loss: 0.6441 - acc: 0.6771\n",
      "Epoch 12/150\n",
      "768/768 [==============================] - 0s 87us/step - loss: 0.6385 - acc: 0.6719\n",
      "Epoch 13/150\n",
      "768/768 [==============================] - 0s 92us/step - loss: 0.6250 - acc: 0.6758\n",
      "Epoch 14/150\n",
      "768/768 [==============================] - 0s 93us/step - loss: 0.6179 - acc: 0.7005\n",
      "Epoch 15/150\n",
      "768/768 [==============================] - 0s 77us/step - loss: 0.6021 - acc: 0.6927\n",
      "Epoch 16/150\n",
      "768/768 [==============================] - 0s 75us/step - loss: 0.5882 - acc: 0.7057\n",
      "Epoch 17/150\n",
      "768/768 [==============================] - 0s 79us/step - loss: 0.5849 - acc: 0.6966\n",
      "Epoch 18/150\n",
      "768/768 [==============================] - 0s 79us/step - loss: 0.5998 - acc: 0.6823\n",
      "Epoch 19/150\n",
      "768/768 [==============================] - 0s 76us/step - loss: 0.5805 - acc: 0.7135\n",
      "Epoch 20/150\n",
      "768/768 [==============================] - 0s 77us/step - loss: 0.5794 - acc: 0.7187\n",
      "Epoch 21/150\n",
      "768/768 [==============================] - 0s 80us/step - loss: 0.5708 - acc: 0.7148\n",
      "Epoch 22/150\n",
      "768/768 [==============================] - 0s 87us/step - loss: 0.5832 - acc: 0.6966\n",
      "Epoch 23/150\n",
      "768/768 [==============================] - 0s 87us/step - loss: 0.5751 - acc: 0.7135\n",
      "Epoch 24/150\n",
      "768/768 [==============================] - 0s 77us/step - loss: 0.5686 - acc: 0.7279\n",
      "Epoch 25/150\n",
      "768/768 [==============================] - 0s 78us/step - loss: 0.5585 - acc: 0.7344\n",
      "Epoch 26/150\n",
      "768/768 [==============================] - 0s 78us/step - loss: 0.5707 - acc: 0.7070\n",
      "Epoch 27/150\n",
      "768/768 [==============================] - 0s 80us/step - loss: 0.5555 - acc: 0.7214\n",
      "Epoch 28/150\n",
      "768/768 [==============================] - 0s 103us/step - loss: 0.5555 - acc: 0.7266\n",
      "Epoch 29/150\n",
      "768/768 [==============================] - 0s 94us/step - loss: 0.5740 - acc: 0.7135\n",
      "Epoch 30/150\n",
      "768/768 [==============================] - 0s 82us/step - loss: 0.5611 - acc: 0.7214\n",
      "Epoch 31/150\n",
      "768/768 [==============================] - 0s 80us/step - loss: 0.5691 - acc: 0.7148\n",
      "Epoch 32/150\n",
      "768/768 [==============================] - 0s 80us/step - loss: 0.5653 - acc: 0.7135\n",
      "Epoch 33/150\n",
      "768/768 [==============================] - 0s 77us/step - loss: 0.5535 - acc: 0.7161\n",
      "Epoch 34/150\n",
      "768/768 [==============================] - 0s 86us/step - loss: 0.5521 - acc: 0.7279\n",
      "Epoch 35/150\n",
      "768/768 [==============================] - 0s 80us/step - loss: 0.5533 - acc: 0.7201\n",
      "Epoch 36/150\n",
      "768/768 [==============================] - 0s 79us/step - loss: 0.5619 - acc: 0.7083\n",
      "Epoch 37/150\n",
      "768/768 [==============================] - 0s 77us/step - loss: 0.5351 - acc: 0.7331\n",
      "Epoch 38/150\n",
      "768/768 [==============================] - 0s 78us/step - loss: 0.5453 - acc: 0.7122\n",
      "Epoch 39/150\n",
      "768/768 [==============================] - 0s 78us/step - loss: 0.5486 - acc: 0.7279\n",
      "Epoch 40/150\n",
      "768/768 [==============================] - 0s 83us/step - loss: 0.5478 - acc: 0.7161\n",
      "Epoch 41/150\n",
      "768/768 [==============================] - 0s 83us/step - loss: 0.5446 - acc: 0.7292\n",
      "Epoch 42/150\n",
      "768/768 [==============================] - 0s 81us/step - loss: 0.5376 - acc: 0.7422\n",
      "Epoch 43/150\n",
      "768/768 [==============================] - 0s 79us/step - loss: 0.5341 - acc: 0.7461\n",
      "Epoch 44/150\n",
      "768/768 [==============================] - 0s 118us/step - loss: 0.5351 - acc: 0.7461\n",
      "Epoch 45/150\n",
      "768/768 [==============================] - 0s 87us/step - loss: 0.5327 - acc: 0.7565\n",
      "Epoch 46/150\n",
      "768/768 [==============================] - 0s 80us/step - loss: 0.5292 - acc: 0.7565\n",
      "Epoch 47/150\n",
      "768/768 [==============================] - 0s 76us/step - loss: 0.5317 - acc: 0.7396\n",
      "Epoch 48/150\n",
      "768/768 [==============================] - 0s 82us/step - loss: 0.5346 - acc: 0.7422\n",
      "Epoch 49/150\n",
      "768/768 [==============================] - 0s 80us/step - loss: 0.5342 - acc: 0.7565\n",
      "Epoch 50/150\n",
      "768/768 [==============================] - 0s 78us/step - loss: 0.5263 - acc: 0.7409\n",
      "Epoch 51/150\n",
      "768/768 [==============================] - 0s 80us/step - loss: 0.5276 - acc: 0.7487\n",
      "Epoch 52/150\n",
      "768/768 [==============================] - 0s 78us/step - loss: 0.5292 - acc: 0.7422\n",
      "Epoch 53/150\n",
      "768/768 [==============================] - 0s 76us/step - loss: 0.5393 - acc: 0.7474\n",
      "Epoch 54/150\n",
      "768/768 [==============================] - 0s 80us/step - loss: 0.5373 - acc: 0.7279\n",
      "Epoch 55/150\n",
      "768/768 [==============================] - 0s 79us/step - loss: 0.5224 - acc: 0.7513\n",
      "Epoch 56/150\n",
      "768/768 [==============================] - 0s 76us/step - loss: 0.5284 - acc: 0.7448\n",
      "Epoch 57/150\n",
      "768/768 [==============================] - 0s 78us/step - loss: 0.5304 - acc: 0.7344\n",
      "Epoch 58/150\n",
      "768/768 [==============================] - 0s 76us/step - loss: 0.5212 - acc: 0.7552\n",
      "Epoch 59/150\n",
      "768/768 [==============================] - 0s 79us/step - loss: 0.5132 - acc: 0.7617\n",
      "Epoch 60/150\n",
      "768/768 [==============================] - 0s 85us/step - loss: 0.5350 - acc: 0.7370\n",
      "Epoch 61/150\n",
      "768/768 [==============================] - 0s 80us/step - loss: 0.5267 - acc: 0.7344\n",
      "Epoch 62/150\n",
      "768/768 [==============================] - 0s 76us/step - loss: 0.5169 - acc: 0.7552\n",
      "Epoch 63/150\n",
      "768/768 [==============================] - 0s 79us/step - loss: 0.5418 - acc: 0.7305\n",
      "Epoch 64/150\n",
      "768/768 [==============================] - 0s 82us/step - loss: 0.5322 - acc: 0.7435\n",
      "Epoch 65/150\n",
      "768/768 [==============================] - 0s 79us/step - loss: 0.5211 - acc: 0.7487\n",
      "Epoch 66/150\n",
      "768/768 [==============================] - 0s 80us/step - loss: 0.5079 - acc: 0.7513\n",
      "Epoch 67/150\n",
      "768/768 [==============================] - 0s 78us/step - loss: 0.5164 - acc: 0.7370\n",
      "Epoch 68/150\n",
      "768/768 [==============================] - 0s 78us/step - loss: 0.5129 - acc: 0.7526\n",
      "Epoch 69/150\n",
      "768/768 [==============================] - 0s 82us/step - loss: 0.5128 - acc: 0.7565\n",
      "Epoch 70/150\n",
      "768/768 [==============================] - 0s 81us/step - loss: 0.5347 - acc: 0.7214\n",
      "Epoch 71/150\n",
      "768/768 [==============================] - 0s 80us/step - loss: 0.5196 - acc: 0.7409\n",
      "Epoch 72/150\n",
      "768/768 [==============================] - 0s 79us/step - loss: 0.5168 - acc: 0.7474\n",
      "Epoch 73/150\n",
      "768/768 [==============================] - 0s 79us/step - loss: 0.5166 - acc: 0.7474\n",
      "Epoch 74/150\n",
      "768/768 [==============================] - 0s 82us/step - loss: 0.5107 - acc: 0.7617\n",
      "Epoch 75/150\n",
      "768/768 [==============================] - 0s 77us/step - loss: 0.5108 - acc: 0.7617\n",
      "Epoch 76/150\n",
      "768/768 [==============================] - 0s 85us/step - loss: 0.5129 - acc: 0.7539\n",
      "Epoch 77/150\n",
      "768/768 [==============================] - 0s 80us/step - loss: 0.5171 - acc: 0.7630\n",
      "Epoch 78/150\n",
      "768/768 [==============================] - 0s 80us/step - loss: 0.5139 - acc: 0.7487\n",
      "Epoch 79/150\n",
      "768/768 [==============================] - 0s 84us/step - loss: 0.5151 - acc: 0.7409\n",
      "Epoch 80/150\n",
      "768/768 [==============================] - 0s 86us/step - loss: 0.5108 - acc: 0.7565\n",
      "Epoch 81/150\n"
     ]
    },
    {
     "name": "stdout",
     "output_type": "stream",
     "text": [
      "768/768 [==============================] - 0s 95us/step - loss: 0.5063 - acc: 0.7656\n",
      "Epoch 82/150\n",
      "768/768 [==============================] - 0s 98us/step - loss: 0.5078 - acc: 0.7539\n",
      "Epoch 83/150\n",
      "768/768 [==============================] - 0s 88us/step - loss: 0.5018 - acc: 0.7617\n",
      "Epoch 84/150\n",
      "768/768 [==============================] - 0s 80us/step - loss: 0.4966 - acc: 0.7552\n",
      "Epoch 85/150\n",
      "768/768 [==============================] - 0s 78us/step - loss: 0.5065 - acc: 0.7539\n",
      "Epoch 86/150\n",
      "768/768 [==============================] - 0s 78us/step - loss: 0.5082 - acc: 0.7500\n",
      "Epoch 87/150\n",
      "768/768 [==============================] - 0s 76us/step - loss: 0.4989 - acc: 0.7578\n",
      "Epoch 88/150\n",
      "768/768 [==============================] - 0s 79us/step - loss: 0.5010 - acc: 0.7656\n",
      "Epoch 89/150\n",
      "768/768 [==============================] - 0s 81us/step - loss: 0.5050 - acc: 0.7669\n",
      "Epoch 90/150\n",
      "768/768 [==============================] - 0s 83us/step - loss: 0.5105 - acc: 0.7500\n",
      "Epoch 91/150\n",
      "768/768 [==============================] - 0s 83us/step - loss: 0.4984 - acc: 0.7604\n",
      "Epoch 92/150\n",
      "768/768 [==============================] - 0s 83us/step - loss: 0.5061 - acc: 0.7500\n",
      "Epoch 93/150\n",
      "768/768 [==============================] - 0s 82us/step - loss: 0.4990 - acc: 0.7643\n",
      "Epoch 94/150\n",
      "768/768 [==============================] - 0s 92us/step - loss: 0.4987 - acc: 0.7682\n",
      "Epoch 95/150\n",
      "768/768 [==============================] - 0s 84us/step - loss: 0.5030 - acc: 0.7526\n",
      "Epoch 96/150\n",
      "768/768 [==============================] - 0s 89us/step - loss: 0.4912 - acc: 0.7708\n",
      "Epoch 97/150\n",
      "768/768 [==============================] - 0s 80us/step - loss: 0.4973 - acc: 0.7708\n",
      "Epoch 98/150\n",
      "768/768 [==============================] - 0s 79us/step - loss: 0.4899 - acc: 0.7630\n",
      "Epoch 99/150\n",
      "768/768 [==============================] - 0s 82us/step - loss: 0.4903 - acc: 0.7721\n",
      "Epoch 100/150\n",
      "768/768 [==============================] - 0s 105us/step - loss: 0.4851 - acc: 0.7839\n",
      "Epoch 101/150\n",
      "768/768 [==============================] - 0s 103us/step - loss: 0.4902 - acc: 0.7760\n",
      "Epoch 102/150\n",
      "768/768 [==============================] - 0s 106us/step - loss: 0.4986 - acc: 0.7604\n",
      "Epoch 103/150\n",
      "768/768 [==============================] - 0s 110us/step - loss: 0.4988 - acc: 0.7591\n",
      "Epoch 104/150\n",
      "768/768 [==============================] - 0s 84us/step - loss: 0.4922 - acc: 0.7878\n",
      "Epoch 105/150\n",
      "768/768 [==============================] - 0s 80us/step - loss: 0.5307 - acc: 0.7500\n",
      "Epoch 106/150\n",
      "768/768 [==============================] - 0s 86us/step - loss: 0.4926 - acc: 0.7760\n",
      "Epoch 107/150\n",
      "768/768 [==============================] - 0s 80us/step - loss: 0.4910 - acc: 0.7708\n",
      "Epoch 108/150\n",
      "768/768 [==============================] - 0s 79us/step - loss: 0.5040 - acc: 0.7591\n",
      "Epoch 109/150\n",
      "768/768 [==============================] - 0s 79us/step - loss: 0.4875 - acc: 0.7604\n",
      "Epoch 110/150\n",
      "768/768 [==============================] - 0s 82us/step - loss: 0.4876 - acc: 0.7617\n",
      "Epoch 111/150\n",
      "768/768 [==============================] - 0s 77us/step - loss: 0.4844 - acc: 0.7799\n",
      "Epoch 112/150\n",
      "768/768 [==============================] - 0s 82us/step - loss: 0.4926 - acc: 0.7773\n",
      "Epoch 113/150\n",
      "768/768 [==============================] - 0s 85us/step - loss: 0.4990 - acc: 0.7526\n",
      "Epoch 114/150\n",
      "768/768 [==============================] - 0s 85us/step - loss: 0.4918 - acc: 0.7552\n",
      "Epoch 115/150\n",
      "768/768 [==============================] - 0s 99us/step - loss: 0.4926 - acc: 0.7695\n",
      "Epoch 116/150\n",
      "768/768 [==============================] - 0s 91us/step - loss: 0.4886 - acc: 0.7708\n",
      "Epoch 117/150\n",
      "768/768 [==============================] - 0s 100us/step - loss: 0.4922 - acc: 0.7656\n",
      "Epoch 118/150\n",
      "768/768 [==============================] - 0s 87us/step - loss: 0.4900 - acc: 0.7799\n",
      "Epoch 119/150\n",
      "768/768 [==============================] - 0s 79us/step - loss: 0.4844 - acc: 0.7656\n",
      "Epoch 120/150\n",
      "768/768 [==============================] - 0s 83us/step - loss: 0.4970 - acc: 0.7734\n",
      "Epoch 121/150\n",
      "768/768 [==============================] - 0s 82us/step - loss: 0.4926 - acc: 0.7760\n",
      "Epoch 122/150\n",
      "768/768 [==============================] - 0s 82us/step - loss: 0.4838 - acc: 0.7786\n",
      "Epoch 123/150\n",
      "768/768 [==============================] - 0s 77us/step - loss: 0.4855 - acc: 0.7617\n",
      "Epoch 124/150\n",
      "768/768 [==============================] - 0s 82us/step - loss: 0.4845 - acc: 0.7786\n",
      "Epoch 125/150\n",
      "768/768 [==============================] - 0s 81us/step - loss: 0.4859 - acc: 0.7760\n",
      "Epoch 126/150\n",
      "768/768 [==============================] - 0s 84us/step - loss: 0.4811 - acc: 0.7695\n",
      "Epoch 127/150\n",
      "768/768 [==============================] - 0s 82us/step - loss: 0.4882 - acc: 0.7708\n",
      "Epoch 128/150\n",
      "768/768 [==============================] - 0s 81us/step - loss: 0.4717 - acc: 0.7747\n",
      "Epoch 129/150\n",
      "768/768 [==============================] - 0s 89us/step - loss: 0.4814 - acc: 0.7721\n",
      "Epoch 130/150\n",
      "768/768 [==============================] - 0s 80us/step - loss: 0.4720 - acc: 0.7865\n",
      "Epoch 131/150\n",
      "768/768 [==============================] - 0s 84us/step - loss: 0.4835 - acc: 0.7669\n",
      "Epoch 132/150\n",
      "768/768 [==============================] - 0s 80us/step - loss: 0.4812 - acc: 0.7786\n",
      "Epoch 133/150\n",
      "768/768 [==============================] - 0s 84us/step - loss: 0.4833 - acc: 0.7695\n",
      "Epoch 134/150\n",
      "768/768 [==============================] - 0s 82us/step - loss: 0.4864 - acc: 0.7695\n",
      "Epoch 135/150\n",
      "768/768 [==============================] - 0s 78us/step - loss: 0.4745 - acc: 0.7604\n",
      "Epoch 136/150\n",
      "768/768 [==============================] - 0s 83us/step - loss: 0.4728 - acc: 0.7747\n",
      "Epoch 137/150\n",
      "768/768 [==============================] - 0s 84us/step - loss: 0.4687 - acc: 0.7865\n",
      "Epoch 138/150\n",
      "768/768 [==============================] - 0s 85us/step - loss: 0.4782 - acc: 0.7826\n",
      "Epoch 139/150\n",
      "768/768 [==============================] - 0s 80us/step - loss: 0.4664 - acc: 0.7786\n",
      "Epoch 140/150\n",
      "768/768 [==============================] - 0s 80us/step - loss: 0.4805 - acc: 0.7839\n",
      "Epoch 141/150\n",
      "768/768 [==============================] - 0s 83us/step - loss: 0.4719 - acc: 0.7812\n",
      "Epoch 142/150\n",
      "768/768 [==============================] - 0s 81us/step - loss: 0.4812 - acc: 0.7708\n",
      "Epoch 143/150\n",
      "768/768 [==============================] - 0s 85us/step - loss: 0.4729 - acc: 0.7747\n",
      "Epoch 144/150\n",
      "768/768 [==============================] - 0s 85us/step - loss: 0.4747 - acc: 0.7760\n",
      "Epoch 145/150\n",
      "768/768 [==============================] - 0s 99us/step - loss: 0.4875 - acc: 0.7656\n",
      "Epoch 146/150\n",
      "768/768 [==============================] - 0s 102us/step - loss: 0.4935 - acc: 0.7721\n",
      "Epoch 147/150\n",
      "768/768 [==============================] - 0s 104us/step - loss: 0.4838 - acc: 0.7812\n",
      "Epoch 148/150\n",
      "768/768 [==============================] - 0s 96us/step - loss: 0.4700 - acc: 0.7786\n",
      "Epoch 149/150\n",
      "768/768 [==============================] - 0s 89us/step - loss: 0.4737 - acc: 0.7656\n",
      "Epoch 150/150\n",
      "768/768 [==============================] - 0s 89us/step - loss: 0.4776 - acc: 0.7812\n"
     ]
    },
    {
     "data": {
      "text/plain": [
       "<keras.callbacks.History at 0x142456828>"
      ]
     },
     "execution_count": 12,
     "metadata": {},
     "output_type": "execute_result"
    }
   ],
   "source": [
    "model.fit(X, y, epochs=150, batch_size=10)"
   ]
  },
  {
   "cell_type": "markdown",
   "metadata": {},
   "source": [
    "## Evaluate model"
   ]
  },
  {
   "cell_type": "code",
   "execution_count": 13,
   "metadata": {},
   "outputs": [
    {
     "name": "stdout",
     "output_type": "stream",
     "text": [
      "768/768 [==============================] - 0s 72us/step\n",
      "\n",
      "acc: 77.99%\n"
     ]
    }
   ],
   "source": [
    "scores = model.evaluate(X, y)\n",
    "print(\"\\n%s: %.2f%%\" % (model.metrics_names[1], scores[1]*100))"
   ]
  },
  {
   "cell_type": "code",
   "execution_count": null,
   "metadata": {},
   "outputs": [],
   "source": []
  }
 ],
 "metadata": {
  "kernelspec": {
   "display_name": "venv",
   "language": "python",
   "name": "venv"
  },
  "language_info": {
   "codemirror_mode": {
    "name": "ipython",
    "version": 3
   },
   "file_extension": ".py",
   "mimetype": "text/x-python",
   "name": "python",
   "nbconvert_exporter": "python",
   "pygments_lexer": "ipython3",
   "version": "3.7.0"
  }
 },
 "nbformat": 4,
 "nbformat_minor": 2
}
