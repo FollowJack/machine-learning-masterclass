{
 "cells": [
  {
   "cell_type": "markdown",
   "metadata": {},
   "source": [
    "# Principal Component Analysis"
   ]
  },
  {
   "cell_type": "markdown",
   "metadata": {},
   "source": [
    "## Summary\n",
    "- StandardScalers\n",
    "- Principal Components "
   ]
  },
  {
   "cell_type": "markdown",
   "metadata": {},
   "source": [
    "### Setup Dependencies"
   ]
  },
  {
   "cell_type": "code",
   "execution_count": 1,
   "metadata": {},
   "outputs": [],
   "source": [
    "import numpy as np\n",
    "import pandas as pd\n",
    "\n",
    "from matplotlib import pyplot as plt\n",
    "%matplotlib inline\n",
    "\n",
    "import seaborn as sns\n",
    "\n",
    "from sklearn.preprocessing import StandardScaler\n",
    "from sklearn.decomposition import PCA"
   ]
  },
  {
   "cell_type": "code",
   "execution_count": 2,
   "metadata": {},
   "outputs": [],
   "source": [
    "item_data = pd.read_csv('../data/item_data.csv', index_col=0)"
   ]
  },
  {
   "cell_type": "code",
   "execution_count": 3,
   "metadata": {},
   "outputs": [
    {
     "data": {
      "text/plain": [
       "(414, 2574)"
      ]
     },
     "execution_count": 3,
     "metadata": {},
     "output_type": "execute_result"
    }
   ],
   "source": [
    "item_data.shape"
   ]
  },
  {
   "cell_type": "markdown",
   "metadata": {},
   "source": [
    "### Toy example: oval blob"
   ]
  },
  {
   "cell_type": "code",
   "execution_count": 4,
   "metadata": {},
   "outputs": [],
   "source": [
    "np.random.seed(101)\n",
    "\n",
    "x1 = np.random.normal(0,1,100)\n",
    "x2 = x1 + np.random.normal(0,1,100)"
   ]
  },
  {
   "cell_type": "code",
   "execution_count": 5,
   "metadata": {},
   "outputs": [
    {
     "data": {
      "text/plain": [
       "(100, 2)"
      ]
     },
     "execution_count": 5,
     "metadata": {},
     "output_type": "execute_result"
    }
   ],
   "source": [
    "X = np.stack([x1, x2], axis=1)\n",
    "X.shape"
   ]
  },
  {
   "cell_type": "code",
   "execution_count": 6,
   "metadata": {},
   "outputs": [
    {
     "data": {
      "text/plain": [
       "array([[ 2.45737416,  2.76968241],\n",
       "       [ 0.44665735, -0.38363275],\n",
       "       [ 0.71733989, -0.37695455],\n",
       "       [ 0.3264168 , -0.60579169],\n",
       "       [ 0.46889068,  0.39146426]])"
      ]
     },
     "execution_count": 6,
     "metadata": {},
     "output_type": "execute_result"
    }
   ],
   "source": [
    "scaler = StandardScaler()\n",
    "\n",
    "X_scaled = scaler.fit_transform(X)\n",
    "\n",
    "X_scaled[:5]"
   ]
  },
  {
   "cell_type": "code",
   "execution_count": 7,
   "metadata": {},
   "outputs": [
    {
     "data": {
      "image/png": "[encoded data removed]",
      "text/plain": [
       "<Figure size 432x288 with 1 Axes>"
      ]
     },
     "metadata": {
      "needs_background": "light"
     },
     "output_type": "display_data"
    }
   ],
   "source": [
    "plt.scatter(X_scaled[:,0], X_scaled[:,1])\n",
    "plt.axis('equal')\n",
    "\n",
    "plt.xlabel('x1 (scaled)')\n",
    "plt.ylabel('x2 (scaled)')\n",
    "\n",
    "plt.show()"
   ]
  },
  {
   "cell_type": "markdown",
   "metadata": {},
   "source": [
    "### Principal Components"
   ]
  },
  {
   "cell_type": "code",
   "execution_count": 8,
   "metadata": {},
   "outputs": [
    {
     "data": {
      "text/plain": [
       "PCA(copy=True, iterated_power='auto', n_components=None, random_state=None,\n",
       "  svd_solver='auto', tol=0.0, whiten=False)"
      ]
     },
     "execution_count": 8,
     "metadata": {},
     "output_type": "execute_result"
    }
   ],
   "source": [
    "pca = PCA()\n",
    "\n",
    "pca.fit(X_scaled)"
   ]
  },
  {
   "cell_type": "code",
   "execution_count": 9,
   "metadata": {},
   "outputs": [
    {
     "data": {
      "text/plain": [
       "array([[ 0.70710678,  0.70710678],\n",
       "       [-0.70710678,  0.70710678]])"
      ]
     },
     "execution_count": 9,
     "metadata": {},
     "output_type": "execute_result"
    }
   ],
   "source": [
    "pca.components_"
   ]
  },
  {
   "cell_type": "code",
   "execution_count": 10,
   "metadata": {},
   "outputs": [
    {
     "data": {
      "image/png": "[encoded data removed]",
      "text/plain": [
       "<Figure size 432x288 with 1 Axes>"
      ]
     },
     "metadata": {
      "needs_background": "light"
     },
     "output_type": "display_data"
    }
   ],
   "source": [
    "plt.scatter(X_scaled[:,0], X_scaled[:,1], alpha=0.3)\n",
    "\n",
    "plt.plot([0, 2*pca.components_[0,0]], [0,2*pca.components_[0,1]], 'k')\n",
    "\n",
    "plt.plot ([0, pca.components_[1,0]], [0, pca.components_[1,1]],'r')\n",
    "\n",
    "plt.axis('equal')\n",
    "plt.xlabel('x1 (scaled)')\n",
    "plt.ylabel('y1 (scaled)')\n",
    "\n",
    "plt.show()"
   ]
  },
  {
   "cell_type": "code",
   "execution_count": 11,
   "metadata": {},
   "outputs": [],
   "source": [
    "### Transform our original "
   ]
  },
  {
   "cell_type": "code",
   "execution_count": 12,
   "metadata": {
    "scrolled": true
   },
   "outputs": [
    {
     "data": {
      "text/plain": [
       "array([[ 3.69608715,  0.22083528],\n",
       "       [ 0.04456512, -0.58710376],\n",
       "       [ 0.24068878, -0.77378302],\n",
       "       [-0.19754788, -0.65917095],\n",
       "       [ 0.60836281, -0.05474875],\n",
       "       [-0.71622501, -0.05182778],\n",
       "       [-1.49075894, -0.10304543],\n",
       "       [ 0.58856263, -0.01278239],\n",
       "       [-2.84995071,  0.1383902 ],\n",
       "       [ 0.80906979,  0.02420498],\n",
       "       [ 0.75012665,  0.25432158],\n",
       "       [-0.66833044,  0.3649792 ],\n",
       "       [-0.44371345, -0.47425354],\n",
       "       [-0.6110213 ,  0.65466425],\n",
       "       [-1.15520984,  0.34899869],\n",
       "       [ 1.32501463,  0.24613004],\n",
       "       [ 0.51361362,  0.48020218],\n",
       "       [ 1.93344859, -0.54580846],\n",
       "       [ 3.19780987, -0.13943961],\n",
       "       [ 0.29706017, -0.4103606 ],\n",
       "       [ 0.46148845,  0.2750428 ],\n",
       "       [ 1.03345039, -1.0558936 ],\n",
       "       [-1.80321689,  0.75821074],\n",
       "       [-1.47761898,  0.33558531],\n",
       "       [-1.09288786, -0.68084655],\n",
       "       [ 0.44495097,  0.13831388],\n",
       "       [-0.21424021, -0.21497172],\n",
       "       [ 1.03674771,  1.01194406],\n",
       "       [ 0.86066398, -0.01665223],\n",
       "       [ 0.99469087,  1.12247144],\n",
       "       [ 0.91351392,  0.26727048],\n",
       "       [-0.1808937 , -0.40424782],\n",
       "       [-0.58755505,  0.32004468],\n",
       "       [-0.91165505,  0.34746112],\n",
       "       [-0.84069369,  0.67742579],\n",
       "       [-0.32685715, -0.76238778],\n",
       "       [-0.40971067, -0.02238467],\n",
       "       [ 1.756837  , -0.61708438],\n",
       "       [ 0.2248986 ,  0.12673844],\n",
       "       [ 2.22754554, -0.27619093],\n",
       "       [-1.14702153,  0.43930001],\n",
       "       [ 0.38061345,  0.33898721],\n",
       "       [-1.54476654,  0.2376933 ],\n",
       "       [ 0.2040996 ,  0.4311841 ],\n",
       "       [ 0.84161036, -0.33429976],\n",
       "       [-0.52855286, -0.08674879],\n",
       "       [-0.03534814,  0.23543641],\n",
       "       [ 0.67877684,  0.01743283],\n",
       "       [ 1.85955753, -0.86058079],\n",
       "       [ 0.17691858,  1.23930857],\n",
       "       [-1.47715605, -0.21632223],\n",
       "       [-1.26343563, -0.5619663 ],\n",
       "       [ 0.53672067,  0.5631811 ],\n",
       "       [-0.4639222 ,  0.41952501],\n",
       "       [ 0.6657839 ,  0.12900061],\n",
       "       [ 0.72543752, -0.4488668 ],\n",
       "       [-1.87126748, -0.37713112],\n",
       "       [ 1.8788104 , -0.44191046],\n",
       "       [-1.48189851,  0.29669353],\n",
       "       [ 0.54820637, -0.05931161],\n",
       "       [ 0.3281673 ,  0.02768261],\n",
       "       [ 2.81087747,  0.18762825],\n",
       "       [-1.10079507, -0.35815018],\n",
       "       [-0.78021044, -0.86771342],\n",
       "       [ 0.44714083, -0.25713421],\n",
       "       [ 0.2563615 , -0.93205296],\n",
       "       [-1.46549933, -1.19528749],\n",
       "       [ 2.77625829,  0.35011195],\n",
       "       [-1.23029945,  0.37233274],\n",
       "       [-1.30158205, -0.05926432],\n",
       "       [-0.12536091, -0.15375224],\n",
       "       [-0.19052643,  1.03955559],\n",
       "       [-1.22196002,  0.89739261],\n",
       "       [ 1.96079657,  0.16040134],\n",
       "       [ 1.09915613,  0.0115144 ],\n",
       "       [-3.1112552 ,  0.04540393],\n",
       "       [ 0.92300291, -0.20720302],\n",
       "       [ 0.77138506, -0.63195578],\n",
       "       [-0.41819164,  1.24133721],\n",
       "       [ 0.84002657, -0.70082608],\n",
       "       [-2.45064263, -0.21556967],\n",
       "       [-1.48438532, -0.58090129],\n",
       "       [ 0.02723837,  0.47716374],\n",
       "       [-0.37515183, -0.81212851],\n",
       "       [ 0.574862  ,  0.26554241],\n",
       "       [ 0.22877154,  0.15336899],\n",
       "       [-1.23629341,  0.16115862],\n",
       "       [ 2.77040875,  0.8886274 ],\n",
       "       [ 0.35241223, -0.33149406],\n",
       "       [-0.54604214,  0.41782223],\n",
       "       [-1.38540921, -0.38003199],\n",
       "       [ 1.08674283, -0.61084098],\n",
       "       [ 0.92863596,  0.27826336],\n",
       "       [-1.55657393, -0.09085587],\n",
       "       [-0.62381543,  0.13885347],\n",
       "       [ 1.34195511,  0.16288637],\n",
       "       [-2.38607781,  0.53993497],\n",
       "       [-1.34696388,  0.06647812],\n",
       "       [ 0.69403696, -0.06437926],\n",
       "       [-2.54547696, -0.64477495]])"
      ]
     },
     "execution_count": 12,
     "metadata": {},
     "output_type": "execute_result"
    }
   ],
   "source": [
    "PC = pca.transform(X_scaled)\n",
    "PC"
   ]
  },
  {
   "cell_type": "code",
   "execution_count": 13,
   "metadata": {},
   "outputs": [
    {
     "data": {
      "image/png": "[encoded data removed]",
      "text/plain": [
       "<Figure size 432x288 with 1 Axes>"
      ]
     },
     "metadata": {
      "needs_background": "light"
     },
     "output_type": "display_data"
    }
   ],
   "source": [
    "plt.scatter(PC[:,0], PC[:,1], alpha=0.3, color='g')\n",
    "plt.plot([0,2], [0,0], 'k')\n",
    "plt.plot([0,0], [0,1], 'r')\n",
    "plt.axis('equal')\n",
    "plt.xlabel('PC1')\n",
    "plt.ylabel('PC2')\n",
    "\n",
    "plt.show()"
   ]
  },
  {
   "cell_type": "markdown",
   "metadata": {},
   "source": [
    "### Dimensionality Reduction"
   ]
  },
  {
   "cell_type": "code",
   "execution_count": 14,
   "metadata": {},
   "outputs": [],
   "source": [
    "#pca = PCA()"
   ]
  },
  {
   "cell_type": "code",
   "execution_count": 15,
   "metadata": {},
   "outputs": [
    {
     "data": {
      "text/plain": [
       "array([0.86915841, 0.13084159])"
      ]
     },
     "execution_count": 15,
     "metadata": {},
     "output_type": "execute_result"
    }
   ],
   "source": [
    "pca.explained_variance_ratio_"
   ]
  },
  {
   "cell_type": "code",
   "execution_count": 16,
   "metadata": {},
   "outputs": [
    {
     "data": {
      "text/plain": [
       "PCA(copy=True, iterated_power='auto', n_components=1, random_state=None,\n",
       "  svd_solver='auto', tol=0.0, whiten=False)"
      ]
     },
     "execution_count": 16,
     "metadata": {},
     "output_type": "execute_result"
    }
   ],
   "source": [
    "pca = PCA(n_components=1)\n",
    "pca.fit(X_scaled)"
   ]
  },
  {
   "cell_type": "code",
   "execution_count": 17,
   "metadata": {},
   "outputs": [
    {
     "data": {
      "text/plain": [
       "array([[0.70710678, 0.70710678]])"
      ]
     },
     "execution_count": 17,
     "metadata": {},
     "output_type": "execute_result"
    }
   ],
   "source": [
    "pca.components_"
   ]
  },
  {
   "cell_type": "code",
   "execution_count": 18,
   "metadata": {},
   "outputs": [
    {
     "data": {
      "text/plain": [
       "(100, 1)"
      ]
     },
     "execution_count": 18,
     "metadata": {},
     "output_type": "execute_result"
    }
   ],
   "source": [
    "PC = pca.transform(X_scaled)\n",
    "PC.shape"
   ]
  },
  {
   "cell_type": "code",
   "execution_count": 19,
   "metadata": {},
   "outputs": [
    {
     "data": {
      "image/png": "[encoded data removed]",
      "text/plain": [
       "<Figure size 432x288 with 1 Axes>"
      ]
     },
     "metadata": {
      "needs_background": "light"
     },
     "output_type": "display_data"
    }
   ],
   "source": [
    "plt.scatter(PC[:,0], len(PC)*[0], alpha=0.3, color='g')\n",
    "plt.plot([0,2],[0,0], 'k')\n",
    "plt.axis('equal')\n",
    "plt.xlabel('PC1')\n",
    "plt.show()"
   ]
  },
  {
   "cell_type": "markdown",
   "metadata": {},
   "source": [
    "### Item Data PCA"
   ]
  },
  {
   "cell_type": "code",
   "execution_count": 20,
   "metadata": {},
   "outputs": [
    {
     "name": "stderr",
     "output_type": "stream",
     "text": [
      "/Users/deniel.horvatic/repository/machine-learning-masterclass/project_04_invoice_analytics_unsupervised/venv/lib/python3.7/site-packages/sklearn/preprocessing/data.py:645: DataConversionWarning: Data with input dtype int64 were all converted to float64 by StandardScaler.\n",
      "  return self.partial_fit(X, y)\n",
      "/Users/deniel.horvatic/repository/machine-learning-masterclass/project_04_invoice_analytics_unsupervised/venv/lib/python3.7/site-packages/sklearn/base.py:464: DataConversionWarning: Data with input dtype int64 were all converted to float64 by StandardScaler.\n",
      "  return self.fit(X, **fit_params).transform(X)\n"
     ]
    },
    {
     "data": {
      "text/plain": [
       "array([[-0.13303802, -0.04920678, -0.1119152 , ..., -0.10482848,\n",
       "        -0.15568183, -0.68068072],\n",
       "       [-0.13303802, -0.04920678, -0.1119152 , ..., -0.10482848,\n",
       "        -0.15568183,  0.38776219],\n",
       "       [-0.13303802, -0.04920678, -0.1119152 , ..., -0.10482848,\n",
       "        -0.15568183, -0.41356999],\n",
       "       [-0.13303802, -0.04920678, -0.1119152 , ..., -0.10482848,\n",
       "        -0.15568183, -0.41356999],\n",
       "       [-0.13303802, -0.04920678, -0.1119152 , ..., -0.10482848,\n",
       "         5.53128397,  0.65487292]])"
      ]
     },
     "execution_count": 20,
     "metadata": {},
     "output_type": "execute_result"
    }
   ],
   "source": [
    "standard_scaler = StandardScaler()\n",
    "\n",
    "item_data_scaled = scaler.fit_transform(item_data)\n",
    "item_data_scaled[:5]"
   ]
  },
  {
   "cell_type": "code",
   "execution_count": 21,
   "metadata": {},
   "outputs": [
    {
     "data": {
      "text/plain": [
       "PCA(copy=True, iterated_power='auto', n_components=None, random_state=None,\n",
       "  svd_solver='auto', tol=0.0, whiten=False)"
      ]
     },
     "execution_count": 21,
     "metadata": {},
     "output_type": "execute_result"
    }
   ],
   "source": [
    "# Fit data in an instance of PCA transformation\n",
    "pca = PCA()\n",
    "pca.fit(item_data_scaled)"
   ]
  },
  {
   "cell_type": "code",
   "execution_count": 22,
   "metadata": {},
   "outputs": [
    {
     "data": {
      "text/plain": [
       "array([[ 5.87614052e+00,  4.82891689e+00, -4.95545069e-01, ...,\n",
       "        -6.62646278e-04, -4.43629806e-05,  7.18869408e-15],\n",
       "       [-4.21983747e+00,  1.22621722e+00, -1.88191211e+00, ...,\n",
       "        -2.11471782e-04, -2.69154340e-04,  1.24292937e-15],\n",
       "       [-1.26084676e+00,  2.38766371e+00, -7.31483440e-02, ...,\n",
       "         2.57750179e-04, -2.05682324e-04,  2.61411986e-15],\n",
       "       [-4.92931983e+00, -7.14858724e-01, -1.58093026e+00, ...,\n",
       "        -1.98603886e-03,  9.92316312e-05,  2.75734297e-15],\n",
       "       [-2.05311348e+00,  2.11095022e+00,  1.84807021e-01, ...,\n",
       "        -3.43415269e-04, -1.32981672e-04,  6.39766018e-15]])"
      ]
     },
     "execution_count": 22,
     "metadata": {},
     "output_type": "execute_result"
    }
   ],
   "source": [
    "PC_items = pca.transform(item_data_scaled)\n",
    "PC_items[:5]"
   ]
  },
  {
   "cell_type": "markdown",
   "metadata": {},
   "source": [
    "### Explained Variance"
   ]
  },
  {
   "cell_type": "code",
   "execution_count": 23,
   "metadata": {},
   "outputs": [
    {
     "data": {
      "text/plain": [
       "[<matplotlib.lines.Line2D at 0x1275725f8>]"
      ]
     },
     "execution_count": 23,
     "metadata": {},
     "output_type": "execute_result"
    },
    {
     "data": {
      "image/png": "[encoded data removed]",
      "text/plain": [
       "<Figure size 432x288 with 1 Axes>"
      ]
     },
     "metadata": {
      "needs_background": "light"
     },
     "output_type": "display_data"
    }
   ],
   "source": [
    "# calculate and cumulate explained variance\n",
    "# tells total amount of variance we'd capture if we kept up to the n-th component\n",
    "cumulative_explained_variance = np.cumsum(pca.explained_variance_ratio_)\n",
    "plt.plot(range(len(cumulative_explained_variance)), cumulative_explained_variance)"
   ]
  },
  {
   "cell_type": "code",
   "execution_count": 24,
   "metadata": {},
   "outputs": [
    {
     "data": {
      "text/plain": [
       "0.7955069032205401"
      ]
     },
     "execution_count": 24,
     "metadata": {},
     "output_type": "execute_result"
    }
   ],
   "source": [
    "# How much variance we'd capture with the first 125 components\n",
    "cumulative_explained_variance[124]"
   ]
  },
  {
   "cell_type": "code",
   "execution_count": 25,
   "metadata": {},
   "outputs": [
    {
     "data": {
      "text/plain": [
       "(414, 125)"
      ]
     },
     "execution_count": 25,
     "metadata": {},
     "output_type": "execute_result"
    }
   ],
   "source": [
    "#just take the first 125 elements\n",
    "pca = PCA(n_components=125)\n",
    "\n",
    "PC_items = pca.fit_transform(item_data_scaled)\n",
    "\n",
    "PC_items.shape"
   ]
  },
  {
   "cell_type": "code",
   "execution_count": 26,
   "metadata": {},
   "outputs": [
    {
     "data": {
      "text/html": [
       "<div>\n",
       "<style scoped>\n",
       "    .dataframe tbody tr th:only-of-type {\n",
       "        vertical-align: middle;\n",
       "    }\n",
       "\n",
       "    .dataframe tbody tr th {\n",
       "        vertical-align: top;\n",
       "    }\n",
       "\n",
       "    .dataframe thead th {\n",
       "        text-align: right;\n",
       "    }\n",
       "</style>\n",
       "<table border=\"1\" class=\"dataframe\">\n",
       "  <thead>\n",
       "    <tr style=\"text-align: right;\">\n",
       "      <th></th>\n",
       "      <th>PC1</th>\n",
       "      <th>PC2</th>\n",
       "      <th>PC3</th>\n",
       "      <th>PC4</th>\n",
       "      <th>PC5</th>\n",
       "      <th>PC6</th>\n",
       "      <th>PC7</th>\n",
       "      <th>PC8</th>\n",
       "      <th>PC9</th>\n",
       "      <th>PC10</th>\n",
       "      <th>...</th>\n",
       "      <th>PC116</th>\n",
       "      <th>PC117</th>\n",
       "      <th>PC118</th>\n",
       "      <th>PC119</th>\n",
       "      <th>PC120</th>\n",
       "      <th>PC121</th>\n",
       "      <th>PC122</th>\n",
       "      <th>PC123</th>\n",
       "      <th>PC124</th>\n",
       "      <th>PC125</th>\n",
       "    </tr>\n",
       "    <tr>\n",
       "      <th>CustomerID</th>\n",
       "      <th></th>\n",
       "      <th></th>\n",
       "      <th></th>\n",
       "      <th></th>\n",
       "      <th></th>\n",
       "      <th></th>\n",
       "      <th></th>\n",
       "      <th></th>\n",
       "      <th></th>\n",
       "      <th></th>\n",
       "      <th></th>\n",
       "      <th></th>\n",
       "      <th></th>\n",
       "      <th></th>\n",
       "      <th></th>\n",
       "      <th></th>\n",
       "      <th></th>\n",
       "      <th></th>\n",
       "      <th></th>\n",
       "      <th></th>\n",
       "      <th></th>\n",
       "    </tr>\n",
       "  </thead>\n",
       "  <tbody>\n",
       "    <tr>\n",
       "      <th>12347</th>\n",
       "      <td>5.876141</td>\n",
       "      <td>4.828892</td>\n",
       "      <td>-0.495543</td>\n",
       "      <td>3.093843</td>\n",
       "      <td>-0.633702</td>\n",
       "      <td>-11.534085</td>\n",
       "      <td>2.161913</td>\n",
       "      <td>7.116797</td>\n",
       "      <td>5.336110</td>\n",
       "      <td>4.424089</td>\n",
       "      <td>...</td>\n",
       "      <td>-0.007766</td>\n",
       "      <td>-0.779199</td>\n",
       "      <td>0.613359</td>\n",
       "      <td>-0.330509</td>\n",
       "      <td>-0.004962</td>\n",
       "      <td>-0.045697</td>\n",
       "      <td>0.148163</td>\n",
       "      <td>-0.061750</td>\n",
       "      <td>-0.198612</td>\n",
       "      <td>-0.269058</td>\n",
       "    </tr>\n",
       "    <tr>\n",
       "      <th>12348</th>\n",
       "      <td>-4.219839</td>\n",
       "      <td>1.226195</td>\n",
       "      <td>-1.881922</td>\n",
       "      <td>-0.174302</td>\n",
       "      <td>0.817768</td>\n",
       "      <td>1.160852</td>\n",
       "      <td>-0.871961</td>\n",
       "      <td>-0.846827</td>\n",
       "      <td>0.460120</td>\n",
       "      <td>0.854323</td>\n",
       "      <td>...</td>\n",
       "      <td>-1.904435</td>\n",
       "      <td>0.075644</td>\n",
       "      <td>-0.955823</td>\n",
       "      <td>1.409611</td>\n",
       "      <td>0.724342</td>\n",
       "      <td>0.464916</td>\n",
       "      <td>1.907702</td>\n",
       "      <td>-1.416770</td>\n",
       "      <td>1.121250</td>\n",
       "      <td>-2.946993</td>\n",
       "    </tr>\n",
       "    <tr>\n",
       "      <th>12349</th>\n",
       "      <td>-1.260838</td>\n",
       "      <td>2.387828</td>\n",
       "      <td>-0.073097</td>\n",
       "      <td>-1.118903</td>\n",
       "      <td>-0.034546</td>\n",
       "      <td>-3.715325</td>\n",
       "      <td>-0.342738</td>\n",
       "      <td>-0.149002</td>\n",
       "      <td>-0.789685</td>\n",
       "      <td>-0.377883</td>\n",
       "      <td>...</td>\n",
       "      <td>4.595645</td>\n",
       "      <td>-4.527504</td>\n",
       "      <td>-2.370799</td>\n",
       "      <td>-3.396166</td>\n",
       "      <td>-3.419379</td>\n",
       "      <td>-1.304617</td>\n",
       "      <td>3.845541</td>\n",
       "      <td>0.807568</td>\n",
       "      <td>-4.652684</td>\n",
       "      <td>2.594639</td>\n",
       "    </tr>\n",
       "    <tr>\n",
       "      <th>12350</th>\n",
       "      <td>-4.929319</td>\n",
       "      <td>-0.714874</td>\n",
       "      <td>-1.581119</td>\n",
       "      <td>-0.469789</td>\n",
       "      <td>-0.116164</td>\n",
       "      <td>0.647736</td>\n",
       "      <td>0.112682</td>\n",
       "      <td>-1.336327</td>\n",
       "      <td>1.547287</td>\n",
       "      <td>-1.190830</td>\n",
       "      <td>...</td>\n",
       "      <td>-1.869817</td>\n",
       "      <td>-0.460085</td>\n",
       "      <td>-1.192275</td>\n",
       "      <td>-0.596812</td>\n",
       "      <td>-0.808693</td>\n",
       "      <td>0.373854</td>\n",
       "      <td>-0.282510</td>\n",
       "      <td>-0.819361</td>\n",
       "      <td>-1.010051</td>\n",
       "      <td>0.363232</td>\n",
       "    </tr>\n",
       "    <tr>\n",
       "      <th>12352</th>\n",
       "      <td>-2.053129</td>\n",
       "      <td>2.110788</td>\n",
       "      <td>0.184844</td>\n",
       "      <td>0.128379</td>\n",
       "      <td>0.087133</td>\n",
       "      <td>-1.943497</td>\n",
       "      <td>2.383475</td>\n",
       "      <td>0.898283</td>\n",
       "      <td>-0.672848</td>\n",
       "      <td>0.081181</td>\n",
       "      <td>...</td>\n",
       "      <td>1.695937</td>\n",
       "      <td>8.096258</td>\n",
       "      <td>10.325739</td>\n",
       "      <td>-8.947321</td>\n",
       "      <td>-3.582689</td>\n",
       "      <td>-2.078227</td>\n",
       "      <td>3.346192</td>\n",
       "      <td>5.183793</td>\n",
       "      <td>0.928319</td>\n",
       "      <td>-1.933235</td>\n",
       "    </tr>\n",
       "  </tbody>\n",
       "</table>\n",
       "<p>5 rows × 125 columns</p>\n",
       "</div>"
      ],
      "text/plain": [
       "                 PC1       PC2       PC3       PC4       PC5        PC6  \\\n",
       "CustomerID                                                                \n",
       "12347       5.876141  4.828892 -0.495543  3.093843 -0.633702 -11.534085   \n",
       "12348      -4.219839  1.226195 -1.881922 -0.174302  0.817768   1.160852   \n",
       "12349      -1.260838  2.387828 -0.073097 -1.118903 -0.034546  -3.715325   \n",
       "12350      -4.929319 -0.714874 -1.581119 -0.469789 -0.116164   0.647736   \n",
       "12352      -2.053129  2.110788  0.184844  0.128379  0.087133  -1.943497   \n",
       "\n",
       "                 PC7       PC8       PC9      PC10  ...     PC116     PC117  \\\n",
       "CustomerID                                          ...                       \n",
       "12347       2.161913  7.116797  5.336110  4.424089  ... -0.007766 -0.779199   \n",
       "12348      -0.871961 -0.846827  0.460120  0.854323  ... -1.904435  0.075644   \n",
       "12349      -0.342738 -0.149002 -0.789685 -0.377883  ...  4.595645 -4.527504   \n",
       "12350       0.112682 -1.336327  1.547287 -1.190830  ... -1.869817 -0.460085   \n",
       "12352       2.383475  0.898283 -0.672848  0.081181  ...  1.695937  8.096258   \n",
       "\n",
       "                PC118     PC119     PC120     PC121     PC122     PC123  \\\n",
       "CustomerID                                                                \n",
       "12347        0.613359 -0.330509 -0.004962 -0.045697  0.148163 -0.061750   \n",
       "12348       -0.955823  1.409611  0.724342  0.464916  1.907702 -1.416770   \n",
       "12349       -2.370799 -3.396166 -3.419379 -1.304617  3.845541  0.807568   \n",
       "12350       -1.192275 -0.596812 -0.808693  0.373854 -0.282510 -0.819361   \n",
       "12352       10.325739 -8.947321 -3.582689 -2.078227  3.346192  5.183793   \n",
       "\n",
       "               PC124     PC125  \n",
       "CustomerID                      \n",
       "12347      -0.198612 -0.269058  \n",
       "12348       1.121250 -2.946993  \n",
       "12349      -4.652684  2.594639  \n",
       "12350      -1.010051  0.363232  \n",
       "12352       0.928319 -1.933235  \n",
       "\n",
       "[5 rows x 125 columns]"
      ]
     },
     "execution_count": 26,
     "metadata": {},
     "output_type": "execute_result"
    }
   ],
   "source": [
    "items_pca = pd.DataFrame(PC_items)\n",
    "\n",
    "# Name columns\n",
    "items_pca.columns = ['PC{}'.format(i+1) for i in range(PC_items.shape[1])]\n",
    "\n",
    "# Update its index\n",
    "items_pca.index = item_data.index\n",
    "\n",
    "items_pca.head()"
   ]
  },
  {
   "cell_type": "code",
   "execution_count": 27,
   "metadata": {},
   "outputs": [],
   "source": [
    "items_pca.to_csv('../data/pca_item_data.csv')"
   ]
  },
  {
   "cell_type": "code",
   "execution_count": null,
   "metadata": {},
   "outputs": [],
   "source": []
  }
 ],
 "metadata": {
  "kernelspec": {
   "display_name": "venv",
   "language": "python",
   "name": "venv"
  },
  "language_info": {
   "codemirror_mode": {
    "name": "ipython",
    "version": 3
   },
   "file_extension": ".py",
   "mimetype": "text/x-python",
   "name": "python",
   "nbconvert_exporter": "python",
   "pygments_lexer": "ipython3",
   "version": "3.7.0"
  }
 },
 "nbformat": 4,
 "nbformat_minor": 2
}
